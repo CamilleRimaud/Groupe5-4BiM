{
  "cells": [
    {
      "cell_type": "code",
      "execution_count": 1,
      "id": "5f8588e9",
      "metadata": {
        "id": "5f8588e9"
      },
      "outputs": [],
      "source": [
        "import os\n",
        "\n",
        "os.environ[\"KERAS_BACKEND\"] = \"tensorflow\"\n",
        "\n",
        "import numpy as np\n",
        "import datetime\n",
        "import matplotlib.pyplot as plt\n",
        "import tensorflow as tf\n",
        "import keras\n",
        "from keras import ops\n",
        "from keras import layers, models\n",
        "from keras import backend as K\n",
        "from keras.callbacks import TensorBoard\n",
        "from PIL import Image\n",
        "from sklearn.preprocessing import MinMaxScaler\n",
        "from sklearn.model_selection import train_test_split"
      ]
    },
    {
      "cell_type": "code",
      "source": [
        "# Connexion Google Drive\n",
        "from google.colab import drive\n",
        "drive.mount('/content/drive')"
      ],
      "metadata": {
        "colab": {
          "base_uri": "https://localhost:8080/"
        },
        "id": "aTqPTNjzMFhR",
        "outputId": "055235fc-d11a-4cc8-c5e2-d33877a0b447"
      },
      "id": "aTqPTNjzMFhR",
      "execution_count": 2,
      "outputs": [
        {
          "output_type": "stream",
          "name": "stdout",
          "text": [
            "Mounted at /content/drive\n"
          ]
        }
      ]
    },
    {
      "cell_type": "code",
      "source": [
        "cd drive/MyDrive/Colab Notebooks/data_sample_10000"
      ],
      "metadata": {
        "colab": {
          "base_uri": "https://localhost:8080/"
        },
        "id": "kdl0pQcjMPhv",
        "outputId": "159cab24-c791-4b67-feb6-af5cfe409429"
      },
      "id": "kdl0pQcjMPhv",
      "execution_count": 3,
      "outputs": [
        {
          "output_type": "stream",
          "name": "stdout",
          "text": [
            "/content/drive/MyDrive/Colab Notebooks/data_sample_10000\n"
          ]
        }
      ]
    },
    {
      "cell_type": "code",
      "source": [
        "#!unzip data_sample_10000.zip -d data_sample_10000"
      ],
      "metadata": {
        "id": "chXxpA7650I7"
      },
      "id": "chXxpA7650I7",
      "execution_count": null,
      "outputs": []
    },
    {
      "cell_type": "code",
      "source": [
        "def format_img(id):\n",
        "    # Charger l'image et la transformer en tableau numpy\n",
        "    image = Image.open(f'./{id}.jpg')\n",
        "\n",
        "    #Taille de l'image originale\n",
        "    width, height = image.size\n",
        "\n",
        "    # Normalisation dees l'Image\n",
        "    # L'image est coupée à la taille 178x178\n",
        "    \"\"\"\n",
        "    left = 0\n",
        "    top = (height/2)-(width/2)\n",
        "    right = width\n",
        "    bottom = (height/2)+(width/2)\n",
        "    \"\"\"\n",
        "    image = image.crop((0, 20, 178, 198))\n",
        "\n",
        "    # Choisissez une nouvelle résolution plus petite\n",
        "    img_resized = image.resize((128, 128)) # Attention taille de l'image 128x128\n",
        "\n",
        "    # -1 pour aplatir l'image, 3 pour les canaux RGB\n",
        "    image_np = np.array(img_resized) # ne pas aplatir\n",
        "\n",
        "    return image_np"
      ],
      "metadata": {
        "id": "Ucw8hqZLMv_5"
      },
      "id": "Ucw8hqZLMv_5",
      "execution_count": 4,
      "outputs": []
    },
    {
      "cell_type": "code",
      "source": [
        "data=[]\n",
        "\n",
        "for i in range(1, 1001):\n",
        "    id = f\"{i:06}\"  # Formate l'ID avec 5 chiffres, complété par des zéros à gauche\n",
        "    data.append(format_img(id))\n",
        "    print(id)\n",
        "\n",
        "\n",
        "data=np.array(data)\n",
        "print(data.shape)\n"
      ],
      "metadata": {
        "colab": {
          "base_uri": "https://localhost:8080/"
        },
        "id": "oT5NKvZhNoXc",
        "outputId": "4ef76967-1d01-4f77-a01a-4432b9ede195"
      },
      "id": "oT5NKvZhNoXc",
      "execution_count": 44,
      "outputs": [
        {
          "output_type": "stream",
          "name": "stdout",
          "text": [
            "000001\n",
            "000002\n",
            "000003\n",
            "000004\n",
            "000005\n",
            "000006\n",
            "000007\n",
            "000008\n",
            "000009\n",
            "000010\n",
            "000011\n",
            "000012\n",
            "000013\n",
            "000014\n",
            "000015\n",
            "000016\n",
            "000017\n",
            "000018\n",
            "000019\n",
            "000020\n",
            "000021\n",
            "000022\n",
            "000023\n",
            "000024\n",
            "000025\n",
            "000026\n",
            "000027\n",
            "000028\n",
            "000029\n",
            "000030\n",
            "000031\n",
            "000032\n",
            "000033\n",
            "000034\n",
            "000035\n",
            "000036\n",
            "000037\n",
            "000038\n",
            "000039\n",
            "000040\n",
            "000041\n",
            "000042\n",
            "000043\n",
            "000044\n",
            "000045\n",
            "000046\n",
            "000047\n",
            "000048\n",
            "000049\n",
            "000050\n",
            "000051\n",
            "000052\n",
            "000053\n",
            "000054\n",
            "000055\n",
            "000056\n",
            "000057\n",
            "000058\n",
            "000059\n",
            "000060\n",
            "000061\n",
            "000062\n",
            "000063\n",
            "000064\n",
            "000065\n",
            "000066\n",
            "000067\n",
            "000068\n",
            "000069\n",
            "000070\n",
            "000071\n",
            "000072\n",
            "000073\n",
            "000074\n",
            "000075\n",
            "000076\n",
            "000077\n",
            "000078\n",
            "000079\n",
            "000080\n",
            "000081\n",
            "000082\n",
            "000083\n",
            "000084\n",
            "000085\n",
            "000086\n",
            "000087\n",
            "000088\n",
            "000089\n",
            "000090\n",
            "000091\n",
            "000092\n",
            "000093\n",
            "000094\n",
            "000095\n",
            "000096\n",
            "000097\n",
            "000098\n",
            "000099\n",
            "000100\n",
            "000101\n",
            "000102\n",
            "000103\n",
            "000104\n",
            "000105\n",
            "000106\n",
            "000107\n",
            "000108\n",
            "000109\n",
            "000110\n",
            "000111\n",
            "000112\n",
            "000113\n",
            "000114\n",
            "000115\n",
            "000116\n",
            "000117\n",
            "000118\n",
            "000119\n",
            "000120\n",
            "000121\n",
            "000122\n",
            "000123\n",
            "000124\n",
            "000125\n",
            "000126\n",
            "000127\n",
            "000128\n",
            "000129\n",
            "000130\n",
            "000131\n",
            "000132\n",
            "000133\n",
            "000134\n",
            "000135\n",
            "000136\n",
            "000137\n",
            "000138\n",
            "000139\n",
            "000140\n",
            "000141\n",
            "000142\n",
            "000143\n",
            "000144\n",
            "000145\n",
            "000146\n",
            "000147\n",
            "000148\n",
            "000149\n",
            "000150\n",
            "000151\n",
            "000152\n",
            "000153\n",
            "000154\n",
            "000155\n",
            "000156\n",
            "000157\n",
            "000158\n",
            "000159\n",
            "000160\n",
            "000161\n",
            "000162\n",
            "000163\n",
            "000164\n",
            "000165\n",
            "000166\n",
            "000167\n",
            "000168\n",
            "000169\n",
            "000170\n",
            "000171\n",
            "000172\n",
            "000173\n",
            "000174\n",
            "000175\n",
            "000176\n",
            "000177\n",
            "000178\n",
            "000179\n",
            "000180\n",
            "000181\n",
            "000182\n",
            "000183\n",
            "000184\n",
            "000185\n",
            "000186\n",
            "000187\n",
            "000188\n",
            "000189\n",
            "000190\n",
            "000191\n",
            "000192\n",
            "000193\n",
            "000194\n",
            "000195\n",
            "000196\n",
            "000197\n",
            "000198\n",
            "000199\n",
            "000200\n",
            "000201\n",
            "000202\n",
            "000203\n",
            "000204\n",
            "000205\n",
            "000206\n",
            "000207\n",
            "000208\n",
            "000209\n",
            "000210\n",
            "000211\n",
            "000212\n",
            "000213\n",
            "000214\n",
            "000215\n",
            "000216\n",
            "000217\n",
            "000218\n",
            "000219\n",
            "000220\n",
            "000221\n",
            "000222\n",
            "000223\n",
            "000224\n",
            "000225\n",
            "000226\n",
            "000227\n",
            "000228\n",
            "000229\n",
            "000230\n",
            "000231\n",
            "000232\n",
            "000233\n",
            "000234\n",
            "000235\n",
            "000236\n",
            "000237\n",
            "000238\n",
            "000239\n",
            "000240\n",
            "000241\n",
            "000242\n",
            "000243\n",
            "000244\n",
            "000245\n",
            "000246\n",
            "000247\n",
            "000248\n",
            "000249\n",
            "000250\n",
            "000251\n",
            "000252\n",
            "000253\n",
            "000254\n",
            "000255\n",
            "000256\n",
            "000257\n",
            "000258\n",
            "000259\n",
            "000260\n",
            "000261\n",
            "000262\n",
            "000263\n",
            "000264\n",
            "000265\n",
            "000266\n",
            "000267\n",
            "000268\n",
            "000269\n",
            "000270\n",
            "000271\n",
            "000272\n",
            "000273\n",
            "000274\n",
            "000275\n",
            "000276\n",
            "000277\n",
            "000278\n",
            "000279\n",
            "000280\n",
            "000281\n",
            "000282\n",
            "000283\n",
            "000284\n",
            "000285\n",
            "000286\n",
            "000287\n",
            "000288\n",
            "000289\n",
            "000290\n",
            "000291\n",
            "000292\n",
            "000293\n",
            "000294\n",
            "000295\n",
            "000296\n",
            "000297\n",
            "000298\n",
            "000299\n",
            "000300\n",
            "000301\n",
            "000302\n",
            "000303\n",
            "000304\n",
            "000305\n",
            "000306\n",
            "000307\n",
            "000308\n",
            "000309\n",
            "000310\n",
            "000311\n",
            "000312\n",
            "000313\n",
            "000314\n",
            "000315\n",
            "000316\n",
            "000317\n",
            "000318\n",
            "000319\n",
            "000320\n",
            "000321\n",
            "000322\n",
            "000323\n",
            "000324\n",
            "000325\n",
            "000326\n",
            "000327\n",
            "000328\n",
            "000329\n",
            "000330\n",
            "000331\n",
            "000332\n",
            "000333\n",
            "000334\n",
            "000335\n",
            "000336\n",
            "000337\n",
            "000338\n",
            "000339\n",
            "000340\n",
            "000341\n",
            "000342\n",
            "000343\n",
            "000344\n",
            "000345\n",
            "000346\n",
            "000347\n",
            "000348\n",
            "000349\n",
            "000350\n",
            "000351\n",
            "000352\n",
            "000353\n",
            "000354\n",
            "000355\n",
            "000356\n",
            "000357\n",
            "000358\n",
            "000359\n",
            "000360\n",
            "000361\n",
            "000362\n",
            "000363\n",
            "000364\n",
            "000365\n",
            "000366\n",
            "000367\n",
            "000368\n",
            "000369\n",
            "000370\n",
            "000371\n",
            "000372\n",
            "000373\n",
            "000374\n",
            "000375\n",
            "000376\n",
            "000377\n",
            "000378\n",
            "000379\n",
            "000380\n",
            "000381\n",
            "000382\n",
            "000383\n",
            "000384\n",
            "000385\n",
            "000386\n",
            "000387\n",
            "000388\n",
            "000389\n",
            "000390\n",
            "000391\n",
            "000392\n",
            "000393\n",
            "000394\n",
            "000395\n",
            "000396\n",
            "000397\n",
            "000398\n",
            "000399\n",
            "000400\n",
            "000401\n",
            "000402\n",
            "000403\n",
            "000404\n",
            "000405\n",
            "000406\n",
            "000407\n",
            "000408\n",
            "000409\n",
            "000410\n",
            "000411\n",
            "000412\n",
            "000413\n",
            "000414\n",
            "000415\n",
            "000416\n",
            "000417\n",
            "000418\n",
            "000419\n",
            "000420\n",
            "000421\n",
            "000422\n",
            "000423\n",
            "000424\n",
            "000425\n",
            "000426\n",
            "000427\n",
            "000428\n",
            "000429\n",
            "000430\n",
            "000431\n",
            "000432\n",
            "000433\n",
            "000434\n",
            "000435\n",
            "000436\n",
            "000437\n",
            "000438\n",
            "000439\n",
            "000440\n",
            "000441\n",
            "000442\n",
            "000443\n",
            "000444\n",
            "000445\n",
            "000446\n",
            "000447\n",
            "000448\n",
            "000449\n",
            "000450\n",
            "000451\n",
            "000452\n",
            "000453\n",
            "000454\n",
            "000455\n",
            "000456\n",
            "000457\n",
            "000458\n",
            "000459\n",
            "000460\n",
            "000461\n",
            "000462\n",
            "000463\n",
            "000464\n",
            "000465\n",
            "000466\n",
            "000467\n",
            "000468\n",
            "000469\n",
            "000470\n",
            "000471\n",
            "000472\n",
            "000473\n",
            "000474\n",
            "000475\n",
            "000476\n",
            "000477\n",
            "000478\n",
            "000479\n",
            "000480\n",
            "000481\n",
            "000482\n",
            "000483\n",
            "000484\n",
            "000485\n",
            "000486\n",
            "000487\n",
            "000488\n",
            "000489\n",
            "000490\n",
            "000491\n",
            "000492\n",
            "000493\n",
            "000494\n",
            "000495\n",
            "000496\n",
            "000497\n",
            "000498\n",
            "000499\n",
            "000500\n",
            "000501\n",
            "000502\n",
            "000503\n",
            "000504\n",
            "000505\n",
            "000506\n",
            "000507\n",
            "000508\n",
            "000509\n",
            "000510\n",
            "000511\n",
            "000512\n",
            "000513\n",
            "000514\n",
            "000515\n",
            "000516\n",
            "000517\n",
            "000518\n",
            "000519\n",
            "000520\n",
            "000521\n",
            "000522\n",
            "000523\n",
            "000524\n",
            "000525\n",
            "000526\n",
            "000527\n",
            "000528\n",
            "000529\n",
            "000530\n",
            "000531\n",
            "000532\n",
            "000533\n",
            "000534\n",
            "000535\n",
            "000536\n",
            "000537\n",
            "000538\n",
            "000539\n",
            "000540\n",
            "000541\n",
            "000542\n",
            "000543\n",
            "000544\n",
            "000545\n",
            "000546\n",
            "000547\n",
            "000548\n",
            "000549\n",
            "000550\n",
            "000551\n",
            "000552\n",
            "000553\n",
            "000554\n",
            "000555\n",
            "000556\n",
            "000557\n",
            "000558\n",
            "000559\n",
            "000560\n",
            "000561\n",
            "000562\n",
            "000563\n",
            "000564\n",
            "000565\n",
            "000566\n",
            "000567\n",
            "000568\n",
            "000569\n",
            "000570\n",
            "000571\n",
            "000572\n",
            "000573\n",
            "000574\n",
            "000575\n",
            "000576\n",
            "000577\n",
            "000578\n",
            "000579\n",
            "000580\n",
            "000581\n",
            "000582\n",
            "000583\n",
            "000584\n",
            "000585\n",
            "000586\n",
            "000587\n",
            "000588\n",
            "000589\n",
            "000590\n",
            "000591\n",
            "000592\n",
            "000593\n",
            "000594\n",
            "000595\n",
            "000596\n",
            "000597\n",
            "000598\n",
            "000599\n",
            "000600\n",
            "000601\n",
            "000602\n",
            "000603\n",
            "000604\n",
            "000605\n",
            "000606\n",
            "000607\n",
            "000608\n",
            "000609\n",
            "000610\n",
            "000611\n",
            "000612\n",
            "000613\n",
            "000614\n",
            "000615\n",
            "000616\n",
            "000617\n",
            "000618\n",
            "000619\n",
            "000620\n",
            "000621\n",
            "000622\n",
            "000623\n",
            "000624\n",
            "000625\n",
            "000626\n",
            "000627\n",
            "000628\n",
            "000629\n",
            "000630\n",
            "000631\n",
            "000632\n",
            "000633\n",
            "000634\n",
            "000635\n",
            "000636\n",
            "000637\n",
            "000638\n",
            "000639\n",
            "000640\n",
            "000641\n",
            "000642\n",
            "000643\n",
            "000644\n",
            "000645\n",
            "000646\n",
            "000647\n",
            "000648\n",
            "000649\n",
            "000650\n",
            "000651\n",
            "000652\n",
            "000653\n",
            "000654\n",
            "000655\n",
            "000656\n",
            "000657\n",
            "000658\n",
            "000659\n",
            "000660\n",
            "000661\n",
            "000662\n",
            "000663\n",
            "000664\n",
            "000665\n",
            "000666\n",
            "000667\n",
            "000668\n",
            "000669\n",
            "000670\n",
            "000671\n",
            "000672\n",
            "000673\n",
            "000674\n",
            "000675\n",
            "000676\n",
            "000677\n",
            "000678\n",
            "000679\n",
            "000680\n",
            "000681\n",
            "000682\n",
            "000683\n",
            "000684\n",
            "000685\n",
            "000686\n",
            "000687\n",
            "000688\n",
            "000689\n",
            "000690\n",
            "000691\n",
            "000692\n",
            "000693\n",
            "000694\n",
            "000695\n",
            "000696\n",
            "000697\n",
            "000698\n",
            "000699\n",
            "000700\n",
            "000701\n",
            "000702\n",
            "000703\n",
            "000704\n",
            "000705\n",
            "000706\n",
            "000707\n",
            "000708\n",
            "000709\n",
            "000710\n",
            "000711\n",
            "000712\n",
            "000713\n",
            "000714\n",
            "000715\n",
            "000716\n",
            "000717\n",
            "000718\n",
            "000719\n",
            "000720\n",
            "000721\n",
            "000722\n",
            "000723\n",
            "000724\n",
            "000725\n",
            "000726\n",
            "000727\n",
            "000728\n",
            "000729\n",
            "000730\n",
            "000731\n",
            "000732\n",
            "000733\n",
            "000734\n",
            "000735\n",
            "000736\n",
            "000737\n",
            "000738\n",
            "000739\n",
            "000740\n",
            "000741\n",
            "000742\n",
            "000743\n",
            "000744\n",
            "000745\n",
            "000746\n",
            "000747\n",
            "000748\n",
            "000749\n",
            "000750\n",
            "000751\n",
            "000752\n",
            "000753\n",
            "000754\n",
            "000755\n",
            "000756\n",
            "000757\n",
            "000758\n",
            "000759\n",
            "000760\n",
            "000761\n",
            "000762\n",
            "000763\n",
            "000764\n",
            "000765\n",
            "000766\n",
            "000767\n",
            "000768\n",
            "000769\n",
            "000770\n",
            "000771\n",
            "000772\n",
            "000773\n",
            "000774\n",
            "000775\n",
            "000776\n",
            "000777\n",
            "000778\n",
            "000779\n",
            "000780\n",
            "000781\n",
            "000782\n",
            "000783\n",
            "000784\n",
            "000785\n",
            "000786\n",
            "000787\n",
            "000788\n",
            "000789\n",
            "000790\n",
            "000791\n",
            "000792\n",
            "000793\n",
            "000794\n",
            "000795\n",
            "000796\n",
            "000797\n",
            "000798\n",
            "000799\n",
            "000800\n",
            "000801\n",
            "000802\n",
            "000803\n",
            "000804\n",
            "000805\n",
            "000806\n",
            "000807\n",
            "000808\n",
            "000809\n",
            "000810\n",
            "000811\n",
            "000812\n",
            "000813\n",
            "000814\n",
            "000815\n",
            "000816\n",
            "000817\n",
            "000818\n",
            "000819\n",
            "000820\n",
            "000821\n",
            "000822\n",
            "000823\n",
            "000824\n",
            "000825\n",
            "000826\n",
            "000827\n",
            "000828\n",
            "000829\n",
            "000830\n",
            "000831\n",
            "000832\n",
            "000833\n",
            "000834\n",
            "000835\n",
            "000836\n",
            "000837\n",
            "000838\n",
            "000839\n",
            "000840\n",
            "000841\n",
            "000842\n",
            "000843\n",
            "000844\n",
            "000845\n",
            "000846\n",
            "000847\n",
            "000848\n",
            "000849\n",
            "000850\n",
            "000851\n",
            "000852\n",
            "000853\n",
            "000854\n",
            "000855\n",
            "000856\n",
            "000857\n",
            "000858\n",
            "000859\n",
            "000860\n",
            "000861\n",
            "000862\n",
            "000863\n",
            "000864\n",
            "000865\n",
            "000866\n",
            "000867\n",
            "000868\n",
            "000869\n",
            "000870\n",
            "000871\n",
            "000872\n",
            "000873\n",
            "000874\n",
            "000875\n",
            "000876\n",
            "000877\n",
            "000878\n",
            "000879\n",
            "000880\n",
            "000881\n",
            "000882\n",
            "000883\n",
            "000884\n",
            "000885\n",
            "000886\n",
            "000887\n",
            "000888\n",
            "000889\n",
            "000890\n",
            "000891\n",
            "000892\n",
            "000893\n",
            "000894\n",
            "000895\n",
            "000896\n",
            "000897\n",
            "000898\n",
            "000899\n",
            "000900\n",
            "000901\n",
            "000902\n",
            "000903\n",
            "000904\n",
            "000905\n",
            "000906\n",
            "000907\n",
            "000908\n",
            "000909\n",
            "000910\n",
            "000911\n",
            "000912\n",
            "000913\n",
            "000914\n",
            "000915\n",
            "000916\n",
            "000917\n",
            "000918\n",
            "000919\n",
            "000920\n",
            "000921\n",
            "000922\n",
            "000923\n",
            "000924\n",
            "000925\n",
            "000926\n",
            "000927\n",
            "000928\n",
            "000929\n",
            "000930\n",
            "000931\n",
            "000932\n",
            "000933\n",
            "000934\n",
            "000935\n",
            "000936\n",
            "000937\n",
            "000938\n",
            "000939\n",
            "000940\n",
            "000941\n",
            "000942\n",
            "000943\n",
            "000944\n",
            "000945\n",
            "000946\n",
            "000947\n",
            "000948\n",
            "000949\n",
            "000950\n",
            "000951\n",
            "000952\n",
            "000953\n",
            "000954\n",
            "000955\n",
            "000956\n",
            "000957\n",
            "000958\n",
            "000959\n",
            "000960\n",
            "000961\n",
            "000962\n",
            "000963\n",
            "000964\n",
            "000965\n",
            "000966\n",
            "000967\n",
            "000968\n",
            "000969\n",
            "000970\n",
            "000971\n",
            "000972\n",
            "000973\n",
            "000974\n",
            "000975\n",
            "000976\n",
            "000977\n",
            "000978\n",
            "000979\n",
            "000980\n",
            "000981\n",
            "000982\n",
            "000983\n",
            "000984\n",
            "000985\n",
            "000986\n",
            "000987\n",
            "000988\n",
            "000989\n",
            "000990\n",
            "000991\n",
            "000992\n",
            "000993\n",
            "000994\n",
            "000995\n",
            "000996\n",
            "000997\n",
            "000998\n",
            "000999\n",
            "001000\n",
            "(1000, 128, 128, 3)\n"
          ]
        }
      ]
    },
    {
      "cell_type": "code",
      "source": [
        "data=data[0:1000]\n",
        "# Normalisation\n",
        "data=data/255"
      ],
      "metadata": {
        "id": "CQjR265OBuFF"
      },
      "id": "CQjR265OBuFF",
      "execution_count": 46,
      "outputs": []
    },
    {
      "cell_type": "code",
      "source": [
        "# Permet de choisir un attribut selon son nom\n",
        "attributes_names = np.genfromtxt(\"list_attr_celeba.txt\", dtype=str, skip_header=1, max_rows=1)\n",
        "print(attributes_names)\n",
        "\n",
        "my_attribute='Male'\n",
        "\n",
        "index = np.where(attributes_names == f\"{my_attribute}\")[0]  # Renvoie un tableau des indices\n",
        "print(index)\n",
        "my_index=index[0]+1\n",
        "print(my_index)"
      ],
      "metadata": {
        "colab": {
          "base_uri": "https://localhost:8080/"
        },
        "id": "wos6YrIVZJ1T",
        "outputId": "cc50ef0d-1d7e-4d8c-a64b-617b5e64ad8c"
      },
      "id": "wos6YrIVZJ1T",
      "execution_count": 48,
      "outputs": [
        {
          "output_type": "stream",
          "name": "stdout",
          "text": [
            "['5_o_Clock_Shadow' 'Arched_Eyebrows' 'Attractive' 'Bags_Under_Eyes'\n",
            " 'Bald' 'Bangs' 'Big_Lips' 'Big_Nose' 'Black_Hair' 'Blond_Hair' 'Blurry'\n",
            " 'Brown_Hair' 'Bushy_Eyebrows' 'Chubby' 'Double_Chin' 'Eyeglasses'\n",
            " 'Goatee' 'Gray_Hair' 'Heavy_Makeup' 'High_Cheekbones' 'Male'\n",
            " 'Mouth_Slightly_Open' 'Mustache' 'Narrow_Eyes' 'No_Beard' 'Oval_Face'\n",
            " 'Pale_Skin' 'Pointy_Nose' 'Receding_Hairline' 'Rosy_Cheeks' 'Sideburns'\n",
            " 'Smiling' 'Straight_Hair' 'Wavy_Hair' 'Wearing_Earrings' 'Wearing_Hat'\n",
            " 'Wearing_Lipstick' 'Wearing_Necklace' 'Wearing_Necktie' 'Young']\n",
            "[20]\n",
            "21\n"
          ]
        }
      ]
    },
    {
      "cell_type": "code",
      "execution_count": 49,
      "id": "d9c6b39a",
      "metadata": {
        "colab": {
          "base_uri": "https://localhost:8080/"
        },
        "id": "d9c6b39a",
        "outputId": "cb906f49-a538-41eb-c3db-66bca865f5f0"
      },
      "outputs": [
        {
          "output_type": "stream",
          "name": "stdout",
          "text": [
            "Male repartition {'-1': 568, '1': 432}\n"
          ]
        }
      ],
      "source": [
        "attributes = np.loadtxt(\"list_attr_celeba.txt\", skiprows=2, dtype='str')\n",
        "attributes_short = attributes[0:1000]\n",
        "genre = np.array(attributes_short[:,my_index], dtype=int)\n",
        "unique, counts = np.unique(genre, return_counts=True)\n",
        "unique = map(str, unique)\n",
        "counts = map(int, counts)\n",
        "headcounts=dict(zip(unique, counts))\n",
        "\n",
        "# Permet de voir si la répartition est équilibrée\n",
        "print(f\"{my_attribute} repartition {headcounts}\")"
      ]
    },
    {
      "cell_type": "code",
      "execution_count": 50,
      "id": "153513e0",
      "metadata": {
        "id": "153513e0"
      },
      "outputs": [],
      "source": [
        "from keras import Model, Input\n",
        "\n",
        "latent_dim = 32  #  latent space dimension\n",
        "\n",
        "def build_encoder(input_shape=(128, 128, 3)):\n",
        "    img_input = Input(shape=input_shape, name=\"encoder_image_input\")\n",
        "    \"\"\"\n",
        "    label_input = Input(shape=(1,), name=\"encoder_label_input\")\n",
        "\n",
        "    # Broadcast -1/1 labels to shape=(128,128,1)\n",
        "    x_label = layers.Dense(128 * 128)(label_input)\n",
        "    x_label = layers.Reshape((128, 128, 1))(x_label)\n",
        "\n",
        "    x = layers.Concatenate(axis=-1)([img_input, x_label])\n",
        "    \"\"\"\n",
        "    x = layers.Conv2D(32, 3, activation=\"relu\", strides=1, padding=\"same\")(img_input)\n",
        "    x = layers.Conv2D(32, 3, activation=\"relu\", strides=1, padding=\"same\")(x)\n",
        "    x = layers.MaxPooling2D(2,2)(x) #Noyau de taille 2x2. Tester avec Conv2D kernel size = 2, stride  2 et pas de padding\n",
        "    x = layers.Conv2D(64, 3, activation=\"relu\", strides=1, padding=\"same\")(x)\n",
        "    x = layers.Conv2D(64, 3, activation=\"relu\", strides=1, padding=\"same\")(x)\n",
        "    x = layers.MaxPooling2D(2,2)(x)\n",
        "    x = layers.Conv2D(128, 3, activation=\"relu\", strides=1, padding=\"same\")(x)\n",
        "    x = layers.Conv2D(128, 3, activation=\"relu\", strides=1, padding=\"same\")(x)\n",
        "    x = layers.MaxPooling2D(2,2)(x)\n",
        "    x = layers.Flatten()(x)\n",
        "    x = layers.Dense(512, activation=\"relu\")(x)\n",
        "\n",
        "    z_mean = layers.Dense(latent_dim, name=\"z_mean\")(x)\n",
        "    z_log_var = layers.Dense(latent_dim, name=\"z_log_var\")(x)\n",
        "    z_log_var = layers.Lambda(lambda t: tf.clip_by_value(t, -10.0, 10.0))(z_log_var)\n",
        "\n",
        "\n",
        "\n",
        "    # Sampling layer\n",
        "    def sampling(args):\n",
        "        z_mean, z_log_var = args\n",
        "        eps = tf.random.normal(shape=(tf.shape(z_mean)[0], latent_dim))\n",
        "        return z_mean + tf.exp(0.5 * z_log_var) * eps\n",
        "\n",
        "    z = layers.Lambda(sampling, output_shape=(latent_dim,), name=\"z\")([z_mean, z_log_var])\n",
        "    #gender_logits = layers.Dense(1, activation=\"tanh\")(z)  # output interval [-1, 1]\n",
        "\n",
        "    encoder = Model([img_input], [z_mean, z_log_var, z], name=\"encoder\")\n",
        "    #encoder = Model([img_input, label_input], [z_mean, z_log_var, z, gender_logits], name=\"encoder\")\n",
        "    return encoder"
      ]
    },
    {
      "cell_type": "code",
      "execution_count": 51,
      "id": "c658bcf6",
      "metadata": {
        "id": "c658bcf6"
      },
      "outputs": [],
      "source": [
        "def build_decoder(output_shape=(128, 128, 3)):\n",
        "    latent_input = Input(shape=(latent_dim,), name=\"decoder_latent_input\")\n",
        "    \"\"\"\n",
        "    label_input = Input(shape=(1,), name=\"decoder_label_input\")\n",
        "\n",
        "    # put latent and label together\n",
        "    x = layers.Concatenate()([latent_input, label_input])\n",
        "    \"\"\"\n",
        "    x = layers.Dense(8 * 8 * 256, activation=\"relu\")(latent_input)\n",
        "    x = layers.Reshape((8, 8, 256))(x)\n",
        "\n",
        "    x = layers.Conv2DTranspose(128, 3, strides=2, padding=\"same\", activation=\"relu\")(x)\n",
        "    x = layers.Conv2DTranspose(64, 3, strides=2, padding=\"same\", activation=\"relu\")(x)\n",
        "    x = layers.Conv2DTranspose(32, 3, strides=2, padding=\"same\", activation=\"relu\")(x)\n",
        "    x = layers.Conv2DTranspose(16, 3, strides=2, padding=\"same\", activation=\"relu\")(x)\n",
        "\n",
        "    output_img = layers.Conv2DTranspose(output_shape[2], 3, activation=\"sigmoid\", padding=\"same\")(x)\n",
        "\n",
        "    decoder = Model([latent_input], output_img, name=\"decoder\")\n",
        "    #decoder = Model([latent_input, label_input], output_img, name=\"decoder\")\n",
        "    return decoder"
      ]
    },
    {
      "cell_type": "code",
      "execution_count": 52,
      "id": "95a53916",
      "metadata": {
        "id": "95a53916"
      },
      "outputs": [],
      "source": [
        "class CVAE(keras.Model):\n",
        "    def __init__(self, encoder, decoder, variational=False, **kwargs):\n",
        "        super(CVAE, self).__init__(**kwargs)\n",
        "        self.encoder = encoder\n",
        "        self.decoder = decoder\n",
        "        self.total_loss_tracker = keras.metrics.Mean(name=\"total_loss\")\n",
        "        self.reconstruction_loss_tracker = keras.metrics.Mean(name=\"reconstruction_loss\")\n",
        "\n",
        "\n",
        "        # Initialisation de l'attribut 'variational' pour contrôler la perte KL\n",
        "        self.variational = variational\n",
        "        if self.variational:\n",
        "            self.kl_loss_tracker = keras.metrics.Mean(name=\"kl_loss\")\n",
        "        else:\n",
        "            self.kl_loss_tracker = None  # Pas de KL loss si 'variational' est False\n",
        "\n",
        "    @property\n",
        "    def metrics(self):\n",
        "      # Retourne les métriques en fonction de si KL est utilisé ou non\n",
        "        metrics = [self.total_loss_tracker, self.reconstruction_loss_tracker]\n",
        "        if self.variational and self.kl_loss_tracker is not None:\n",
        "            metrics.append(self.kl_loss_tracker)\n",
        "        return metrics\n",
        "\n",
        "\n",
        "    def train_step(self, data):\n",
        "        images=data\n",
        "        #images, labels = data\n",
        "        with tf.GradientTape() as tape:\n",
        "            # Encodage\n",
        "            z_mean, z_log_var, z = self.encoder([images])\n",
        "            # Décodage\n",
        "            reconstruction = self.decoder([z_mean])\n",
        "\n",
        "            # Calcul de la reconstruction_loss (MSE)\n",
        "            reconstruction_loss = tf.reduce_mean(\n",
        "                tf.reduce_mean(\n",
        "                    keras.losses.mean_squared_error(images, reconstruction), axis=(1, 2)\n",
        "                )\n",
        "            )\n",
        "            # Calcul de la perte KL si 'variational' est True\n",
        "            if self.variational:\n",
        "              kl_loss = -0.5 * tf.reduce_mean(\n",
        "                  tf.reduce_sum(1 + z_log_var - tf.square(z_mean) - tf.exp(z_log_var), axis=1)\n",
        "                  )\n",
        "              total_loss = reconstruction_loss + 0.01 * kl_loss\n",
        "              self.kl_loss_tracker.update_state(kl_loss)  # Mise à jour de la perte KL\n",
        "            else:\n",
        "                total_loss = reconstruction_loss\n",
        "                #total_loss = reconstruction_loss #+ 0.01 * kl_loss #+ 2.0 * gender_loss # on peut changer le poids pour mieux différencier les attributs sur les images\n",
        "            #labels = tf.cast(labels, tf.float32)\n",
        "            # Add gender_loss as a study factor\n",
        "            #gender_loss = tf.reduce_mean(tf.square(gender_logits - labels))  # labels: -1/1\n",
        "\n",
        "\n",
        "        # Calcul des gradients et mise à jour des poids\n",
        "        grads = tape.gradient(total_loss, self.trainable_weights)\n",
        "        self.optimizer.apply_gradients(zip(grads, self.trainable_weights))\n",
        "\n",
        "        # Mise à jour des métriques\n",
        "        self.total_loss_tracker.update_state(total_loss)\n",
        "        self.reconstruction_loss_tracker.update_state(reconstruction_loss)\n",
        "\n",
        "\n",
        "        # Sauvegarder les vecteurs latents pendant l'entraînement (sans utiliser numpy)\n",
        "        self.latent_vectors_history.append(z_mean)  # Ajoute directement les tensors\n",
        "\n",
        "        return {\n",
        "            \"loss\": self.total_loss_tracker.result(),\n",
        "            \"reconstruction_loss\": self.reconstruction_loss_tracker.result(),\n",
        "            \"kl_loss\": self.kl_loss_tracker.result() if self.variational else 0.0,\n",
        "            #\"gender_loss\": gender_loss,\n",
        "        }"
      ]
    },
    {
      "cell_type": "code",
      "source": [
        "from tensorflow.keras.callbacks import Callback\n",
        "class LatentSpaceVisualizationCallback(Callback):\n",
        "    def __init__(self, frequency=10):  # fréquence d'affichage tous les X epochs\n",
        "        super(LatentSpaceVisualizationCallback, self).__init__()\n",
        "        self.frequency = frequency\n",
        "\n",
        "    def on_epoch_end(self, epoch, logs=None):\n",
        "        if (epoch + 1) % self.frequency == 0:  # Afficher les visualisations à chaque fréquence d'époques\n",
        "            print(f\"Visualizing latent space at epoch {epoch + 1}...\")\n",
        "            self.plot_latent_space()\n",
        "\n",
        "    def plot_latent_space(self):\n",
        "        # Récupérer les vecteurs latents du modèle CVAE\n",
        "        latent_vectors = np.concatenate([latent_vector.numpy() for latent_vector in self.model.latent_vectors_history], axis=0)\n",
        "\n",
        "        # Appliquer t-SNE pour réduire la dimension des vecteurs latents à 2D\n",
        "        tsne = TSNE(n_components=2)\n",
        "        latent_2d = tsne.fit_transform(latent_vectors)\n",
        "\n",
        "        # Visualisation des vecteurs latents projetés en 2D\n",
        "        plt.figure(figsize=(8, 6))\n",
        "        plt.scatter(latent_2d[:, 0], latent_2d[:, 1], alpha=0.5)\n",
        "        plt.title(f\"Latent Space with t-SNE (Epoch {len(self.model.latent_vectors_history)})\")\n",
        "        plt.xlabel(\"Latent Dimension 1\")\n",
        "        plt.ylabel(\"Latent Dimension 2\")\n",
        "        plt.show()\n"
      ],
      "metadata": {
        "id": "4GZoafD-hWSg"
      },
      "id": "4GZoafD-hWSg",
      "execution_count": 53,
      "outputs": []
    },
    {
      "cell_type": "code",
      "execution_count": 54,
      "id": "69d97c14",
      "metadata": {
        "colab": {
          "base_uri": "https://localhost:8080/",
          "height": 750
        },
        "id": "69d97c14",
        "outputId": "30129106-5a1c-48b4-9251-37fea4de2ba2"
      },
      "outputs": [
        {
          "output_type": "display_data",
          "data": {
            "text/plain": [
              "\u001b[1mModel: \"encoder\"\u001b[0m\n"
            ],
            "text/html": [
              "<pre style=\"white-space:pre;overflow-x:auto;line-height:normal;font-family:Menlo,'DejaVu Sans Mono',consolas,'Courier New',monospace\"><span style=\"font-weight: bold\">Model: \"encoder\"</span>\n",
              "</pre>\n"
            ]
          },
          "metadata": {}
        },
        {
          "output_type": "display_data",
          "data": {
            "text/plain": [
              "┏━━━━━━━━━━━━━━━━━━━━━━━━━━━┳━━━━━━━━━━━━━━━━━━━━━━━━┳━━━━━━━━━━━━━━━━┳━━━━━━━━━━━━━━━━━━━━━━━━┓\n",
              "┃\u001b[1m \u001b[0m\u001b[1mLayer (type)             \u001b[0m\u001b[1m \u001b[0m┃\u001b[1m \u001b[0m\u001b[1mOutput Shape          \u001b[0m\u001b[1m \u001b[0m┃\u001b[1m \u001b[0m\u001b[1m       Param #\u001b[0m\u001b[1m \u001b[0m┃\u001b[1m \u001b[0m\u001b[1mConnected to          \u001b[0m\u001b[1m \u001b[0m┃\n",
              "┡━━━━━━━━━━━━━━━━━━━━━━━━━━━╇━━━━━━━━━━━━━━━━━━━━━━━━╇━━━━━━━━━━━━━━━━╇━━━━━━━━━━━━━━━━━━━━━━━━┩\n",
              "│ encoder_image_input       │ (\u001b[38;5;45mNone\u001b[0m, \u001b[38;5;34m128\u001b[0m, \u001b[38;5;34m128\u001b[0m, \u001b[38;5;34m3\u001b[0m)    │              \u001b[38;5;34m0\u001b[0m │ -                      │\n",
              "│ (\u001b[38;5;33mInputLayer\u001b[0m)              │                        │                │                        │\n",
              "├───────────────────────────┼────────────────────────┼────────────────┼────────────────────────┤\n",
              "│ conv2d_6 (\u001b[38;5;33mConv2D\u001b[0m)         │ (\u001b[38;5;45mNone\u001b[0m, \u001b[38;5;34m128\u001b[0m, \u001b[38;5;34m128\u001b[0m, \u001b[38;5;34m32\u001b[0m)   │            \u001b[38;5;34m896\u001b[0m │ encoder_image_input[\u001b[38;5;34m0\u001b[0m… │\n",
              "├───────────────────────────┼────────────────────────┼────────────────┼────────────────────────┤\n",
              "│ conv2d_7 (\u001b[38;5;33mConv2D\u001b[0m)         │ (\u001b[38;5;45mNone\u001b[0m, \u001b[38;5;34m128\u001b[0m, \u001b[38;5;34m128\u001b[0m, \u001b[38;5;34m32\u001b[0m)   │          \u001b[38;5;34m9,248\u001b[0m │ conv2d_6[\u001b[38;5;34m0\u001b[0m][\u001b[38;5;34m0\u001b[0m]         │\n",
              "├───────────────────────────┼────────────────────────┼────────────────┼────────────────────────┤\n",
              "│ max_pooling2d_3           │ (\u001b[38;5;45mNone\u001b[0m, \u001b[38;5;34m64\u001b[0m, \u001b[38;5;34m64\u001b[0m, \u001b[38;5;34m32\u001b[0m)     │              \u001b[38;5;34m0\u001b[0m │ conv2d_7[\u001b[38;5;34m0\u001b[0m][\u001b[38;5;34m0\u001b[0m]         │\n",
              "│ (\u001b[38;5;33mMaxPooling2D\u001b[0m)            │                        │                │                        │\n",
              "├───────────────────────────┼────────────────────────┼────────────────┼────────────────────────┤\n",
              "│ conv2d_8 (\u001b[38;5;33mConv2D\u001b[0m)         │ (\u001b[38;5;45mNone\u001b[0m, \u001b[38;5;34m64\u001b[0m, \u001b[38;5;34m64\u001b[0m, \u001b[38;5;34m64\u001b[0m)     │         \u001b[38;5;34m18,496\u001b[0m │ max_pooling2d_3[\u001b[38;5;34m0\u001b[0m][\u001b[38;5;34m0\u001b[0m]  │\n",
              "├───────────────────────────┼────────────────────────┼────────────────┼────────────────────────┤\n",
              "│ conv2d_9 (\u001b[38;5;33mConv2D\u001b[0m)         │ (\u001b[38;5;45mNone\u001b[0m, \u001b[38;5;34m64\u001b[0m, \u001b[38;5;34m64\u001b[0m, \u001b[38;5;34m64\u001b[0m)     │         \u001b[38;5;34m36,928\u001b[0m │ conv2d_8[\u001b[38;5;34m0\u001b[0m][\u001b[38;5;34m0\u001b[0m]         │\n",
              "├───────────────────────────┼────────────────────────┼────────────────┼────────────────────────┤\n",
              "│ max_pooling2d_4           │ (\u001b[38;5;45mNone\u001b[0m, \u001b[38;5;34m32\u001b[0m, \u001b[38;5;34m32\u001b[0m, \u001b[38;5;34m64\u001b[0m)     │              \u001b[38;5;34m0\u001b[0m │ conv2d_9[\u001b[38;5;34m0\u001b[0m][\u001b[38;5;34m0\u001b[0m]         │\n",
              "│ (\u001b[38;5;33mMaxPooling2D\u001b[0m)            │                        │                │                        │\n",
              "├───────────────────────────┼────────────────────────┼────────────────┼────────────────────────┤\n",
              "│ conv2d_10 (\u001b[38;5;33mConv2D\u001b[0m)        │ (\u001b[38;5;45mNone\u001b[0m, \u001b[38;5;34m32\u001b[0m, \u001b[38;5;34m32\u001b[0m, \u001b[38;5;34m128\u001b[0m)    │         \u001b[38;5;34m73,856\u001b[0m │ max_pooling2d_4[\u001b[38;5;34m0\u001b[0m][\u001b[38;5;34m0\u001b[0m]  │\n",
              "├───────────────────────────┼────────────────────────┼────────────────┼────────────────────────┤\n",
              "│ conv2d_11 (\u001b[38;5;33mConv2D\u001b[0m)        │ (\u001b[38;5;45mNone\u001b[0m, \u001b[38;5;34m32\u001b[0m, \u001b[38;5;34m32\u001b[0m, \u001b[38;5;34m128\u001b[0m)    │        \u001b[38;5;34m147,584\u001b[0m │ conv2d_10[\u001b[38;5;34m0\u001b[0m][\u001b[38;5;34m0\u001b[0m]        │\n",
              "├───────────────────────────┼────────────────────────┼────────────────┼────────────────────────┤\n",
              "│ max_pooling2d_5           │ (\u001b[38;5;45mNone\u001b[0m, \u001b[38;5;34m16\u001b[0m, \u001b[38;5;34m16\u001b[0m, \u001b[38;5;34m128\u001b[0m)    │              \u001b[38;5;34m0\u001b[0m │ conv2d_11[\u001b[38;5;34m0\u001b[0m][\u001b[38;5;34m0\u001b[0m]        │\n",
              "│ (\u001b[38;5;33mMaxPooling2D\u001b[0m)            │                        │                │                        │\n",
              "├───────────────────────────┼────────────────────────┼────────────────┼────────────────────────┤\n",
              "│ flatten_1 (\u001b[38;5;33mFlatten\u001b[0m)       │ (\u001b[38;5;45mNone\u001b[0m, \u001b[38;5;34m32768\u001b[0m)          │              \u001b[38;5;34m0\u001b[0m │ max_pooling2d_5[\u001b[38;5;34m0\u001b[0m][\u001b[38;5;34m0\u001b[0m]  │\n",
              "├───────────────────────────┼────────────────────────┼────────────────┼────────────────────────┤\n",
              "│ dense_2 (\u001b[38;5;33mDense\u001b[0m)           │ (\u001b[38;5;45mNone\u001b[0m, \u001b[38;5;34m512\u001b[0m)            │     \u001b[38;5;34m16,777,728\u001b[0m │ flatten_1[\u001b[38;5;34m0\u001b[0m][\u001b[38;5;34m0\u001b[0m]        │\n",
              "├───────────────────────────┼────────────────────────┼────────────────┼────────────────────────┤\n",
              "│ z_log_var (\u001b[38;5;33mDense\u001b[0m)         │ (\u001b[38;5;45mNone\u001b[0m, \u001b[38;5;34m32\u001b[0m)             │         \u001b[38;5;34m16,416\u001b[0m │ dense_2[\u001b[38;5;34m0\u001b[0m][\u001b[38;5;34m0\u001b[0m]          │\n",
              "├───────────────────────────┼────────────────────────┼────────────────┼────────────────────────┤\n",
              "│ z_mean (\u001b[38;5;33mDense\u001b[0m)            │ (\u001b[38;5;45mNone\u001b[0m, \u001b[38;5;34m32\u001b[0m)             │         \u001b[38;5;34m16,416\u001b[0m │ dense_2[\u001b[38;5;34m0\u001b[0m][\u001b[38;5;34m0\u001b[0m]          │\n",
              "├───────────────────────────┼────────────────────────┼────────────────┼────────────────────────┤\n",
              "│ lambda_1 (\u001b[38;5;33mLambda\u001b[0m)         │ (\u001b[38;5;45mNone\u001b[0m, \u001b[38;5;34m32\u001b[0m)             │              \u001b[38;5;34m0\u001b[0m │ z_log_var[\u001b[38;5;34m0\u001b[0m][\u001b[38;5;34m0\u001b[0m]        │\n",
              "├───────────────────────────┼────────────────────────┼────────────────┼────────────────────────┤\n",
              "│ z (\u001b[38;5;33mLambda\u001b[0m)                │ (\u001b[38;5;45mNone\u001b[0m, \u001b[38;5;34m32\u001b[0m)             │              \u001b[38;5;34m0\u001b[0m │ z_mean[\u001b[38;5;34m0\u001b[0m][\u001b[38;5;34m0\u001b[0m],          │\n",
              "│                           │                        │                │ lambda_1[\u001b[38;5;34m0\u001b[0m][\u001b[38;5;34m0\u001b[0m]         │\n",
              "└───────────────────────────┴────────────────────────┴────────────────┴────────────────────────┘\n"
            ],
            "text/html": [
              "<pre style=\"white-space:pre;overflow-x:auto;line-height:normal;font-family:Menlo,'DejaVu Sans Mono',consolas,'Courier New',monospace\">┏━━━━━━━━━━━━━━━━━━━━━━━━━━━┳━━━━━━━━━━━━━━━━━━━━━━━━┳━━━━━━━━━━━━━━━━┳━━━━━━━━━━━━━━━━━━━━━━━━┓\n",
              "┃<span style=\"font-weight: bold\"> Layer (type)              </span>┃<span style=\"font-weight: bold\"> Output Shape           </span>┃<span style=\"font-weight: bold\">        Param # </span>┃<span style=\"font-weight: bold\"> Connected to           </span>┃\n",
              "┡━━━━━━━━━━━━━━━━━━━━━━━━━━━╇━━━━━━━━━━━━━━━━━━━━━━━━╇━━━━━━━━━━━━━━━━╇━━━━━━━━━━━━━━━━━━━━━━━━┩\n",
              "│ encoder_image_input       │ (<span style=\"color: #00d7ff; text-decoration-color: #00d7ff\">None</span>, <span style=\"color: #00af00; text-decoration-color: #00af00\">128</span>, <span style=\"color: #00af00; text-decoration-color: #00af00\">128</span>, <span style=\"color: #00af00; text-decoration-color: #00af00\">3</span>)    │              <span style=\"color: #00af00; text-decoration-color: #00af00\">0</span> │ -                      │\n",
              "│ (<span style=\"color: #0087ff; text-decoration-color: #0087ff\">InputLayer</span>)              │                        │                │                        │\n",
              "├───────────────────────────┼────────────────────────┼────────────────┼────────────────────────┤\n",
              "│ conv2d_6 (<span style=\"color: #0087ff; text-decoration-color: #0087ff\">Conv2D</span>)         │ (<span style=\"color: #00d7ff; text-decoration-color: #00d7ff\">None</span>, <span style=\"color: #00af00; text-decoration-color: #00af00\">128</span>, <span style=\"color: #00af00; text-decoration-color: #00af00\">128</span>, <span style=\"color: #00af00; text-decoration-color: #00af00\">32</span>)   │            <span style=\"color: #00af00; text-decoration-color: #00af00\">896</span> │ encoder_image_input[<span style=\"color: #00af00; text-decoration-color: #00af00\">0</span>… │\n",
              "├───────────────────────────┼────────────────────────┼────────────────┼────────────────────────┤\n",
              "│ conv2d_7 (<span style=\"color: #0087ff; text-decoration-color: #0087ff\">Conv2D</span>)         │ (<span style=\"color: #00d7ff; text-decoration-color: #00d7ff\">None</span>, <span style=\"color: #00af00; text-decoration-color: #00af00\">128</span>, <span style=\"color: #00af00; text-decoration-color: #00af00\">128</span>, <span style=\"color: #00af00; text-decoration-color: #00af00\">32</span>)   │          <span style=\"color: #00af00; text-decoration-color: #00af00\">9,248</span> │ conv2d_6[<span style=\"color: #00af00; text-decoration-color: #00af00\">0</span>][<span style=\"color: #00af00; text-decoration-color: #00af00\">0</span>]         │\n",
              "├───────────────────────────┼────────────────────────┼────────────────┼────────────────────────┤\n",
              "│ max_pooling2d_3           │ (<span style=\"color: #00d7ff; text-decoration-color: #00d7ff\">None</span>, <span style=\"color: #00af00; text-decoration-color: #00af00\">64</span>, <span style=\"color: #00af00; text-decoration-color: #00af00\">64</span>, <span style=\"color: #00af00; text-decoration-color: #00af00\">32</span>)     │              <span style=\"color: #00af00; text-decoration-color: #00af00\">0</span> │ conv2d_7[<span style=\"color: #00af00; text-decoration-color: #00af00\">0</span>][<span style=\"color: #00af00; text-decoration-color: #00af00\">0</span>]         │\n",
              "│ (<span style=\"color: #0087ff; text-decoration-color: #0087ff\">MaxPooling2D</span>)            │                        │                │                        │\n",
              "├───────────────────────────┼────────────────────────┼────────────────┼────────────────────────┤\n",
              "│ conv2d_8 (<span style=\"color: #0087ff; text-decoration-color: #0087ff\">Conv2D</span>)         │ (<span style=\"color: #00d7ff; text-decoration-color: #00d7ff\">None</span>, <span style=\"color: #00af00; text-decoration-color: #00af00\">64</span>, <span style=\"color: #00af00; text-decoration-color: #00af00\">64</span>, <span style=\"color: #00af00; text-decoration-color: #00af00\">64</span>)     │         <span style=\"color: #00af00; text-decoration-color: #00af00\">18,496</span> │ max_pooling2d_3[<span style=\"color: #00af00; text-decoration-color: #00af00\">0</span>][<span style=\"color: #00af00; text-decoration-color: #00af00\">0</span>]  │\n",
              "├───────────────────────────┼────────────────────────┼────────────────┼────────────────────────┤\n",
              "│ conv2d_9 (<span style=\"color: #0087ff; text-decoration-color: #0087ff\">Conv2D</span>)         │ (<span style=\"color: #00d7ff; text-decoration-color: #00d7ff\">None</span>, <span style=\"color: #00af00; text-decoration-color: #00af00\">64</span>, <span style=\"color: #00af00; text-decoration-color: #00af00\">64</span>, <span style=\"color: #00af00; text-decoration-color: #00af00\">64</span>)     │         <span style=\"color: #00af00; text-decoration-color: #00af00\">36,928</span> │ conv2d_8[<span style=\"color: #00af00; text-decoration-color: #00af00\">0</span>][<span style=\"color: #00af00; text-decoration-color: #00af00\">0</span>]         │\n",
              "├───────────────────────────┼────────────────────────┼────────────────┼────────────────────────┤\n",
              "│ max_pooling2d_4           │ (<span style=\"color: #00d7ff; text-decoration-color: #00d7ff\">None</span>, <span style=\"color: #00af00; text-decoration-color: #00af00\">32</span>, <span style=\"color: #00af00; text-decoration-color: #00af00\">32</span>, <span style=\"color: #00af00; text-decoration-color: #00af00\">64</span>)     │              <span style=\"color: #00af00; text-decoration-color: #00af00\">0</span> │ conv2d_9[<span style=\"color: #00af00; text-decoration-color: #00af00\">0</span>][<span style=\"color: #00af00; text-decoration-color: #00af00\">0</span>]         │\n",
              "│ (<span style=\"color: #0087ff; text-decoration-color: #0087ff\">MaxPooling2D</span>)            │                        │                │                        │\n",
              "├───────────────────────────┼────────────────────────┼────────────────┼────────────────────────┤\n",
              "│ conv2d_10 (<span style=\"color: #0087ff; text-decoration-color: #0087ff\">Conv2D</span>)        │ (<span style=\"color: #00d7ff; text-decoration-color: #00d7ff\">None</span>, <span style=\"color: #00af00; text-decoration-color: #00af00\">32</span>, <span style=\"color: #00af00; text-decoration-color: #00af00\">32</span>, <span style=\"color: #00af00; text-decoration-color: #00af00\">128</span>)    │         <span style=\"color: #00af00; text-decoration-color: #00af00\">73,856</span> │ max_pooling2d_4[<span style=\"color: #00af00; text-decoration-color: #00af00\">0</span>][<span style=\"color: #00af00; text-decoration-color: #00af00\">0</span>]  │\n",
              "├───────────────────────────┼────────────────────────┼────────────────┼────────────────────────┤\n",
              "│ conv2d_11 (<span style=\"color: #0087ff; text-decoration-color: #0087ff\">Conv2D</span>)        │ (<span style=\"color: #00d7ff; text-decoration-color: #00d7ff\">None</span>, <span style=\"color: #00af00; text-decoration-color: #00af00\">32</span>, <span style=\"color: #00af00; text-decoration-color: #00af00\">32</span>, <span style=\"color: #00af00; text-decoration-color: #00af00\">128</span>)    │        <span style=\"color: #00af00; text-decoration-color: #00af00\">147,584</span> │ conv2d_10[<span style=\"color: #00af00; text-decoration-color: #00af00\">0</span>][<span style=\"color: #00af00; text-decoration-color: #00af00\">0</span>]        │\n",
              "├───────────────────────────┼────────────────────────┼────────────────┼────────────────────────┤\n",
              "│ max_pooling2d_5           │ (<span style=\"color: #00d7ff; text-decoration-color: #00d7ff\">None</span>, <span style=\"color: #00af00; text-decoration-color: #00af00\">16</span>, <span style=\"color: #00af00; text-decoration-color: #00af00\">16</span>, <span style=\"color: #00af00; text-decoration-color: #00af00\">128</span>)    │              <span style=\"color: #00af00; text-decoration-color: #00af00\">0</span> │ conv2d_11[<span style=\"color: #00af00; text-decoration-color: #00af00\">0</span>][<span style=\"color: #00af00; text-decoration-color: #00af00\">0</span>]        │\n",
              "│ (<span style=\"color: #0087ff; text-decoration-color: #0087ff\">MaxPooling2D</span>)            │                        │                │                        │\n",
              "├───────────────────────────┼────────────────────────┼────────────────┼────────────────────────┤\n",
              "│ flatten_1 (<span style=\"color: #0087ff; text-decoration-color: #0087ff\">Flatten</span>)       │ (<span style=\"color: #00d7ff; text-decoration-color: #00d7ff\">None</span>, <span style=\"color: #00af00; text-decoration-color: #00af00\">32768</span>)          │              <span style=\"color: #00af00; text-decoration-color: #00af00\">0</span> │ max_pooling2d_5[<span style=\"color: #00af00; text-decoration-color: #00af00\">0</span>][<span style=\"color: #00af00; text-decoration-color: #00af00\">0</span>]  │\n",
              "├───────────────────────────┼────────────────────────┼────────────────┼────────────────────────┤\n",
              "│ dense_2 (<span style=\"color: #0087ff; text-decoration-color: #0087ff\">Dense</span>)           │ (<span style=\"color: #00d7ff; text-decoration-color: #00d7ff\">None</span>, <span style=\"color: #00af00; text-decoration-color: #00af00\">512</span>)            │     <span style=\"color: #00af00; text-decoration-color: #00af00\">16,777,728</span> │ flatten_1[<span style=\"color: #00af00; text-decoration-color: #00af00\">0</span>][<span style=\"color: #00af00; text-decoration-color: #00af00\">0</span>]        │\n",
              "├───────────────────────────┼────────────────────────┼────────────────┼────────────────────────┤\n",
              "│ z_log_var (<span style=\"color: #0087ff; text-decoration-color: #0087ff\">Dense</span>)         │ (<span style=\"color: #00d7ff; text-decoration-color: #00d7ff\">None</span>, <span style=\"color: #00af00; text-decoration-color: #00af00\">32</span>)             │         <span style=\"color: #00af00; text-decoration-color: #00af00\">16,416</span> │ dense_2[<span style=\"color: #00af00; text-decoration-color: #00af00\">0</span>][<span style=\"color: #00af00; text-decoration-color: #00af00\">0</span>]          │\n",
              "├───────────────────────────┼────────────────────────┼────────────────┼────────────────────────┤\n",
              "│ z_mean (<span style=\"color: #0087ff; text-decoration-color: #0087ff\">Dense</span>)            │ (<span style=\"color: #00d7ff; text-decoration-color: #00d7ff\">None</span>, <span style=\"color: #00af00; text-decoration-color: #00af00\">32</span>)             │         <span style=\"color: #00af00; text-decoration-color: #00af00\">16,416</span> │ dense_2[<span style=\"color: #00af00; text-decoration-color: #00af00\">0</span>][<span style=\"color: #00af00; text-decoration-color: #00af00\">0</span>]          │\n",
              "├───────────────────────────┼────────────────────────┼────────────────┼────────────────────────┤\n",
              "│ lambda_1 (<span style=\"color: #0087ff; text-decoration-color: #0087ff\">Lambda</span>)         │ (<span style=\"color: #00d7ff; text-decoration-color: #00d7ff\">None</span>, <span style=\"color: #00af00; text-decoration-color: #00af00\">32</span>)             │              <span style=\"color: #00af00; text-decoration-color: #00af00\">0</span> │ z_log_var[<span style=\"color: #00af00; text-decoration-color: #00af00\">0</span>][<span style=\"color: #00af00; text-decoration-color: #00af00\">0</span>]        │\n",
              "├───────────────────────────┼────────────────────────┼────────────────┼────────────────────────┤\n",
              "│ z (<span style=\"color: #0087ff; text-decoration-color: #0087ff\">Lambda</span>)                │ (<span style=\"color: #00d7ff; text-decoration-color: #00d7ff\">None</span>, <span style=\"color: #00af00; text-decoration-color: #00af00\">32</span>)             │              <span style=\"color: #00af00; text-decoration-color: #00af00\">0</span> │ z_mean[<span style=\"color: #00af00; text-decoration-color: #00af00\">0</span>][<span style=\"color: #00af00; text-decoration-color: #00af00\">0</span>],          │\n",
              "│                           │                        │                │ lambda_1[<span style=\"color: #00af00; text-decoration-color: #00af00\">0</span>][<span style=\"color: #00af00; text-decoration-color: #00af00\">0</span>]         │\n",
              "└───────────────────────────┴────────────────────────┴────────────────┴────────────────────────┘\n",
              "</pre>\n"
            ]
          },
          "metadata": {}
        },
        {
          "output_type": "display_data",
          "data": {
            "text/plain": [
              "\u001b[1m Total params: \u001b[0m\u001b[38;5;34m17,097,568\u001b[0m (65.22 MB)\n"
            ],
            "text/html": [
              "<pre style=\"white-space:pre;overflow-x:auto;line-height:normal;font-family:Menlo,'DejaVu Sans Mono',consolas,'Courier New',monospace\"><span style=\"font-weight: bold\"> Total params: </span><span style=\"color: #00af00; text-decoration-color: #00af00\">17,097,568</span> (65.22 MB)\n",
              "</pre>\n"
            ]
          },
          "metadata": {}
        },
        {
          "output_type": "display_data",
          "data": {
            "text/plain": [
              "\u001b[1m Trainable params: \u001b[0m\u001b[38;5;34m17,097,568\u001b[0m (65.22 MB)\n"
            ],
            "text/html": [
              "<pre style=\"white-space:pre;overflow-x:auto;line-height:normal;font-family:Menlo,'DejaVu Sans Mono',consolas,'Courier New',monospace\"><span style=\"font-weight: bold\"> Trainable params: </span><span style=\"color: #00af00; text-decoration-color: #00af00\">17,097,568</span> (65.22 MB)\n",
              "</pre>\n"
            ]
          },
          "metadata": {}
        },
        {
          "output_type": "display_data",
          "data": {
            "text/plain": [
              "\u001b[1m Non-trainable params: \u001b[0m\u001b[38;5;34m0\u001b[0m (0.00 B)\n"
            ],
            "text/html": [
              "<pre style=\"white-space:pre;overflow-x:auto;line-height:normal;font-family:Menlo,'DejaVu Sans Mono',consolas,'Courier New',monospace\"><span style=\"font-weight: bold\"> Non-trainable params: </span><span style=\"color: #00af00; text-decoration-color: #00af00\">0</span> (0.00 B)\n",
              "</pre>\n"
            ]
          },
          "metadata": {}
        }
      ],
      "source": [
        "encoder = build_encoder(input_shape=(128, 128, 3))\n",
        "decoder = build_decoder(output_shape=(128, 128, 3))\n",
        "encoder.summary()"
      ]
    },
    {
      "cell_type": "code",
      "execution_count": 55,
      "id": "bd3964bb",
      "metadata": {
        "colab": {
          "base_uri": "https://localhost:8080/",
          "height": 400
        },
        "id": "bd3964bb",
        "outputId": "f49dc4d1-5acf-4b2a-cab2-7d5c5927220d"
      },
      "outputs": [
        {
          "output_type": "display_data",
          "data": {
            "text/plain": [
              "\u001b[1mModel: \"decoder\"\u001b[0m\n"
            ],
            "text/html": [
              "<pre style=\"white-space:pre;overflow-x:auto;line-height:normal;font-family:Menlo,'DejaVu Sans Mono',consolas,'Courier New',monospace\"><span style=\"font-weight: bold\">Model: \"decoder\"</span>\n",
              "</pre>\n"
            ]
          },
          "metadata": {}
        },
        {
          "output_type": "display_data",
          "data": {
            "text/plain": [
              "┏━━━━━━━━━━━━━━━━━━━━━━━━━━━━━━━━━━━━━━┳━━━━━━━━━━━━━━━━━━━━━━━━━━━━━┳━━━━━━━━━━━━━━━━━┓\n",
              "┃\u001b[1m \u001b[0m\u001b[1mLayer (type)                        \u001b[0m\u001b[1m \u001b[0m┃\u001b[1m \u001b[0m\u001b[1mOutput Shape               \u001b[0m\u001b[1m \u001b[0m┃\u001b[1m \u001b[0m\u001b[1m        Param #\u001b[0m\u001b[1m \u001b[0m┃\n",
              "┡━━━━━━━━━━━━━━━━━━━━━━━━━━━━━━━━━━━━━━╇━━━━━━━━━━━━━━━━━━━━━━━━━━━━━╇━━━━━━━━━━━━━━━━━┩\n",
              "│ decoder_latent_input (\u001b[38;5;33mInputLayer\u001b[0m)    │ (\u001b[38;5;45mNone\u001b[0m, \u001b[38;5;34m32\u001b[0m)                  │               \u001b[38;5;34m0\u001b[0m │\n",
              "├──────────────────────────────────────┼─────────────────────────────┼─────────────────┤\n",
              "│ dense_3 (\u001b[38;5;33mDense\u001b[0m)                      │ (\u001b[38;5;45mNone\u001b[0m, \u001b[38;5;34m16384\u001b[0m)               │         \u001b[38;5;34m540,672\u001b[0m │\n",
              "├──────────────────────────────────────┼─────────────────────────────┼─────────────────┤\n",
              "│ reshape_1 (\u001b[38;5;33mReshape\u001b[0m)                  │ (\u001b[38;5;45mNone\u001b[0m, \u001b[38;5;34m8\u001b[0m, \u001b[38;5;34m8\u001b[0m, \u001b[38;5;34m256\u001b[0m)           │               \u001b[38;5;34m0\u001b[0m │\n",
              "├──────────────────────────────────────┼─────────────────────────────┼─────────────────┤\n",
              "│ conv2d_transpose_5 (\u001b[38;5;33mConv2DTranspose\u001b[0m) │ (\u001b[38;5;45mNone\u001b[0m, \u001b[38;5;34m16\u001b[0m, \u001b[38;5;34m16\u001b[0m, \u001b[38;5;34m128\u001b[0m)         │         \u001b[38;5;34m295,040\u001b[0m │\n",
              "├──────────────────────────────────────┼─────────────────────────────┼─────────────────┤\n",
              "│ conv2d_transpose_6 (\u001b[38;5;33mConv2DTranspose\u001b[0m) │ (\u001b[38;5;45mNone\u001b[0m, \u001b[38;5;34m32\u001b[0m, \u001b[38;5;34m32\u001b[0m, \u001b[38;5;34m64\u001b[0m)          │          \u001b[38;5;34m73,792\u001b[0m │\n",
              "├──────────────────────────────────────┼─────────────────────────────┼─────────────────┤\n",
              "│ conv2d_transpose_7 (\u001b[38;5;33mConv2DTranspose\u001b[0m) │ (\u001b[38;5;45mNone\u001b[0m, \u001b[38;5;34m64\u001b[0m, \u001b[38;5;34m64\u001b[0m, \u001b[38;5;34m32\u001b[0m)          │          \u001b[38;5;34m18,464\u001b[0m │\n",
              "├──────────────────────────────────────┼─────────────────────────────┼─────────────────┤\n",
              "│ conv2d_transpose_8 (\u001b[38;5;33mConv2DTranspose\u001b[0m) │ (\u001b[38;5;45mNone\u001b[0m, \u001b[38;5;34m128\u001b[0m, \u001b[38;5;34m128\u001b[0m, \u001b[38;5;34m16\u001b[0m)        │           \u001b[38;5;34m4,624\u001b[0m │\n",
              "├──────────────────────────────────────┼─────────────────────────────┼─────────────────┤\n",
              "│ conv2d_transpose_9 (\u001b[38;5;33mConv2DTranspose\u001b[0m) │ (\u001b[38;5;45mNone\u001b[0m, \u001b[38;5;34m128\u001b[0m, \u001b[38;5;34m128\u001b[0m, \u001b[38;5;34m3\u001b[0m)         │             \u001b[38;5;34m435\u001b[0m │\n",
              "└──────────────────────────────────────┴─────────────────────────────┴─────────────────┘\n"
            ],
            "text/html": [
              "<pre style=\"white-space:pre;overflow-x:auto;line-height:normal;font-family:Menlo,'DejaVu Sans Mono',consolas,'Courier New',monospace\">┏━━━━━━━━━━━━━━━━━━━━━━━━━━━━━━━━━━━━━━┳━━━━━━━━━━━━━━━━━━━━━━━━━━━━━┳━━━━━━━━━━━━━━━━━┓\n",
              "┃<span style=\"font-weight: bold\"> Layer (type)                         </span>┃<span style=\"font-weight: bold\"> Output Shape                </span>┃<span style=\"font-weight: bold\">         Param # </span>┃\n",
              "┡━━━━━━━━━━━━━━━━━━━━━━━━━━━━━━━━━━━━━━╇━━━━━━━━━━━━━━━━━━━━━━━━━━━━━╇━━━━━━━━━━━━━━━━━┩\n",
              "│ decoder_latent_input (<span style=\"color: #0087ff; text-decoration-color: #0087ff\">InputLayer</span>)    │ (<span style=\"color: #00d7ff; text-decoration-color: #00d7ff\">None</span>, <span style=\"color: #00af00; text-decoration-color: #00af00\">32</span>)                  │               <span style=\"color: #00af00; text-decoration-color: #00af00\">0</span> │\n",
              "├──────────────────────────────────────┼─────────────────────────────┼─────────────────┤\n",
              "│ dense_3 (<span style=\"color: #0087ff; text-decoration-color: #0087ff\">Dense</span>)                      │ (<span style=\"color: #00d7ff; text-decoration-color: #00d7ff\">None</span>, <span style=\"color: #00af00; text-decoration-color: #00af00\">16384</span>)               │         <span style=\"color: #00af00; text-decoration-color: #00af00\">540,672</span> │\n",
              "├──────────────────────────────────────┼─────────────────────────────┼─────────────────┤\n",
              "│ reshape_1 (<span style=\"color: #0087ff; text-decoration-color: #0087ff\">Reshape</span>)                  │ (<span style=\"color: #00d7ff; text-decoration-color: #00d7ff\">None</span>, <span style=\"color: #00af00; text-decoration-color: #00af00\">8</span>, <span style=\"color: #00af00; text-decoration-color: #00af00\">8</span>, <span style=\"color: #00af00; text-decoration-color: #00af00\">256</span>)           │               <span style=\"color: #00af00; text-decoration-color: #00af00\">0</span> │\n",
              "├──────────────────────────────────────┼─────────────────────────────┼─────────────────┤\n",
              "│ conv2d_transpose_5 (<span style=\"color: #0087ff; text-decoration-color: #0087ff\">Conv2DTranspose</span>) │ (<span style=\"color: #00d7ff; text-decoration-color: #00d7ff\">None</span>, <span style=\"color: #00af00; text-decoration-color: #00af00\">16</span>, <span style=\"color: #00af00; text-decoration-color: #00af00\">16</span>, <span style=\"color: #00af00; text-decoration-color: #00af00\">128</span>)         │         <span style=\"color: #00af00; text-decoration-color: #00af00\">295,040</span> │\n",
              "├──────────────────────────────────────┼─────────────────────────────┼─────────────────┤\n",
              "│ conv2d_transpose_6 (<span style=\"color: #0087ff; text-decoration-color: #0087ff\">Conv2DTranspose</span>) │ (<span style=\"color: #00d7ff; text-decoration-color: #00d7ff\">None</span>, <span style=\"color: #00af00; text-decoration-color: #00af00\">32</span>, <span style=\"color: #00af00; text-decoration-color: #00af00\">32</span>, <span style=\"color: #00af00; text-decoration-color: #00af00\">64</span>)          │          <span style=\"color: #00af00; text-decoration-color: #00af00\">73,792</span> │\n",
              "├──────────────────────────────────────┼─────────────────────────────┼─────────────────┤\n",
              "│ conv2d_transpose_7 (<span style=\"color: #0087ff; text-decoration-color: #0087ff\">Conv2DTranspose</span>) │ (<span style=\"color: #00d7ff; text-decoration-color: #00d7ff\">None</span>, <span style=\"color: #00af00; text-decoration-color: #00af00\">64</span>, <span style=\"color: #00af00; text-decoration-color: #00af00\">64</span>, <span style=\"color: #00af00; text-decoration-color: #00af00\">32</span>)          │          <span style=\"color: #00af00; text-decoration-color: #00af00\">18,464</span> │\n",
              "├──────────────────────────────────────┼─────────────────────────────┼─────────────────┤\n",
              "│ conv2d_transpose_8 (<span style=\"color: #0087ff; text-decoration-color: #0087ff\">Conv2DTranspose</span>) │ (<span style=\"color: #00d7ff; text-decoration-color: #00d7ff\">None</span>, <span style=\"color: #00af00; text-decoration-color: #00af00\">128</span>, <span style=\"color: #00af00; text-decoration-color: #00af00\">128</span>, <span style=\"color: #00af00; text-decoration-color: #00af00\">16</span>)        │           <span style=\"color: #00af00; text-decoration-color: #00af00\">4,624</span> │\n",
              "├──────────────────────────────────────┼─────────────────────────────┼─────────────────┤\n",
              "│ conv2d_transpose_9 (<span style=\"color: #0087ff; text-decoration-color: #0087ff\">Conv2DTranspose</span>) │ (<span style=\"color: #00d7ff; text-decoration-color: #00d7ff\">None</span>, <span style=\"color: #00af00; text-decoration-color: #00af00\">128</span>, <span style=\"color: #00af00; text-decoration-color: #00af00\">128</span>, <span style=\"color: #00af00; text-decoration-color: #00af00\">3</span>)         │             <span style=\"color: #00af00; text-decoration-color: #00af00\">435</span> │\n",
              "└──────────────────────────────────────┴─────────────────────────────┴─────────────────┘\n",
              "</pre>\n"
            ]
          },
          "metadata": {}
        },
        {
          "output_type": "display_data",
          "data": {
            "text/plain": [
              "\u001b[1m Total params: \u001b[0m\u001b[38;5;34m933,027\u001b[0m (3.56 MB)\n"
            ],
            "text/html": [
              "<pre style=\"white-space:pre;overflow-x:auto;line-height:normal;font-family:Menlo,'DejaVu Sans Mono',consolas,'Courier New',monospace\"><span style=\"font-weight: bold\"> Total params: </span><span style=\"color: #00af00; text-decoration-color: #00af00\">933,027</span> (3.56 MB)\n",
              "</pre>\n"
            ]
          },
          "metadata": {}
        },
        {
          "output_type": "display_data",
          "data": {
            "text/plain": [
              "\u001b[1m Trainable params: \u001b[0m\u001b[38;5;34m933,027\u001b[0m (3.56 MB)\n"
            ],
            "text/html": [
              "<pre style=\"white-space:pre;overflow-x:auto;line-height:normal;font-family:Menlo,'DejaVu Sans Mono',consolas,'Courier New',monospace\"><span style=\"font-weight: bold\"> Trainable params: </span><span style=\"color: #00af00; text-decoration-color: #00af00\">933,027</span> (3.56 MB)\n",
              "</pre>\n"
            ]
          },
          "metadata": {}
        },
        {
          "output_type": "display_data",
          "data": {
            "text/plain": [
              "\u001b[1m Non-trainable params: \u001b[0m\u001b[38;5;34m0\u001b[0m (0.00 B)\n"
            ],
            "text/html": [
              "<pre style=\"white-space:pre;overflow-x:auto;line-height:normal;font-family:Menlo,'DejaVu Sans Mono',consolas,'Courier New',monospace\"><span style=\"font-weight: bold\"> Non-trainable params: </span><span style=\"color: #00af00; text-decoration-color: #00af00\">0</span> (0.00 B)\n",
              "</pre>\n"
            ]
          },
          "metadata": {}
        }
      ],
      "source": [
        "decoder.summary()"
      ]
    },
    {
      "cell_type": "code",
      "execution_count": 56,
      "id": "8bae6c93",
      "metadata": {
        "colab": {
          "base_uri": "https://localhost:8080/"
        },
        "id": "8bae6c93",
        "outputId": "5abeb0a2-11cd-4f2b-a42b-ae734db8ab6f"
      },
      "outputs": [
        {
          "output_type": "stream",
          "name": "stdout",
          "text": [
            "128\n"
          ]
        }
      ],
      "source": [
        "x_train, x_test, y_train, y_test = train_test_split(data, genre, test_size=0.33, random_state=42)\n",
        "x_t = x_train\n",
        "print(len(x_test[0]))"
      ]
    },
    {
      "cell_type": "code",
      "source": [
        "\"\"\"\n",
        "# Enregistrement des loss\n",
        "from keras.callbacks import TensorBoard\n",
        "import datetime  # Pour générer un nom unique de dossier\n",
        "\n",
        "# Définir un dossier pour les logs de TensorBoard\n",
        "log_dir = \"logs/fit/\" + datetime.datetime.now().strftime(\"%Y%m%d-%H%M%S\")\n",
        "\n",
        "with tf.device('/device:GPU:0'):  # or '/device:CPU:0' if you want to use CPU\n",
        "  summary_writer = tf.summary.create_file_writer(log_dir)\n",
        "# Vérifier où sont stockés les logs\n",
        "print(f\"Logs enregistrés dans : {log_dir}\")\n",
        "\"\"\""
      ],
      "metadata": {
        "id": "rUBzYwpefDgb",
        "colab": {
          "base_uri": "https://localhost:8080/",
          "height": 70
        },
        "outputId": "8a7361e6-2827-46e8-eca0-c826288c1d73"
      },
      "id": "rUBzYwpefDgb",
      "execution_count": null,
      "outputs": [
        {
          "output_type": "execute_result",
          "data": {
            "text/plain": [
              "'\\n# Enregistrement des loss\\nfrom keras.callbacks import TensorBoard\\nimport datetime  # Pour générer un nom unique de dossier\\n\\n# Définir un dossier pour les logs de TensorBoard\\nlog_dir = \"logs/fit/\" + datetime.datetime.now().strftime(\"%Y%m%d-%H%M%S\")\\n\\nwith tf.device(\\'/device:GPU:0\\'):  # or \\'/device:CPU:0\\' if you want to use CPU\\n  summary_writer = tf.summary.create_file_writer(log_dir)\\n# Vérifier où sont stockés les logs\\nprint(f\"Logs enregistrés dans : {log_dir}\")\\n'"
            ],
            "application/vnd.google.colaboratory.intrinsic+json": {
              "type": "string"
            }
          },
          "metadata": {},
          "execution_count": 15
        }
      ]
    },
    {
      "cell_type": "code",
      "source": [
        "#tensorboard_callback = TensorBoard(log_dir=log_dir, histogram_freq=1)"
      ],
      "metadata": {
        "id": "BjNpkvqeu6vQ"
      },
      "id": "BjNpkvqeu6vQ",
      "execution_count": null,
      "outputs": []
    },
    {
      "cell_type": "code",
      "execution_count": 57,
      "id": "5a9fab2d",
      "metadata": {
        "colab": {
          "base_uri": "https://localhost:8080/"
        },
        "id": "5a9fab2d",
        "outputId": "919852ce-0511-465f-ed99-4eb48f52c17f"
      },
      "outputs": [
        {
          "output_type": "stream",
          "name": "stdout",
          "text": [
            "Epoch 1/100\n",
            "\u001b[1m21/21\u001b[0m \u001b[32m━━━━━━━━━━━━━━━━━━━━\u001b[0m\u001b[37m\u001b[0m \u001b[1m13s\u001b[0m 234ms/step - kl_loss: 0.0043 - loss: 0.0943 - reconstruction_loss: 0.0942\n",
            "Epoch 2/100\n",
            "\u001b[1m21/21\u001b[0m \u001b[32m━━━━━━━━━━━━━━━━━━━━\u001b[0m\u001b[37m\u001b[0m \u001b[1m0s\u001b[0m 14ms/step - kl_loss: 3.9720e-06 - loss: 0.0889 - reconstruction_loss: 0.0889\n",
            "Epoch 3/100\n",
            "\u001b[1m21/21\u001b[0m \u001b[32m━━━━━━━━━━━━━━━━━━━━\u001b[0m\u001b[37m\u001b[0m \u001b[1m0s\u001b[0m 13ms/step - kl_loss: 1.3264e-06 - loss: 0.0872 - reconstruction_loss: 0.0872\n",
            "Epoch 4/100\n",
            "\u001b[1m21/21\u001b[0m \u001b[32m━━━━━━━━━━━━━━━━━━━━\u001b[0m\u001b[37m\u001b[0m \u001b[1m0s\u001b[0m 13ms/step - kl_loss: 8.9014e-06 - loss: 0.0846 - reconstruction_loss: 0.0846\n",
            "Epoch 5/100\n",
            "\u001b[1m21/21\u001b[0m \u001b[32m━━━━━━━━━━━━━━━━━━━━\u001b[0m\u001b[37m\u001b[0m \u001b[1m0s\u001b[0m 13ms/step - kl_loss: 0.0060 - loss: 0.0850 - reconstruction_loss: 0.0850\n",
            "Epoch 6/100\n",
            "\u001b[1m21/21\u001b[0m \u001b[32m━━━━━━━━━━━━━━━━━━━━\u001b[0m\u001b[37m\u001b[0m \u001b[1m0s\u001b[0m 13ms/step - kl_loss: 0.0993 - loss: 0.0724 - reconstruction_loss: 0.0714\n",
            "Epoch 7/100\n",
            "\u001b[1m21/21\u001b[0m \u001b[32m━━━━━━━━━━━━━━━━━━━━\u001b[0m\u001b[37m\u001b[0m \u001b[1m0s\u001b[0m 13ms/step - kl_loss: 0.0746 - loss: 0.0544 - reconstruction_loss: 0.0537\n",
            "Epoch 8/100\n",
            "\u001b[1m21/21\u001b[0m \u001b[32m━━━━━━━━━━━━━━━━━━━━\u001b[0m\u001b[37m\u001b[0m \u001b[1m0s\u001b[0m 13ms/step - kl_loss: 0.0879 - loss: 0.0414 - reconstruction_loss: 0.0405\n",
            "Epoch 9/100\n",
            "\u001b[1m21/21\u001b[0m \u001b[32m━━━━━━━━━━━━━━━━━━━━\u001b[0m\u001b[37m\u001b[0m \u001b[1m0s\u001b[0m 13ms/step - kl_loss: 0.0468 - loss: 0.0349 - reconstruction_loss: 0.0344\n",
            "Epoch 10/100\n",
            "\u001b[1m21/21\u001b[0m \u001b[32m━━━━━━━━━━━━━━━━━━━━\u001b[0m\u001b[37m\u001b[0m \u001b[1m0s\u001b[0m 13ms/step - kl_loss: 0.0351 - loss: 0.0319 - reconstruction_loss: 0.0315\n",
            "Epoch 11/100\n",
            "\u001b[1m21/21\u001b[0m \u001b[32m━━━━━━━━━━━━━━━━━━━━\u001b[0m\u001b[37m\u001b[0m \u001b[1m0s\u001b[0m 13ms/step - kl_loss: 0.0316 - loss: 0.0296 - reconstruction_loss: 0.0293\n",
            "Epoch 12/100\n",
            "\u001b[1m21/21\u001b[0m \u001b[32m━━━━━━━━━━━━━━━━━━━━\u001b[0m\u001b[37m\u001b[0m \u001b[1m0s\u001b[0m 13ms/step - kl_loss: 0.0299 - loss: 0.0285 - reconstruction_loss: 0.0282\n",
            "Epoch 13/100\n",
            "\u001b[1m21/21\u001b[0m \u001b[32m━━━━━━━━━━━━━━━━━━━━\u001b[0m\u001b[37m\u001b[0m \u001b[1m0s\u001b[0m 13ms/step - kl_loss: 0.0274 - loss: 0.0274 - reconstruction_loss: 0.0271\n",
            "Epoch 14/100\n",
            "\u001b[1m21/21\u001b[0m \u001b[32m━━━━━━━━━━━━━━━━━━━━\u001b[0m\u001b[37m\u001b[0m \u001b[1m0s\u001b[0m 13ms/step - kl_loss: 0.0289 - loss: 0.0262 - reconstruction_loss: 0.0259\n",
            "Epoch 15/100\n",
            "\u001b[1m21/21\u001b[0m \u001b[32m━━━━━━━━━━━━━━━━━━━━\u001b[0m\u001b[37m\u001b[0m \u001b[1m0s\u001b[0m 13ms/step - kl_loss: 0.0260 - loss: 0.0245 - reconstruction_loss: 0.0242\n",
            "Epoch 16/100\n",
            "\u001b[1m21/21\u001b[0m \u001b[32m━━━━━━━━━━━━━━━━━━━━\u001b[0m\u001b[37m\u001b[0m \u001b[1m0s\u001b[0m 13ms/step - kl_loss: 0.0262 - loss: 0.0241 - reconstruction_loss: 0.0238\n",
            "Epoch 17/100\n",
            "\u001b[1m21/21\u001b[0m \u001b[32m━━━━━━━━━━━━━━━━━━━━\u001b[0m\u001b[37m\u001b[0m \u001b[1m0s\u001b[0m 13ms/step - kl_loss: 0.0268 - loss: 0.0231 - reconstruction_loss: 0.0228\n",
            "Epoch 18/100\n",
            "\u001b[1m21/21\u001b[0m \u001b[32m━━━━━━━━━━━━━━━━━━━━\u001b[0m\u001b[37m\u001b[0m \u001b[1m0s\u001b[0m 13ms/step - kl_loss: 0.0265 - loss: 0.0223 - reconstruction_loss: 0.0220\n",
            "Epoch 19/100\n",
            "\u001b[1m21/21\u001b[0m \u001b[32m━━━━━━━━━━━━━━━━━━━━\u001b[0m\u001b[37m\u001b[0m \u001b[1m0s\u001b[0m 13ms/step - kl_loss: 0.0263 - loss: 0.0213 - reconstruction_loss: 0.0210\n",
            "Epoch 20/100\n",
            "\u001b[1m21/21\u001b[0m \u001b[32m━━━━━━━━━━━━━━━━━━━━\u001b[0m\u001b[37m\u001b[0m \u001b[1m0s\u001b[0m 13ms/step - kl_loss: 0.0257 - loss: 0.0208 - reconstruction_loss: 0.0205\n",
            "Epoch 21/100\n",
            "\u001b[1m21/21\u001b[0m \u001b[32m━━━━━━━━━━━━━━━━━━━━\u001b[0m\u001b[37m\u001b[0m \u001b[1m0s\u001b[0m 13ms/step - kl_loss: 0.0269 - loss: 0.0204 - reconstruction_loss: 0.0201\n",
            "Epoch 22/100\n",
            "\u001b[1m21/21\u001b[0m \u001b[32m━━━━━━━━━━━━━━━━━━━━\u001b[0m\u001b[37m\u001b[0m \u001b[1m0s\u001b[0m 13ms/step - kl_loss: 0.0286 - loss: 0.0202 - reconstruction_loss: 0.0199\n",
            "Epoch 23/100\n",
            "\u001b[1m21/21\u001b[0m \u001b[32m━━━━━━━━━━━━━━━━━━━━\u001b[0m\u001b[37m\u001b[0m \u001b[1m0s\u001b[0m 13ms/step - kl_loss: 0.0276 - loss: 0.0195 - reconstruction_loss: 0.0193\n",
            "Epoch 24/100\n",
            "\u001b[1m21/21\u001b[0m \u001b[32m━━━━━━━━━━━━━━━━━━━━\u001b[0m\u001b[37m\u001b[0m \u001b[1m0s\u001b[0m 13ms/step - kl_loss: 0.0262 - loss: 0.0185 - reconstruction_loss: 0.0182\n",
            "Epoch 25/100\n",
            "\u001b[1m21/21\u001b[0m \u001b[32m━━━━━━━━━━━━━━━━━━━━\u001b[0m\u001b[37m\u001b[0m \u001b[1m0s\u001b[0m 13ms/step - kl_loss: 0.0261 - loss: 0.0186 - reconstruction_loss: 0.0183\n",
            "Epoch 26/100\n",
            "\u001b[1m21/21\u001b[0m \u001b[32m━━━━━━━━━━━━━━━━━━━━\u001b[0m\u001b[37m\u001b[0m \u001b[1m0s\u001b[0m 13ms/step - kl_loss: 0.0252 - loss: 0.0180 - reconstruction_loss: 0.0178\n",
            "Epoch 27/100\n",
            "\u001b[1m21/21\u001b[0m \u001b[32m━━━━━━━━━━━━━━━━━━━━\u001b[0m\u001b[37m\u001b[0m \u001b[1m0s\u001b[0m 13ms/step - kl_loss: 0.0247 - loss: 0.0178 - reconstruction_loss: 0.0176\n",
            "Epoch 28/100\n",
            "\u001b[1m21/21\u001b[0m \u001b[32m━━━━━━━━━━━━━━━━━━━━\u001b[0m\u001b[37m\u001b[0m \u001b[1m0s\u001b[0m 13ms/step - kl_loss: 0.0258 - loss: 0.0179 - reconstruction_loss: 0.0177\n",
            "Epoch 29/100\n",
            "\u001b[1m21/21\u001b[0m \u001b[32m━━━━━━━━━━━━━━━━━━━━\u001b[0m\u001b[37m\u001b[0m \u001b[1m0s\u001b[0m 13ms/step - kl_loss: 0.0262 - loss: 0.0180 - reconstruction_loss: 0.0177\n",
            "Epoch 30/100\n",
            "\u001b[1m21/21\u001b[0m \u001b[32m━━━━━━━━━━━━━━━━━━━━\u001b[0m\u001b[37m\u001b[0m \u001b[1m0s\u001b[0m 13ms/step - kl_loss: 0.0263 - loss: 0.0173 - reconstruction_loss: 0.0170\n",
            "Epoch 31/100\n",
            "\u001b[1m21/21\u001b[0m \u001b[32m━━━━━━━━━━━━━━━━━━━━\u001b[0m\u001b[37m\u001b[0m \u001b[1m0s\u001b[0m 13ms/step - kl_loss: 0.0266 - loss: 0.0172 - reconstruction_loss: 0.0170\n",
            "Epoch 32/100\n",
            "\u001b[1m21/21\u001b[0m \u001b[32m━━━━━━━━━━━━━━━━━━━━\u001b[0m\u001b[37m\u001b[0m \u001b[1m0s\u001b[0m 13ms/step - kl_loss: 0.0255 - loss: 0.0168 - reconstruction_loss: 0.0166\n",
            "Epoch 33/100\n",
            "\u001b[1m21/21\u001b[0m \u001b[32m━━━━━━━━━━━━━━━━━━━━\u001b[0m\u001b[37m\u001b[0m \u001b[1m0s\u001b[0m 13ms/step - kl_loss: 0.0258 - loss: 0.0169 - reconstruction_loss: 0.0166\n",
            "Epoch 34/100\n",
            "\u001b[1m21/21\u001b[0m \u001b[32m━━━━━━━━━━━━━━━━━━━━\u001b[0m\u001b[37m\u001b[0m \u001b[1m0s\u001b[0m 13ms/step - kl_loss: 0.0255 - loss: 0.0158 - reconstruction_loss: 0.0156\n",
            "Epoch 35/100\n",
            "\u001b[1m21/21\u001b[0m \u001b[32m━━━━━━━━━━━━━━━━━━━━\u001b[0m\u001b[37m\u001b[0m \u001b[1m0s\u001b[0m 13ms/step - kl_loss: 0.0263 - loss: 0.0159 - reconstruction_loss: 0.0156\n",
            "Epoch 36/100\n",
            "\u001b[1m21/21\u001b[0m \u001b[32m━━━━━━━━━━━━━━━━━━━━\u001b[0m\u001b[37m\u001b[0m \u001b[1m0s\u001b[0m 14ms/step - kl_loss: 0.0275 - loss: 0.0161 - reconstruction_loss: 0.0158\n",
            "Epoch 37/100\n",
            "\u001b[1m21/21\u001b[0m \u001b[32m━━━━━━━━━━━━━━━━━━━━\u001b[0m\u001b[37m\u001b[0m \u001b[1m0s\u001b[0m 13ms/step - kl_loss: 0.0279 - loss: 0.0163 - reconstruction_loss: 0.0161\n",
            "Epoch 38/100\n",
            "\u001b[1m21/21\u001b[0m \u001b[32m━━━━━━━━━━━━━━━━━━━━\u001b[0m\u001b[37m\u001b[0m \u001b[1m0s\u001b[0m 13ms/step - kl_loss: 0.0281 - loss: 0.0165 - reconstruction_loss: 0.0163\n",
            "Epoch 39/100\n",
            "\u001b[1m21/21\u001b[0m \u001b[32m━━━━━━━━━━━━━━━━━━━━\u001b[0m\u001b[37m\u001b[0m \u001b[1m0s\u001b[0m 13ms/step - kl_loss: 0.0304 - loss: 0.0162 - reconstruction_loss: 0.0159\n",
            "Epoch 40/100\n",
            "\u001b[1m21/21\u001b[0m \u001b[32m━━━━━━━━━━━━━━━━━━━━\u001b[0m\u001b[37m\u001b[0m \u001b[1m0s\u001b[0m 13ms/step - kl_loss: 0.0298 - loss: 0.0154 - reconstruction_loss: 0.0151\n",
            "Epoch 41/100\n",
            "\u001b[1m21/21\u001b[0m \u001b[32m━━━━━━━━━━━━━━━━━━━━\u001b[0m\u001b[37m\u001b[0m \u001b[1m0s\u001b[0m 13ms/step - kl_loss: 0.0300 - loss: 0.0153 - reconstruction_loss: 0.0150\n",
            "Epoch 42/100\n",
            "\u001b[1m21/21\u001b[0m \u001b[32m━━━━━━━━━━━━━━━━━━━━\u001b[0m\u001b[37m\u001b[0m \u001b[1m0s\u001b[0m 13ms/step - kl_loss: 0.0293 - loss: 0.0155 - reconstruction_loss: 0.0152\n",
            "Epoch 43/100\n",
            "\u001b[1m21/21\u001b[0m \u001b[32m━━━━━━━━━━━━━━━━━━━━\u001b[0m\u001b[37m\u001b[0m \u001b[1m0s\u001b[0m 13ms/step - kl_loss: 0.0279 - loss: 0.0150 - reconstruction_loss: 0.0147\n",
            "Epoch 44/100\n",
            "\u001b[1m21/21\u001b[0m \u001b[32m━━━━━━━━━━━━━━━━━━━━\u001b[0m\u001b[37m\u001b[0m \u001b[1m0s\u001b[0m 13ms/step - kl_loss: 0.0286 - loss: 0.0144 - reconstruction_loss: 0.0141\n",
            "Epoch 45/100\n",
            "\u001b[1m21/21\u001b[0m \u001b[32m━━━━━━━━━━━━━━━━━━━━\u001b[0m\u001b[37m\u001b[0m \u001b[1m0s\u001b[0m 13ms/step - kl_loss: 0.0290 - loss: 0.0147 - reconstruction_loss: 0.0144\n",
            "Epoch 46/100\n",
            "\u001b[1m21/21\u001b[0m \u001b[32m━━━━━━━━━━━━━━━━━━━━\u001b[0m\u001b[37m\u001b[0m \u001b[1m0s\u001b[0m 13ms/step - kl_loss: 0.0271 - loss: 0.0142 - reconstruction_loss: 0.0139\n",
            "Epoch 47/100\n",
            "\u001b[1m21/21\u001b[0m \u001b[32m━━━━━━━━━━━━━━━━━━━━\u001b[0m\u001b[37m\u001b[0m \u001b[1m0s\u001b[0m 13ms/step - kl_loss: 0.0292 - loss: 0.0146 - reconstruction_loss: 0.0143\n",
            "Epoch 48/100\n",
            "\u001b[1m21/21\u001b[0m \u001b[32m━━━━━━━━━━━━━━━━━━━━\u001b[0m\u001b[37m\u001b[0m \u001b[1m0s\u001b[0m 13ms/step - kl_loss: 0.0294 - loss: 0.0142 - reconstruction_loss: 0.0139\n",
            "Epoch 49/100\n",
            "\u001b[1m21/21\u001b[0m \u001b[32m━━━━━━━━━━━━━━━━━━━━\u001b[0m\u001b[37m\u001b[0m \u001b[1m0s\u001b[0m 13ms/step - kl_loss: 0.0297 - loss: 0.0146 - reconstruction_loss: 0.0143\n",
            "Epoch 50/100\n",
            "\u001b[1m21/21\u001b[0m \u001b[32m━━━━━━━━━━━━━━━━━━━━\u001b[0m\u001b[37m\u001b[0m \u001b[1m0s\u001b[0m 13ms/step - kl_loss: 0.0283 - loss: 0.0137 - reconstruction_loss: 0.0135\n",
            "Epoch 51/100\n",
            "\u001b[1m21/21\u001b[0m \u001b[32m━━━━━━━━━━━━━━━━━━━━\u001b[0m\u001b[37m\u001b[0m \u001b[1m0s\u001b[0m 13ms/step - kl_loss: 0.0302 - loss: 0.0141 - reconstruction_loss: 0.0138\n",
            "Epoch 52/100\n",
            "\u001b[1m21/21\u001b[0m \u001b[32m━━━━━━━━━━━━━━━━━━━━\u001b[0m\u001b[37m\u001b[0m \u001b[1m0s\u001b[0m 13ms/step - kl_loss: 0.0297 - loss: 0.0141 - reconstruction_loss: 0.0138\n",
            "Epoch 53/100\n",
            "\u001b[1m21/21\u001b[0m \u001b[32m━━━━━━━━━━━━━━━━━━━━\u001b[0m\u001b[37m\u001b[0m \u001b[1m0s\u001b[0m 13ms/step - kl_loss: 0.0323 - loss: 0.0140 - reconstruction_loss: 0.0137\n",
            "Epoch 54/100\n",
            "\u001b[1m21/21\u001b[0m \u001b[32m━━━━━━━━━━━━━━━━━━━━\u001b[0m\u001b[37m\u001b[0m \u001b[1m0s\u001b[0m 13ms/step - kl_loss: 0.0337 - loss: 0.0136 - reconstruction_loss: 0.0133\n",
            "Epoch 55/100\n",
            "\u001b[1m21/21\u001b[0m \u001b[32m━━━━━━━━━━━━━━━━━━━━\u001b[0m\u001b[37m\u001b[0m \u001b[1m0s\u001b[0m 13ms/step - kl_loss: 0.0327 - loss: 0.0136 - reconstruction_loss: 0.0133\n",
            "Epoch 56/100\n",
            "\u001b[1m21/21\u001b[0m \u001b[32m━━━━━━━━━━━━━━━━━━━━\u001b[0m\u001b[37m\u001b[0m \u001b[1m0s\u001b[0m 13ms/step - kl_loss: 0.0320 - loss: 0.0132 - reconstruction_loss: 0.0129\n",
            "Epoch 57/100\n",
            "\u001b[1m21/21\u001b[0m \u001b[32m━━━━━━━━━━━━━━━━━━━━\u001b[0m\u001b[37m\u001b[0m \u001b[1m0s\u001b[0m 13ms/step - kl_loss: 0.0329 - loss: 0.0131 - reconstruction_loss: 0.0128\n",
            "Epoch 58/100\n",
            "\u001b[1m21/21\u001b[0m \u001b[32m━━━━━━━━━━━━━━━━━━━━\u001b[0m\u001b[37m\u001b[0m \u001b[1m0s\u001b[0m 13ms/step - kl_loss: 0.0316 - loss: 0.0131 - reconstruction_loss: 0.0128\n",
            "Epoch 59/100\n",
            "\u001b[1m21/21\u001b[0m \u001b[32m━━━━━━━━━━━━━━━━━━━━\u001b[0m\u001b[37m\u001b[0m \u001b[1m0s\u001b[0m 13ms/step - kl_loss: 0.0331 - loss: 0.0129 - reconstruction_loss: 0.0125\n",
            "Epoch 60/100\n",
            "\u001b[1m21/21\u001b[0m \u001b[32m━━━━━━━━━━━━━━━━━━━━\u001b[0m\u001b[37m\u001b[0m \u001b[1m0s\u001b[0m 13ms/step - kl_loss: 0.0314 - loss: 0.0125 - reconstruction_loss: 0.0122\n",
            "Epoch 61/100\n",
            "\u001b[1m21/21\u001b[0m \u001b[32m━━━━━━━━━━━━━━━━━━━━\u001b[0m\u001b[37m\u001b[0m \u001b[1m0s\u001b[0m 13ms/step - kl_loss: 0.0319 - loss: 0.0123 - reconstruction_loss: 0.0120\n",
            "Epoch 62/100\n",
            "\u001b[1m21/21\u001b[0m \u001b[32m━━━━━━━━━━━━━━━━━━━━\u001b[0m\u001b[37m\u001b[0m \u001b[1m0s\u001b[0m 13ms/step - kl_loss: 0.0316 - loss: 0.0121 - reconstruction_loss: 0.0118\n",
            "Epoch 63/100\n",
            "\u001b[1m21/21\u001b[0m \u001b[32m━━━━━━━━━━━━━━━━━━━━\u001b[0m\u001b[37m\u001b[0m \u001b[1m0s\u001b[0m 13ms/step - kl_loss: 0.0307 - loss: 0.0122 - reconstruction_loss: 0.0119\n",
            "Epoch 64/100\n",
            "\u001b[1m21/21\u001b[0m \u001b[32m━━━━━━━━━━━━━━━━━━━━\u001b[0m\u001b[37m\u001b[0m \u001b[1m0s\u001b[0m 13ms/step - kl_loss: 0.0316 - loss: 0.0127 - reconstruction_loss: 0.0124\n",
            "Epoch 65/100\n",
            "\u001b[1m21/21\u001b[0m \u001b[32m━━━━━━━━━━━━━━━━━━━━\u001b[0m\u001b[37m\u001b[0m \u001b[1m0s\u001b[0m 13ms/step - kl_loss: 0.0322 - loss: 0.0122 - reconstruction_loss: 0.0118\n",
            "Epoch 66/100\n",
            "\u001b[1m21/21\u001b[0m \u001b[32m━━━━━━━━━━━━━━━━━━━━\u001b[0m\u001b[37m\u001b[0m \u001b[1m0s\u001b[0m 13ms/step - kl_loss: 0.0321 - loss: 0.0120 - reconstruction_loss: 0.0116\n",
            "Epoch 67/100\n",
            "\u001b[1m21/21\u001b[0m \u001b[32m━━━━━━━━━━━━━━━━━━━━\u001b[0m\u001b[37m\u001b[0m \u001b[1m0s\u001b[0m 13ms/step - kl_loss: 0.0332 - loss: 0.0119 - reconstruction_loss: 0.0116\n",
            "Epoch 68/100\n",
            "\u001b[1m21/21\u001b[0m \u001b[32m━━━━━━━━━━━━━━━━━━━━\u001b[0m\u001b[37m\u001b[0m \u001b[1m0s\u001b[0m 13ms/step - kl_loss: 0.0327 - loss: 0.0115 - reconstruction_loss: 0.0112\n",
            "Epoch 69/100\n",
            "\u001b[1m21/21\u001b[0m \u001b[32m━━━━━━━━━━━━━━━━━━━━\u001b[0m\u001b[37m\u001b[0m \u001b[1m0s\u001b[0m 13ms/step - kl_loss: 0.0324 - loss: 0.0114 - reconstruction_loss: 0.0111\n",
            "Epoch 70/100\n",
            "\u001b[1m21/21\u001b[0m \u001b[32m━━━━━━━━━━━━━━━━━━━━\u001b[0m\u001b[37m\u001b[0m \u001b[1m0s\u001b[0m 13ms/step - kl_loss: 0.0315 - loss: 0.0114 - reconstruction_loss: 0.0111\n",
            "Epoch 71/100\n",
            "\u001b[1m21/21\u001b[0m \u001b[32m━━━━━━━━━━━━━━━━━━━━\u001b[0m\u001b[37m\u001b[0m \u001b[1m0s\u001b[0m 13ms/step - kl_loss: 0.0317 - loss: 0.0110 - reconstruction_loss: 0.0107\n",
            "Epoch 72/100\n",
            "\u001b[1m21/21\u001b[0m \u001b[32m━━━━━━━━━━━━━━━━━━━━\u001b[0m\u001b[37m\u001b[0m \u001b[1m0s\u001b[0m 13ms/step - kl_loss: 0.0325 - loss: 0.0109 - reconstruction_loss: 0.0105\n",
            "Epoch 73/100\n",
            "\u001b[1m21/21\u001b[0m \u001b[32m━━━━━━━━━━━━━━━━━━━━\u001b[0m\u001b[37m\u001b[0m \u001b[1m0s\u001b[0m 13ms/step - kl_loss: 0.0323 - loss: 0.0111 - reconstruction_loss: 0.0108\n",
            "Epoch 74/100\n",
            "\u001b[1m21/21\u001b[0m \u001b[32m━━━━━━━━━━━━━━━━━━━━\u001b[0m\u001b[37m\u001b[0m \u001b[1m0s\u001b[0m 13ms/step - kl_loss: 0.0320 - loss: 0.0107 - reconstruction_loss: 0.0104\n",
            "Epoch 75/100\n",
            "\u001b[1m21/21\u001b[0m \u001b[32m━━━━━━━━━━━━━━━━━━━━\u001b[0m\u001b[37m\u001b[0m \u001b[1m0s\u001b[0m 13ms/step - kl_loss: 0.0336 - loss: 0.0110 - reconstruction_loss: 0.0106\n",
            "Epoch 76/100\n",
            "\u001b[1m21/21\u001b[0m \u001b[32m━━━━━━━━━━━━━━━━━━━━\u001b[0m\u001b[37m\u001b[0m \u001b[1m0s\u001b[0m 13ms/step - kl_loss: 0.0311 - loss: 0.0106 - reconstruction_loss: 0.0103\n",
            "Epoch 77/100\n",
            "\u001b[1m21/21\u001b[0m \u001b[32m━━━━━━━━━━━━━━━━━━━━\u001b[0m\u001b[37m\u001b[0m \u001b[1m0s\u001b[0m 14ms/step - kl_loss: 0.0338 - loss: 0.0106 - reconstruction_loss: 0.0102\n",
            "Epoch 78/100\n",
            "\u001b[1m21/21\u001b[0m \u001b[32m━━━━━━━━━━━━━━━━━━━━\u001b[0m\u001b[37m\u001b[0m \u001b[1m0s\u001b[0m 13ms/step - kl_loss: 0.0318 - loss: 0.0103 - reconstruction_loss: 0.0100\n",
            "Epoch 79/100\n",
            "\u001b[1m21/21\u001b[0m \u001b[32m━━━━━━━━━━━━━━━━━━━━\u001b[0m\u001b[37m\u001b[0m \u001b[1m0s\u001b[0m 13ms/step - kl_loss: 0.0326 - loss: 0.0102 - reconstruction_loss: 0.0099\n",
            "Epoch 80/100\n",
            "\u001b[1m21/21\u001b[0m \u001b[32m━━━━━━━━━━━━━━━━━━━━\u001b[0m\u001b[37m\u001b[0m \u001b[1m0s\u001b[0m 13ms/step - kl_loss: 0.0328 - loss: 0.0103 - reconstruction_loss: 0.0099\n",
            "Epoch 81/100\n",
            "\u001b[1m21/21\u001b[0m \u001b[32m━━━━━━━━━━━━━━━━━━━━\u001b[0m\u001b[37m\u001b[0m \u001b[1m0s\u001b[0m 13ms/step - kl_loss: 0.0331 - loss: 0.0099 - reconstruction_loss: 0.0096\n",
            "Epoch 82/100\n",
            "\u001b[1m21/21\u001b[0m \u001b[32m━━━━━━━━━━━━━━━━━━━━\u001b[0m\u001b[37m\u001b[0m \u001b[1m0s\u001b[0m 13ms/step - kl_loss: 0.0319 - loss: 0.0099 - reconstruction_loss: 0.0096\n",
            "Epoch 83/100\n",
            "\u001b[1m21/21\u001b[0m \u001b[32m━━━━━━━━━━━━━━━━━━━━\u001b[0m\u001b[37m\u001b[0m \u001b[1m0s\u001b[0m 13ms/step - kl_loss: 0.0315 - loss: 0.0098 - reconstruction_loss: 0.0095\n",
            "Epoch 84/100\n",
            "\u001b[1m21/21\u001b[0m \u001b[32m━━━━━━━━━━━━━━━━━━━━\u001b[0m\u001b[37m\u001b[0m \u001b[1m0s\u001b[0m 13ms/step - kl_loss: 0.0324 - loss: 0.0099 - reconstruction_loss: 0.0095\n",
            "Epoch 85/100\n",
            "\u001b[1m21/21\u001b[0m \u001b[32m━━━━━━━━━━━━━━━━━━━━\u001b[0m\u001b[37m\u001b[0m \u001b[1m0s\u001b[0m 13ms/step - kl_loss: 0.0324 - loss: 0.0096 - reconstruction_loss: 0.0093\n",
            "Epoch 86/100\n",
            "\u001b[1m21/21\u001b[0m \u001b[32m━━━━━━━━━━━━━━━━━━━━\u001b[0m\u001b[37m\u001b[0m \u001b[1m0s\u001b[0m 13ms/step - kl_loss: 0.0344 - loss: 0.0101 - reconstruction_loss: 0.0098\n",
            "Epoch 87/100\n",
            "\u001b[1m21/21\u001b[0m \u001b[32m━━━━━━━━━━━━━━━━━━━━\u001b[0m\u001b[37m\u001b[0m \u001b[1m0s\u001b[0m 13ms/step - kl_loss: 0.0327 - loss: 0.0101 - reconstruction_loss: 0.0098\n",
            "Epoch 88/100\n",
            "\u001b[1m21/21\u001b[0m \u001b[32m━━━━━━━━━━━━━━━━━━━━\u001b[0m\u001b[37m\u001b[0m \u001b[1m0s\u001b[0m 13ms/step - kl_loss: 0.0358 - loss: 0.0102 - reconstruction_loss: 0.0098\n",
            "Epoch 89/100\n",
            "\u001b[1m21/21\u001b[0m \u001b[32m━━━━━━━━━━━━━━━━━━━━\u001b[0m\u001b[37m\u001b[0m \u001b[1m0s\u001b[0m 13ms/step - kl_loss: 0.0329 - loss: 0.0096 - reconstruction_loss: 0.0093\n",
            "Epoch 90/100\n",
            "\u001b[1m21/21\u001b[0m \u001b[32m━━━━━━━━━━━━━━━━━━━━\u001b[0m\u001b[37m\u001b[0m \u001b[1m0s\u001b[0m 13ms/step - kl_loss: 0.0322 - loss: 0.0092 - reconstruction_loss: 0.0089\n",
            "Epoch 91/100\n",
            "\u001b[1m21/21\u001b[0m \u001b[32m━━━━━━━━━━━━━━━━━━━━\u001b[0m\u001b[37m\u001b[0m \u001b[1m0s\u001b[0m 13ms/step - kl_loss: 0.0321 - loss: 0.0092 - reconstruction_loss: 0.0088\n",
            "Epoch 92/100\n",
            "\u001b[1m21/21\u001b[0m \u001b[32m━━━━━━━━━━━━━━━━━━━━\u001b[0m\u001b[37m\u001b[0m \u001b[1m0s\u001b[0m 13ms/step - kl_loss: 0.0334 - loss: 0.0092 - reconstruction_loss: 0.0089\n",
            "Epoch 93/100\n",
            "\u001b[1m21/21\u001b[0m \u001b[32m━━━━━━━━━━━━━━━━━━━━\u001b[0m\u001b[37m\u001b[0m \u001b[1m0s\u001b[0m 13ms/step - kl_loss: 0.0329 - loss: 0.0089 - reconstruction_loss: 0.0085\n",
            "Epoch 94/100\n",
            "\u001b[1m21/21\u001b[0m \u001b[32m━━━━━━━━━━━━━━━━━━━━\u001b[0m\u001b[37m\u001b[0m \u001b[1m0s\u001b[0m 13ms/step - kl_loss: 0.0310 - loss: 0.0087 - reconstruction_loss: 0.0084\n",
            "Epoch 95/100\n",
            "\u001b[1m21/21\u001b[0m \u001b[32m━━━━━━━━━━━━━━━━━━━━\u001b[0m\u001b[37m\u001b[0m \u001b[1m0s\u001b[0m 13ms/step - kl_loss: 0.0319 - loss: 0.0088 - reconstruction_loss: 0.0085\n",
            "Epoch 96/100\n",
            "\u001b[1m21/21\u001b[0m \u001b[32m━━━━━━━━━━━━━━━━━━━━\u001b[0m\u001b[37m\u001b[0m \u001b[1m0s\u001b[0m 13ms/step - kl_loss: 0.0310 - loss: 0.0086 - reconstruction_loss: 0.0083\n",
            "Epoch 97/100\n",
            "\u001b[1m21/21\u001b[0m \u001b[32m━━━━━━━━━━━━━━━━━━━━\u001b[0m\u001b[37m\u001b[0m \u001b[1m0s\u001b[0m 13ms/step - kl_loss: 0.0316 - loss: 0.0089 - reconstruction_loss: 0.0085\n",
            "Epoch 98/100\n",
            "\u001b[1m21/21\u001b[0m \u001b[32m━━━━━━━━━━━━━━━━━━━━\u001b[0m\u001b[37m\u001b[0m \u001b[1m0s\u001b[0m 13ms/step - kl_loss: 0.0316 - loss: 0.0086 - reconstruction_loss: 0.0083\n",
            "Epoch 99/100\n",
            "\u001b[1m21/21\u001b[0m \u001b[32m━━━━━━━━━━━━━━━━━━━━\u001b[0m\u001b[37m\u001b[0m \u001b[1m0s\u001b[0m 13ms/step - kl_loss: 0.0308 - loss: 0.0086 - reconstruction_loss: 0.0083\n",
            "Epoch 100/100\n",
            "\u001b[1m21/21\u001b[0m \u001b[32m━━━━━━━━━━━━━━━━━━━━\u001b[0m\u001b[37m\u001b[0m \u001b[1m0s\u001b[0m 13ms/step - kl_loss: 0.0324 - loss: 0.0086 - reconstruction_loss: 0.0083\n"
          ]
        },
        {
          "output_type": "execute_result",
          "data": {
            "text/plain": [
              "<keras.src.callbacks.history.History at 0x7c58c01ec5d0>"
            ]
          },
          "metadata": {},
          "execution_count": 57
        }
      ],
      "source": [
        "# Créer le modèle CVAE\n",
        "cvae = CVAE(encoder, decoder, variational=True)\n",
        "#cvae = CVAE(encoder, decoder, variational=False\n",
        "cvae.latent_vectors_history = []  # Initialiser l'historique des vecteurs latents\n",
        "\n",
        "# Créer une instance du callback\n",
        "latent_space_callback = LatentSpaceVisualizationCallback()\n",
        "\n",
        "# Compiler et entraîner le modèle\n",
        "cvae.compile(optimizer=keras.optimizers.Adam(clipnorm=1.0))\n",
        "cvae.fit(x_t, epochs=100, batch_size=32)\n",
        "#cvae.fit(x_t, epochs=100, batch_size=32, callbacks=[latent_space_callback]) Ne marche pas encore..."
      ]
    },
    {
      "cell_type": "code",
      "source": [
        "\"\"\"\n",
        "# Affichage des loss avec TensorBoard\n",
        "# --> Vérifier la convergence\n",
        "%load_ext tensorboard\n",
        "%tensorboard --logdir logs/fit\n",
        "\"\"\""
      ],
      "metadata": {
        "id": "aZBhYccrfjnz",
        "colab": {
          "base_uri": "https://localhost:8080/",
          "height": 35
        },
        "outputId": "b3b91cdb-f1bf-4121-c535-9869b7e04a6b"
      },
      "id": "aZBhYccrfjnz",
      "execution_count": null,
      "outputs": [
        {
          "output_type": "execute_result",
          "data": {
            "text/plain": [
              "'\\n# Affichage des loss avec TensorBoard\\n# --> Vérifier la convergence\\n%load_ext tensorboard\\n%tensorboard --logdir logs/fit\\n'"
            ],
            "application/vnd.google.colaboratory.intrinsic+json": {
              "type": "string"
            }
          },
          "metadata": {},
          "execution_count": 150
        }
      ]
    },
    {
      "cell_type": "code",
      "execution_count": 58,
      "id": "2af6f71a",
      "metadata": {
        "colab": {
          "base_uri": "https://localhost:8080/"
        },
        "id": "2af6f71a",
        "outputId": "95221b97-d381-4cb3-9c23-91b5b6e56100"
      },
      "outputs": [
        {
          "output_type": "stream",
          "name": "stderr",
          "text": [
            "/usr/local/lib/python3.11/dist-packages/keras/src/models/functional.py:237: UserWarning: The structure of `inputs` doesn't match the expected structure.\n",
            "Expected: ['encoder_image_input']\n",
            "Received: inputs=Tensor(shape=(32, 128, 128, 3))\n",
            "  warnings.warn(msg)\n",
            "WARNING:tensorflow:5 out of the last 19 calls to <function TensorFlowTrainer.make_predict_function.<locals>.one_step_on_data_distributed at 0x7c58645e2020> triggered tf.function retracing. Tracing is expensive and the excessive number of tracings could be due to (1) creating @tf.function repeatedly in a loop, (2) passing tensors with different shapes, (3) passing Python objects instead of tensors. For (1), please define your @tf.function outside of the loop. For (2), @tf.function has reduce_retracing=True option that can avoid unnecessary retracing. For (3), please refer to https://www.tensorflow.org/guide/function#controlling_retracing and https://www.tensorflow.org/api_docs/python/tf/function for  more details.\n"
          ]
        },
        {
          "output_type": "stream",
          "name": "stdout",
          "text": [
            "\r\u001b[1m 1/11\u001b[0m \u001b[32m━\u001b[0m\u001b[37m━━━━━━━━━━━━━━━━━━━\u001b[0m \u001b[1m10s\u001b[0m 1s/step"
          ]
        },
        {
          "output_type": "stream",
          "name": "stderr",
          "text": [
            "/usr/local/lib/python3.11/dist-packages/keras/src/models/functional.py:237: UserWarning: The structure of `inputs` doesn't match the expected structure.\n",
            "Expected: ['encoder_image_input']\n",
            "Received: inputs=Tensor(shape=(None, 128, 128, 3))\n",
            "  warnings.warn(msg)\n"
          ]
        },
        {
          "output_type": "stream",
          "name": "stdout",
          "text": [
            "\u001b[1m11/11\u001b[0m \u001b[32m━━━━━━━━━━━━━━━━━━━━\u001b[0m\u001b[37m\u001b[0m \u001b[1m2s\u001b[0m 111ms/step\n"
          ]
        }
      ],
      "source": [
        "z_mean, _, _ = cvae.encoder.predict(x_test, batch_size=32)"
      ]
    },
    {
      "cell_type": "code",
      "execution_count": 59,
      "id": "070f1daa",
      "metadata": {
        "colab": {
          "base_uri": "https://localhost:8080/"
        },
        "id": "070f1daa",
        "outputId": "be3e0343-51c1-49b7-d805-5e69ede17e08"
      },
      "outputs": [
        {
          "output_type": "stream",
          "name": "stdout",
          "text": [
            "Nb of samples containing NaN ：0 / 330\n"
          ]
        }
      ],
      "source": [
        "import numpy as np\n",
        "\n",
        "nan_rows = np.any(np.isnan(z_mean), axis=1)\n",
        "print(f\"Nb of samples containing NaN ：{np.sum(nan_rows)} / {len(z_mean)}\")\n"
      ]
    },
    {
      "cell_type": "code",
      "execution_count": 60,
      "id": "ce2ca742",
      "metadata": {
        "colab": {
          "base_uri": "https://localhost:8080/"
        },
        "id": "ce2ca742",
        "outputId": "6cd55060-bdea-4e8f-822d-fa9be655a439"
      },
      "outputs": [
        {
          "output_type": "stream",
          "name": "stdout",
          "text": [
            "[[-0.06421144  0.06291476 -0.01522868 -0.02492054 -0.04126806 -0.02384536\n",
            "  -0.01977484  0.027026   -0.04848308  0.10478999 -0.00101864  0.01070244\n",
            "   0.04446147 -0.00297442  0.02060886  0.00092393  0.04315234 -0.01914292\n",
            "   0.01915619 -0.04823082  0.01448171  0.01860735 -0.06786352  0.00429417\n",
            "   0.03545945  0.0151446  -0.01503804 -0.05887954  0.04017954  0.02810508\n",
            "   0.03184067 -0.0060837 ]]\n"
          ]
        }
      ],
      "source": [
        "print(z_mean[:1])"
      ]
    },
    {
      "cell_type": "code",
      "execution_count": 61,
      "id": "d3fd7bf0",
      "metadata": {
        "id": "d3fd7bf0"
      },
      "outputs": [],
      "source": [
        "from sklearn.manifold import TSNE\n",
        "import matplotlib.pyplot as plt\n",
        "# z_fixed = np.nan_to_num(z_mean, nan=0.0)  # replace all NaN by 0.0\n",
        "\n",
        "\n",
        "# t-SNE (for decreasing the dimension, can also use PCA)\n",
        "z_2d = TSNE(n_components=2, perplexity=30, random_state=42).fit_transform(z_mean)\n"
      ]
    },
    {
      "cell_type": "code",
      "execution_count": null,
      "id": "e7231003",
      "metadata": {
        "colab": {
          "base_uri": "https://localhost:8080/",
          "height": 70
        },
        "id": "e7231003",
        "outputId": "be1b4e2b-5c7d-40fc-c68c-6a85304736f1"
      },
      "outputs": [
        {
          "output_type": "execute_result",
          "data": {
            "text/plain": [
              "'\\ny_colormap = (y_test.flatten() + 1) // 2\\n\\nplt.figure(figsize=(10, 8))\\nscatter = plt.scatter(z_2d[:, 0], z_2d[:, 1], c=y_colormap, cmap=\"coolwarm\", alpha=0.7)\\nplt.colorbar(scatter, ticks=[0, 1], label=\"Gender\")\\nplt.xlabel(\"z[0]\")\\nplt.ylabel(\"z[1]\")\\nplt.title(\"Latent Space Clustering by Gender\")\\nplt.grid(True)\\nplt.show()\\n'"
            ],
            "application/vnd.google.colaboratory.intrinsic+json": {
              "type": "string"
            }
          },
          "metadata": {},
          "execution_count": 26
        }
      ],
      "source": [
        "\"\"\"\n",
        "y_colormap = (y_test.flatten() + 1) // 2\n",
        "\n",
        "plt.figure(figsize=(10, 8))\n",
        "scatter = plt.scatter(z_2d[:, 0], z_2d[:, 1], c=y_colormap, cmap=\"coolwarm\", alpha=0.7)\n",
        "plt.colorbar(scatter, ticks=[0, 1], label=\"Gender\")\n",
        "plt.xlabel(\"z[0]\")\n",
        "plt.ylabel(\"z[1]\")\n",
        "plt.title(\"Latent Space Clustering by Gender\")\n",
        "plt.grid(True)\n",
        "plt.show()\n",
        "\"\"\""
      ]
    },
    {
      "cell_type": "markdown",
      "id": "5e4c969b",
      "metadata": {
        "id": "5e4c969b"
      },
      "source": [
        "# The gender clusters are not well seperated, but I tried to generate male/female images and it seems to be not bad..."
      ]
    },
    {
      "cell_type": "code",
      "execution_count": 25,
      "id": "d26576d5",
      "metadata": {
        "colab": {
          "base_uri": "https://localhost:8080/",
          "height": 87
        },
        "id": "d26576d5",
        "outputId": "daab4cbb-1414-49fa-82c4-500d02838ff8"
      },
      "outputs": [
        {
          "output_type": "execute_result",
          "data": {
            "text/plain": [
              "'\\nimport numpy as np\\nimport matplotlib.pyplot as plt\\n\\n# generate a random latent z\\nlatent_dim = 32\\nz_sample = np.random.normal(size=(1, latent_dim))\\n\\n# condition label：-1 = female，1 = male\\nlabel_male = np.array([[1]])\\nlabel_female = np.array([[-1]])\\n\\n# generate male/female image\\nimg_male = cvae.decoder.predict([z_sample, label_male])\\nimg_female = cvae.decoder.predict([z_sample, label_female])\\n\\nplt.figure(figsize=(4, 2))\\nplt.subplot(1, 2, 1)\\nplt.title(\"Male\")\\nplt.imshow(img_male[0])\\nplt.axis(\\'off\\')\\n\\nplt.subplot(1, 2, 2)\\nplt.title(\"Female\")\\nplt.imshow(img_female[0])\\nplt.axis(\\'off\\')\\nplt.show()\\n'"
            ],
            "application/vnd.google.colaboratory.intrinsic+json": {
              "type": "string"
            }
          },
          "metadata": {},
          "execution_count": 25
        }
      ],
      "source": [
        "\"\"\"\n",
        "import numpy as np\n",
        "import matplotlib.pyplot as plt\n",
        "\n",
        "# generate a random latent z\n",
        "latent_dim = 32\n",
        "z_sample = np.random.normal(size=(1, latent_dim))\n",
        "\n",
        "# condition label：-1 = female，1 = male\n",
        "label_male = np.array([[1]])\n",
        "label_female = np.array([[-1]])\n",
        "\n",
        "# generate male/female image\n",
        "img_male = cvae.decoder.predict([z_sample, label_male])\n",
        "img_female = cvae.decoder.predict([z_sample, label_female])\n",
        "\n",
        "plt.figure(figsize=(4, 2))\n",
        "plt.subplot(1, 2, 1)\n",
        "plt.title(\"Male\")\n",
        "plt.imshow(img_male[0])\n",
        "plt.axis('off')\n",
        "\n",
        "plt.subplot(1, 2, 2)\n",
        "plt.title(\"Female\")\n",
        "plt.imshow(img_female[0])\n",
        "plt.axis('off')\n",
        "plt.show()\n",
        "\"\"\"\n",
        "\n"
      ]
    },
    {
      "cell_type": "markdown",
      "source": [
        "# Guide d'uitilisation : exemple de commandes\n",
        "## Génération d'un vecteur latent V"
      ],
      "metadata": {
        "id": "rHEIjYXHU6qm"
      },
      "id": "rHEIjYXHU6qm"
    },
    {
      "cell_type": "markdown",
      "source": [
        "## Etape 1 : Sélection d'une image originale\n",
        "\n",
        "*   Exemple pour la 1ère image du tableau data : image_originale=data[0:1]\n",
        "\n",
        "*   Attention : vérifier que l'image est bien de taille (1, 128, 128, 3)"
      ],
      "metadata": {
        "id": "92W59avUiGKX"
      },
      "id": "92W59avUiGKX"
    },
    {
      "cell_type": "code",
      "source": [
        "image_originale=data[0:1]\n",
        "image_originale.shape\n",
        "# L'image doit être de taille (1, 128, 128, 3)"
      ],
      "metadata": {
        "colab": {
          "base_uri": "https://localhost:8080/"
        },
        "id": "4ErzoPEbW5h6",
        "outputId": "0b02dbc8-9be6-4291-c195-9a195a9f2370"
      },
      "id": "4ErzoPEbW5h6",
      "execution_count": 62,
      "outputs": [
        {
          "output_type": "execute_result",
          "data": {
            "text/plain": [
              "(1, 128, 128, 3)"
            ]
          },
          "metadata": {},
          "execution_count": 62
        }
      ]
    },
    {
      "cell_type": "markdown",
      "source": [
        "## Etape 2 : Calcul d'un vecteur latent V\n",
        "\n",
        "\n",
        "*   V=cvae.encoder.predict(image_originale, batch_size=32)[0]"
      ],
      "metadata": {
        "id": "AS2akkiiiJkg"
      },
      "id": "AS2akkiiiJkg"
    },
    {
      "cell_type": "code",
      "source": [
        "V, _, _ = cvae.encoder.predict(image_originale, batch_size=32)\n",
        "V"
      ],
      "metadata": {
        "colab": {
          "base_uri": "https://localhost:8080/"
        },
        "id": "eypW-vNAXqIq",
        "outputId": "304d5dee-4f75-4ad3-b892-f39f2243a91b"
      },
      "id": "eypW-vNAXqIq",
      "execution_count": 63,
      "outputs": [
        {
          "output_type": "stream",
          "name": "stdout",
          "text": [
            "\u001b[1m1/1\u001b[0m \u001b[32m━━━━━━━━━━━━━━━━━━━━\u001b[0m\u001b[37m\u001b[0m \u001b[1m1s\u001b[0m 601ms/step\n"
          ]
        },
        {
          "output_type": "execute_result",
          "data": {
            "text/plain": [
              "array([[ 0.16210876,  0.00628384,  0.01261701, -0.03290621,  0.05847537,\n",
              "         0.04384892, -0.06518196,  0.04084671,  0.01187402, -0.01955886,\n",
              "         0.0233461 , -0.00632406, -0.04459026, -0.04058057, -0.0590171 ,\n",
              "        -0.02239759, -0.07203408, -0.05354971, -0.02675051, -0.01454784,\n",
              "         0.00570182, -0.02106272, -0.01359854,  0.08227633,  0.06352998,\n",
              "        -0.00868511, -0.0117877 ,  0.07622753, -0.0719669 ,  0.03064128,\n",
              "        -0.0200735 ,  0.02851535]], dtype=float32)"
            ]
          },
          "metadata": {},
          "execution_count": 63
        }
      ]
    },
    {
      "cell_type": "markdown",
      "source": [
        "## Construction d'une image à partir du vecteur latent V\n",
        "\n",
        "## Etape 1 : Reconstitution d'une nouvelle image\n",
        "\n",
        "\n",
        "*   nouvelle_image = cvae.decoder.predict([V])\n",
        "\n",
        "\n"
      ],
      "metadata": {
        "id": "6JHJEELriQYA"
      },
      "id": "6JHJEELriQYA"
    },
    {
      "cell_type": "code",
      "source": [
        "nouvelle_image = cvae.decoder.predict([V])\n",
        "print(nouvelle_image.shape)"
      ],
      "metadata": {
        "colab": {
          "base_uri": "https://localhost:8080/"
        },
        "id": "pEFAr_3ChjlY",
        "outputId": "f049a3a0-d2cf-4836-fe5c-ca94cc7f4909"
      },
      "id": "pEFAr_3ChjlY",
      "execution_count": 64,
      "outputs": [
        {
          "output_type": "stream",
          "name": "stdout",
          "text": [
            "\u001b[1m1/1\u001b[0m \u001b[32m━━━━━━━━━━━━━━━━━━━━\u001b[0m\u001b[37m\u001b[0m \u001b[1m0s\u001b[0m 298ms/step\n",
            "(1, 128, 128, 3)\n"
          ]
        }
      ]
    },
    {
      "cell_type": "markdown",
      "source": [
        "## Etape 2 : Affichage"
      ],
      "metadata": {
        "id": "H7R69nL6lLNl"
      },
      "id": "H7R69nL6lLNl"
    },
    {
      "cell_type": "code",
      "source": [
        "plt.figure(figsize=(4, 2))\n",
        "plt.subplot(1, 2, 1)\n",
        "plt.title(\"Portrait original\")\n",
        "plt.imshow(image_originale[0])\n",
        "plt.axis('off')\n",
        "\n",
        "\n",
        "plt.subplot(1, 2, 2)\n",
        "plt.title(\"Portrait reconstruit\")\n",
        "plt.imshow(nouvelle_image[0])\n",
        "plt.axis('off')\n",
        "plt.show()"
      ],
      "metadata": {
        "colab": {
          "base_uri": "https://localhost:8080/",
          "height": 200
        },
        "id": "IjwJ9thNhu_1",
        "outputId": "a0b48c5b-e3d2-441e-cce4-5d7e519c8734"
      },
      "id": "IjwJ9thNhu_1",
      "execution_count": 65,
      "outputs": [
        {
          "output_type": "display_data",
          "data": {
            "text/plain": [
              "<Figure size 400x200 with 2 Axes>"
            ],
            "image/png": "[encoded data removed]"
          },
          "metadata": {}
        }
      ]
    },
    {
      "cell_type": "markdown",
      "source": [
        "# Générer plusieurs vecteurs latents à partir d'images"
      ],
      "metadata": {
        "id": "c7iSxtAkBapJ"
      },
      "id": "c7iSxtAkBapJ"
    },
    {
      "cell_type": "markdown",
      "source": [
        "## Etape 1 : Sélection des images\n",
        "*   Exemple pour les 10ème et 11ème images du tableau data : images_originales=data[10:12]"
      ],
      "metadata": {
        "id": "oX1UzoXFEFCI"
      },
      "id": "oX1UzoXFEFCI"
    },
    {
      "cell_type": "code",
      "source": [
        "images_originales=data[10:12]\n",
        "images_originales.shape"
      ],
      "metadata": {
        "colab": {
          "base_uri": "https://localhost:8080/"
        },
        "id": "LiS6RbMqV0hj",
        "outputId": "19ed32fa-c418-4d44-e94f-3be81f38b3da"
      },
      "id": "LiS6RbMqV0hj",
      "execution_count": 68,
      "outputs": [
        {
          "output_type": "execute_result",
          "data": {
            "text/plain": [
              "(2, 128, 128, 3)"
            ]
          },
          "metadata": {},
          "execution_count": 68
        }
      ]
    },
    {
      "cell_type": "markdown",
      "source": [
        "## Etape 2 : Calcul d'une matrice V contenant les vecteurs latents\n",
        "\n",
        "*  V=cvae.encoder.predict(image_originale, batch_size=32)[0]\n"
      ],
      "metadata": {
        "id": "vdATPIc7Faqf"
      },
      "id": "vdATPIc7Faqf"
    },
    {
      "cell_type": "code",
      "source": [
        "V, _, _ = cvae.encoder.predict(images_originales, batch_size=32)\n",
        "V"
      ],
      "metadata": {
        "colab": {
          "base_uri": "https://localhost:8080/"
        },
        "id": "DsEvMHxAWAmE",
        "outputId": "85fe4f3b-5914-40e7-d5a8-aa5c06b8de34"
      },
      "id": "DsEvMHxAWAmE",
      "execution_count": 71,
      "outputs": [
        {
          "output_type": "stream",
          "name": "stdout",
          "text": [
            "\u001b[1m1/1\u001b[0m \u001b[32m━━━━━━━━━━━━━━━━━━━━\u001b[0m\u001b[37m\u001b[0m \u001b[1m0s\u001b[0m 35ms/step\n"
          ]
        },
        {
          "output_type": "execute_result",
          "data": {
            "text/plain": [
              "array([[-0.0476403 ,  0.02911396, -0.00442193, -0.07001449, -0.06089375,\n",
              "         0.04473187,  0.04609232, -0.00798475,  0.04593182, -0.01118236,\n",
              "         0.02586333,  0.03351005, -0.00876119,  0.03769946,  0.12721595,\n",
              "         0.0299308 ,  0.0126704 , -0.09208377, -0.00673427,  0.04372239,\n",
              "         0.00908426, -0.05433875,  0.0255896 , -0.04848168, -0.01372365,\n",
              "        -0.03497582,  0.0392681 ,  0.01454661, -0.02425935, -0.0023289 ,\n",
              "         0.05513531, -0.0319355 ],\n",
              "       [-0.02498159, -0.01097503,  0.00890088, -0.01398267,  0.01161765,\n",
              "        -0.02595121, -0.00760181, -0.04814084,  0.01114189,  0.01240345,\n",
              "         0.00840377,  0.0102628 , -0.01884939, -0.02265725,  0.01481544,\n",
              "         0.0426182 ,  0.03570946, -0.01369895,  0.04683966, -0.00435837,\n",
              "        -0.01492373,  0.06275252, -0.01576284, -0.04573271, -0.03223577,\n",
              "         0.02143495, -0.01531191,  0.0149379 ,  0.01239636,  0.02079797,\n",
              "        -0.00042894,  0.03460976]], dtype=float32)"
            ]
          },
          "metadata": {},
          "execution_count": 71
        }
      ]
    },
    {
      "cell_type": "markdown",
      "source": [
        "# Générer plusieurs images latents à partir de plusieurs vecteurs latents\n",
        "\n",
        "## Etape 1 : Reconstitution des nouvelles images\n",
        "\n",
        "\n",
        "*   nouvelles_images = cvae.decoder.predict([V])\n"
      ],
      "metadata": {
        "id": "yDvpvhmRF1or"
      },
      "id": "yDvpvhmRF1or"
    },
    {
      "cell_type": "code",
      "source": [
        "nouvelles_images = cvae.decoder.predict([V])\n",
        "print(nouvelles_images.shape)"
      ],
      "metadata": {
        "colab": {
          "base_uri": "https://localhost:8080/"
        },
        "id": "wCWF5XhDWG_s",
        "outputId": "2799cee2-9807-4933-a6da-5fb8aaeeba81"
      },
      "id": "wCWF5XhDWG_s",
      "execution_count": 72,
      "outputs": [
        {
          "output_type": "stream",
          "name": "stdout",
          "text": [
            "\u001b[1m1/1\u001b[0m \u001b[32m━━━━━━━━━━━━━━━━━━━━\u001b[0m\u001b[37m\u001b[0m \u001b[1m0s\u001b[0m 35ms/step\n",
            "(2, 128, 128, 3)\n"
          ]
        }
      ]
    },
    {
      "cell_type": "markdown",
      "source": [
        "## Etape 2 : Affichage"
      ],
      "metadata": {
        "id": "JxX0SmGiGFPr"
      },
      "id": "JxX0SmGiGFPr"
    },
    {
      "cell_type": "code",
      "source": [
        "plt.figure(figsize =(4, 2))\n",
        "plt.subplot(2, 2, 1)\n",
        "plt.title(\"Portrait original 1\")\n",
        "plt.imshow(images_originales[0])\n",
        "plt.axis('off')\n",
        "\n",
        "plt.subplot(2, 2, 2)\n",
        "plt.title(\"Nouveau portrait 1\")\n",
        "plt.imshow(images_originales[0])\n",
        "plt.axis('off')\n",
        "\n",
        "plt.subplot(2, 2, 3)\n",
        "plt.title(\"Portrait original 2\")\n",
        "plt.imshow(nouvelles_images[1])\n",
        "plt.axis('off')\n",
        "\n",
        "\n",
        "\n",
        "plt.subplot(2, 2, 4)\n",
        "plt.title(\"Nouveau portrait 2\")\n",
        "plt.imshow(nouvelles_images[1])\n",
        "plt.axis('off')\n",
        "plt.show()\n"
      ],
      "metadata": {
        "colab": {
          "base_uri": "https://localhost:8080/",
          "height": 213
        },
        "id": "_-B8sMO9WMeC",
        "outputId": "edf7ccc9-42be-469c-c9e1-4ac76ebfa633"
      },
      "id": "_-B8sMO9WMeC",
      "execution_count": 73,
      "outputs": [
        {
          "output_type": "display_data",
          "data": {
            "text/plain": [
              "<Figure size 400x200 with 4 Axes>"
            ],
            "image/png": "[encoded data removed]"
          },
          "metadata": {}
        }
      ]
    }
  ],
  "metadata": {
    "kernelspec": {
      "display_name": "Python 3",
      "name": "python3"
    },
    "language_info": {
      "codemirror_mode": {
        "name": "ipython",
        "version": 3
      },
      "file_extension": ".py",
      "mimetype": "text/x-python",
      "name": "python",
      "nbconvert_exporter": "python",
      "pygments_lexer": "ipython3",
      "version": "3.9.12"
    },
    "colab": {
      "provenance": [],
      "gpuType": "A100",
      "machine_shape": "hm"
    },
    "accelerator": "GPU"
  },
  "nbformat": 4,
  "nbformat_minor": 5
}