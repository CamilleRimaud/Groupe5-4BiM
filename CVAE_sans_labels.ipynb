{
  "cells": [
    {
      "cell_type": "code",
      "execution_count": 1,
      "id": "5f8588e9",
      "metadata": {
        "id": "5f8588e9"
      },
      "outputs": [],
      "source": [
        "import os\n",
        "\n",
        "os.environ[\"KERAS_BACKEND\"] = \"tensorflow\"\n",
        "\n",
        "import numpy as np\n",
        "import datetime\n",
        "import matplotlib.pyplot as plt\n",
        "import tensorflow as tf\n",
        "import keras\n",
        "from keras import ops\n",
        "from keras import layers, models\n",
        "from keras import backend as K\n",
        "from keras.callbacks import TensorBoard\n",
        "from PIL import Image\n",
        "from sklearn.preprocessing import MinMaxScaler\n",
        "from sklearn.model_selection import train_test_split"
      ]
    },
    {
      "cell_type": "code",
      "source": [
        "# Connexion Google Drive\n",
        "from google.colab import drive\n",
        "drive.mount('/content/drive')"
      ],
      "metadata": {
        "colab": {
          "base_uri": "https://localhost:8080/"
        },
        "id": "aTqPTNjzMFhR",
        "outputId": "1cfc14c5-279f-44a9-9a7e-65149ea30b0d"
      },
      "id": "aTqPTNjzMFhR",
      "execution_count": 2,
      "outputs": [
        {
          "output_type": "stream",
          "name": "stdout",
          "text": [
            "Mounted at /content/drive\n"
          ]
        }
      ]
    },
    {
      "cell_type": "code",
      "source": [
        "cd drive/MyDrive/Colab Notebooks/data_sample_10000"
      ],
      "metadata": {
        "colab": {
          "base_uri": "https://localhost:8080/"
        },
        "id": "kdl0pQcjMPhv",
        "outputId": "de4e148f-84eb-49f1-9bbc-d5c0e9ef7fa2"
      },
      "id": "kdl0pQcjMPhv",
      "execution_count": 3,
      "outputs": [
        {
          "output_type": "stream",
          "name": "stdout",
          "text": [
            "/content/drive/MyDrive/Colab Notebooks/data_sample_10000\n"
          ]
        }
      ]
    },
    {
      "cell_type": "code",
      "source": [
        "#!unzip data_sample_10000.zip -d data_sample_10000"
      ],
      "metadata": {
        "id": "chXxpA7650I7"
      },
      "id": "chXxpA7650I7",
      "execution_count": null,
      "outputs": []
    },
    {
      "cell_type": "code",
      "source": [
        "def format_img(id):\n",
        "    '''\n",
        "\n",
        "    Parameters\n",
        "    ----------\n",
        "    The identifier of the image to load\n",
        "\n",
        "\n",
        "    Returns\n",
        "    -------\n",
        "    The image cropped and resized in a numpy array of shape (128, 128, 3)\n",
        "\n",
        "    '''\n",
        "\n",
        "    # Load the image and turn it into a numpy array\n",
        "    image = Image.open(f'./{id}.jpg')\n",
        "\n",
        "    #Size of the original image\n",
        "    width, height = image.size\n",
        "\n",
        "    # Normalization of the image\n",
        "    # The image is centered and cropped to widthxwidth format\n",
        "    \"\"\"\n",
        "    left = 0\n",
        "    top = (height/2)-(width/2)\n",
        "    right = width\n",
        "    bottom = (height/2)+(width/2)\n",
        "    \"\"\"\n",
        "    image = image.crop((0, 20, 178, 198))\n",
        "\n",
        "    # Change of resolution to 128x128\n",
        "    img_resized = image.resize((128, 128))\n",
        "\n",
        "    # -1 to flatten, 3 for RGB channels\n",
        "    image_np = np.array(img_resized) # do not flatten\n",
        "\n",
        "    return image_np"
      ],
      "metadata": {
        "id": "Ucw8hqZLMv_5"
      },
      "id": "Ucw8hqZLMv_5",
      "execution_count": 4,
      "outputs": []
    },
    {
      "cell_type": "code",
      "source": [
        "data=[]\n",
        "\n",
        "for i in range(1, 1001):\n",
        "    id = f\"{i:06}\"  # Format the ID with 5 numbers, filled with zeroes on the left side\n",
        "    data.append(format_img(id))\n",
        "    if i%100==0:\n",
        "        print(id)\n",
        "\n",
        "\n",
        "data=np.array(data)\n",
        "print(data.shape)\n"
      ],
      "metadata": {
        "colab": {
          "base_uri": "https://localhost:8080/",
          "height": 384
        },
        "id": "oT5NKvZhNoXc",
        "outputId": "b627f3c9-ea04-4eee-d961-034fd04ab682"
      },
      "id": "oT5NKvZhNoXc",
      "execution_count": 5,
      "outputs": [
        {
          "output_type": "stream",
          "name": "stdout",
          "text": [
            "000100\n"
          ]
        },
        {
          "output_type": "error",
          "ename": "KeyboardInterrupt",
          "evalue": "",
          "traceback": [
            "\u001b[0;31m---------------------------------------------------------------------------\u001b[0m",
            "\u001b[0;31mKeyboardInterrupt\u001b[0m                         Traceback (most recent call last)",
            "\u001b[0;32m<ipython-input-5-163e72ad1692>\u001b[0m in \u001b[0;36m<cell line: 0>\u001b[0;34m()\u001b[0m\n\u001b[1;32m      3\u001b[0m \u001b[0;32mfor\u001b[0m \u001b[0mi\u001b[0m \u001b[0;32min\u001b[0m \u001b[0mrange\u001b[0m\u001b[0;34m(\u001b[0m\u001b[0;36m1\u001b[0m\u001b[0;34m,\u001b[0m \u001b[0;36m1001\u001b[0m\u001b[0;34m)\u001b[0m\u001b[0;34m:\u001b[0m\u001b[0;34m\u001b[0m\u001b[0;34m\u001b[0m\u001b[0m\n\u001b[1;32m      4\u001b[0m     \u001b[0mid\u001b[0m \u001b[0;34m=\u001b[0m \u001b[0;34mf\"{i:06}\"\u001b[0m  \u001b[0;31m# Format the ID with 5 numbers, filled with zeroes on the left side\u001b[0m\u001b[0;34m\u001b[0m\u001b[0;34m\u001b[0m\u001b[0m\n\u001b[0;32m----> 5\u001b[0;31m     \u001b[0mdata\u001b[0m\u001b[0;34m.\u001b[0m\u001b[0mappend\u001b[0m\u001b[0;34m(\u001b[0m\u001b[0mformat_img\u001b[0m\u001b[0;34m(\u001b[0m\u001b[0mid\u001b[0m\u001b[0;34m)\u001b[0m\u001b[0;34m)\u001b[0m\u001b[0;34m\u001b[0m\u001b[0;34m\u001b[0m\u001b[0m\n\u001b[0m\u001b[1;32m      6\u001b[0m     \u001b[0;32mif\u001b[0m \u001b[0mi\u001b[0m\u001b[0;34m%\u001b[0m\u001b[0;36m100\u001b[0m\u001b[0;34m==\u001b[0m\u001b[0;36m0\u001b[0m\u001b[0;34m:\u001b[0m\u001b[0;34m\u001b[0m\u001b[0;34m\u001b[0m\u001b[0m\n\u001b[1;32m      7\u001b[0m         \u001b[0mprint\u001b[0m\u001b[0;34m(\u001b[0m\u001b[0mid\u001b[0m\u001b[0;34m)\u001b[0m\u001b[0;34m\u001b[0m\u001b[0;34m\u001b[0m\u001b[0m\n",
            "\u001b[0;32m<ipython-input-4-df067d837a88>\u001b[0m in \u001b[0;36mformat_img\u001b[0;34m(id)\u001b[0m\n\u001b[1;32m     14\u001b[0m \u001b[0;34m\u001b[0m\u001b[0m\n\u001b[1;32m     15\u001b[0m     \u001b[0;31m# Load the image and turn it into a numpy array\u001b[0m\u001b[0;34m\u001b[0m\u001b[0;34m\u001b[0m\u001b[0m\n\u001b[0;32m---> 16\u001b[0;31m     \u001b[0mimage\u001b[0m \u001b[0;34m=\u001b[0m \u001b[0mImage\u001b[0m\u001b[0;34m.\u001b[0m\u001b[0mopen\u001b[0m\u001b[0;34m(\u001b[0m\u001b[0;34mf'./{id}.jpg'\u001b[0m\u001b[0;34m)\u001b[0m\u001b[0;34m\u001b[0m\u001b[0;34m\u001b[0m\u001b[0m\n\u001b[0m\u001b[1;32m     17\u001b[0m \u001b[0;34m\u001b[0m\u001b[0m\n\u001b[1;32m     18\u001b[0m     \u001b[0;31m#Size of the original image\u001b[0m\u001b[0;34m\u001b[0m\u001b[0;34m\u001b[0m\u001b[0m\n",
            "\u001b[0;32m/usr/local/lib/python3.11/dist-packages/PIL/Image.py\u001b[0m in \u001b[0;36mopen\u001b[0;34m(fp, mode, formats)\u001b[0m\n\u001b[1;32m   3474\u001b[0m         \u001b[0mexclusive_fp\u001b[0m \u001b[0;34m=\u001b[0m \u001b[0;32mTrue\u001b[0m\u001b[0;34m\u001b[0m\u001b[0;34m\u001b[0m\u001b[0m\n\u001b[1;32m   3475\u001b[0m \u001b[0;34m\u001b[0m\u001b[0m\n\u001b[0;32m-> 3476\u001b[0;31m     \u001b[0mprefix\u001b[0m \u001b[0;34m=\u001b[0m \u001b[0mfp\u001b[0m\u001b[0;34m.\u001b[0m\u001b[0mread\u001b[0m\u001b[0;34m(\u001b[0m\u001b[0;36m16\u001b[0m\u001b[0;34m)\u001b[0m\u001b[0;34m\u001b[0m\u001b[0;34m\u001b[0m\u001b[0m\n\u001b[0m\u001b[1;32m   3477\u001b[0m \u001b[0;34m\u001b[0m\u001b[0m\n\u001b[1;32m   3478\u001b[0m     \u001b[0mpreinit\u001b[0m\u001b[0;34m(\u001b[0m\u001b[0;34m)\u001b[0m\u001b[0;34m\u001b[0m\u001b[0;34m\u001b[0m\u001b[0m\n",
            "\u001b[0;31mKeyboardInterrupt\u001b[0m: "
          ]
        }
      ]
    },
    {
      "cell_type": "code",
      "source": [
        "data=data[0:1000]\n",
        "# Normalization of the pixels\n",
        "data=data/255"
      ],
      "metadata": {
        "id": "CQjR265OBuFF"
      },
      "id": "CQjR265OBuFF",
      "execution_count": null,
      "outputs": []
    },
    {
      "cell_type": "code",
      "source": [
        "# Allows you to choose an attribute by name\n",
        "attributes_names = np.genfromtxt(\"list_attr_celeba.txt\", dtype=str, skip_header=1, max_rows=1)\n",
        "print(attributes_names)\n",
        "\n",
        "my_attribute='Male'\n",
        "\n",
        "index = np.where(attributes_names == f\"{my_attribute}\")[0]  # Return index table\n",
        "print(index)\n",
        "my_index=index[0]+1\n",
        "print(my_index)"
      ],
      "metadata": {
        "id": "wos6YrIVZJ1T"
      },
      "id": "wos6YrIVZJ1T",
      "execution_count": null,
      "outputs": []
    },
    {
      "cell_type": "code",
      "execution_count": null,
      "id": "d9c6b39a",
      "metadata": {
        "id": "d9c6b39a"
      },
      "outputs": [],
      "source": [
        "attributes = np.loadtxt(\"list_attr_celeba.txt\", skiprows=2, dtype='str')\n",
        "attributes_short = attributes[0:1000]\n",
        "genre = np.array(attributes_short[:,my_index], dtype=int)\n",
        "unique, counts = np.unique(genre, return_counts=True)\n",
        "unique = map(str, unique)\n",
        "counts = map(int, counts)\n",
        "headcounts=dict(zip(unique, counts))\n",
        "\n",
        "# Allows you to see if the distribution of the attribute is balanced\n",
        "print(f\"{my_attribute} repartition {headcounts}\")"
      ]
    },
    {
      "cell_type": "code",
      "execution_count": null,
      "id": "153513e0",
      "metadata": {
        "id": "153513e0"
      },
      "outputs": [],
      "source": [
        "from keras import Model, Input\n",
        "\n",
        "latent_dim = 32  #  latent space dimension\n",
        "\n",
        "def build_encoder(input_shape=(128, 128, 3)):\n",
        "    '''\n",
        "\n",
        "    Parameters\n",
        "    ----------\n",
        "    The image of shape (128,128,3)\n",
        "\n",
        "    Details\n",
        "    -------\n",
        "    The encoder (CNN) is structured as followed:\n",
        "      - 2 Conv2D layers using 32 filters of size 3x3, with a stride of 1 to extract basic characteristics from each pixel of the image.\n",
        "      - 1 MaxPooling layer using a filter of size 2x2, with a stride of 2 to reduce the size of feature map while preserving the most important information.\n",
        "      - 2 more 2 Conv2D layers of 64 and 128 filters, followed alternately by MaxPooling layers\n",
        "      - 1 flatten layer to flatten the multidimensional data into a 1D vector.\n",
        "      - 1 dense (or fully connected) layer with 512 neurons.\n",
        "\n",
        "    Then there is a variational part:\n",
        "      - 2 dense layers perform a linear transformation to combine the 512 values and project them into a latent_dim dimension space using weight and bias.\n",
        "      1 layer generate the mean of the latent distribution, the other generate the log-variance\n",
        "      - 1 Lambda layer is used to limit the values of log-variance in the range [-10.0, 10.0] and to prevent them from becoming too large or too small,\n",
        "      which could affect model stability during training.\n",
        "\n",
        "    Then it use the function Sampling() to create a sample from the latent distribution using the previous mean, log_variance and an additionl noise.\n",
        "\n",
        "    Returns\n",
        "    -------\n",
        "    A keras Model able to encode an image of shape (128,128,3) into a latent vector of size latent_dim\n",
        "\n",
        "\n",
        "    '''\n",
        "\n",
        "    img_input = Input(shape=input_shape, name=\"encoder_image_input\")\n",
        "\n",
        "    x = layers.Conv2D(32, 3, activation=\"relu\", strides=1, padding=\"same\")(img_input)\n",
        "    x = layers.Conv2D(32, 3, activation=\"relu\", strides=1, padding=\"same\")(x)\n",
        "    x = layers.MaxPooling2D(2,2)(x) #2x2 kernel size. Test with Conv2D kernel size = 2, stride 2 and no padding\n",
        "    x = layers.Conv2D(64, 3, activation=\"relu\", strides=1, padding=\"same\")(x)\n",
        "    x = layers.Conv2D(64, 3, activation=\"relu\", strides=1, padding=\"same\")(x)\n",
        "    x = layers.MaxPooling2D(2,2)(x)\n",
        "    x = layers.Conv2D(128, 3, activation=\"relu\", strides=1, padding=\"same\")(x)\n",
        "    x = layers.Conv2D(128, 3, activation=\"relu\", strides=1, padding=\"same\")(x)\n",
        "    x = layers.MaxPooling2D(2,2)(x)\n",
        "    x = layers.Flatten()(x)\n",
        "    x = layers.Dense(512, activation=\"relu\")(x)\n",
        "\n",
        "    z_mean = layers.Dense(latent_dim, name=\"z_mean\")(x)\n",
        "    z_log_var = layers.Dense(latent_dim, name=\"z_log_var\")(x)\n",
        "    z_log_var = layers.Lambda(lambda t: tf.clip_by_value(t, -10.0, 10.0))(z_log_var)\n",
        "\n",
        "\n",
        "\n",
        "    # Sampling layer\n",
        "    def sampling(args):\n",
        "\n",
        "        z_mean, z_log_var = args\n",
        "        eps = tf.random.normal(shape=(tf.shape(z_mean)[0], latent_dim))\n",
        "        return z_mean + tf.exp(0.5 * z_log_var) * eps\n",
        "\n",
        "    z = layers.Lambda(sampling, output_shape=(latent_dim,), name=\"z\")([z_mean, z_log_var])\n",
        "    #gender_logits = layers.Dense(1, activation=\"tanh\")(z)  # output interval [-1, 1]\n",
        "\n",
        "    encoder = Model([img_input], [z_mean, z_log_var, z], name=\"encoder\")\n",
        "    #encoder = Model([img_input, label_input], [z_mean, z_log_var, z, gender_logits], name=\"encoder\")\n",
        "    return encoder"
      ]
    },
    {
      "cell_type": "code",
      "execution_count": null,
      "id": "c658bcf6",
      "metadata": {
        "id": "c658bcf6"
      },
      "outputs": [],
      "source": [
        "def build_decoder(output_shape=(128, 128, 3)):\n",
        "\n",
        "    '''\n",
        "\n",
        "    Parameters\n",
        "    ----------\n",
        "    The latent vector of size latent_dim\n",
        "\n",
        "    Details\n",
        "    -------\n",
        "    The decoder is structured as followed:\n",
        "      - 1 dense layer to extract information from the latent vector into a 1D vector of size 16 384 (8*8*256)\n",
        "      - 1 reshape layer to reshape the vector to the shape (8, 8, 256). This corresponds to a \"features map\" of size 8x8 with 256 channels.\n",
        "      This format is necessary to apply the following transposed convolution operations in the rest of the network.\n",
        "      - 4 transposed convolution layers to increase the size of the image (doubling the width and height) while gradually reducing the number of channels (256 -> 128 -> 64 -> 32 -> 16)\n",
        "      - One last transposed convolution layer generates the output image. It uses 3 filters, which corresponds the 3 channels of a RGB image.\n",
        "      The sigmoid activation function is used here because it produces values between 0 and 1, to keep a normalized image.\n",
        "\n",
        "\n",
        "    Returns\n",
        "    -------\n",
        "    A keras Model able to decode a latent vector of size latent_dim into an image of shape (128, 128, 3)\n",
        "\n",
        "    '''\n",
        "\n",
        "    latent_input = Input(shape=(latent_dim,), name=\"decoder_latent_input\")\n",
        "    x = layers.Dense(8 * 8 * 256, activation=\"relu\")(latent_input)\n",
        "    x = layers.Reshape((8, 8, 256))(x)\n",
        "\n",
        "    x = layers.Conv2DTranspose(128, 3, strides=2, padding=\"same\", activation=\"relu\")(x)\n",
        "    x = layers.Conv2DTranspose(64, 3, strides=2, padding=\"same\", activation=\"relu\")(x)\n",
        "    x = layers.Conv2DTranspose(32, 3, strides=2, padding=\"same\", activation=\"relu\")(x)\n",
        "    x = layers.Conv2DTranspose(16, 3, strides=2, padding=\"same\", activation=\"relu\")(x)\n",
        "\n",
        "    output_img = layers.Conv2DTranspose(output_shape[2], 3, activation=\"sigmoid\", padding=\"same\")(x)\n",
        "\n",
        "    decoder = Model([latent_input], output_img, name=\"decoder\")\n",
        "    #decoder = Model([latent_input, label_input], output_img, name=\"decoder\")\n",
        "    return decoder"
      ]
    },
    {
      "cell_type": "code",
      "execution_count": null,
      "id": "95a53916",
      "metadata": {
        "id": "95a53916"
      },
      "outputs": [],
      "source": [
        "class CVAE(keras.Model):\n",
        "    def __init__(self, encoder, decoder, variational=False, **kwargs):\n",
        "        '''\n",
        "\n",
        "        Parameters\n",
        "        ----------\n",
        "          - The encoder and decoder models that the CVAE model will use to encode the input data and reconstruct it.\n",
        "          - variational: a boolean optional argument which determines whether the model will be a classic VAE or a CVAE with loss KL.\n",
        "            If variational=True, KL loss will be calculated in addition to the reconstruction loss.\n",
        "          - **kwargs: allows to pass other arguments (such as data) to the parent class constructor keras. Model.\n",
        "\n",
        "\n",
        "        Returns\n",
        "        -------\n",
        "        The image cropped and resized in a numpy array of shape (128, 128, 3)\n",
        "\n",
        "        '''\n",
        "        super(CVAE, self).__init__(**kwargs)\n",
        "        self.encoder = encoder\n",
        "        self.decoder = decoder\n",
        "        self.total_loss_tracker = keras.metrics.Mean(name=\"total_loss\")\n",
        "        self.reconstruction_loss_tracker = keras.metrics.Mean(name=\"reconstruction_loss\")\n",
        "\n",
        "\n",
        "        # Initialization of the attribute 'variational' to control KL loss\n",
        "        self.variational = variational\n",
        "        if self.variational:\n",
        "            self.kl_loss_tracker = keras.metrics.Mean(name=\"kl_loss\")\n",
        "        else:\n",
        "            self.kl_loss_tracker = None  # No KL loss if 'variational' is False\n",
        "\n",
        "    @property\n",
        "    def metrics(self):\n",
        "      # Returns the metrics depending on whether KL is used or not\n",
        "        metrics = [self.total_loss_tracker, self.reconstruction_loss_tracker]\n",
        "        if self.variational and self.kl_loss_tracker is not None:\n",
        "            metrics.append(self.kl_loss_tracker)\n",
        "        return metrics\n",
        "\n",
        "\n",
        "    def train_step(self, data):\n",
        "        images=data\n",
        "        #images, labels = data\n",
        "        with tf.GradientTape() as tape:\n",
        "            # Encoding\n",
        "            z_mean, z_log_var, z = self.encoder([images])\n",
        "            # Decoding\n",
        "            reconstruction = self.decoder([z_mean])\n",
        "\n",
        "            # The reconstruction_loss is calculated using the mean square error (MSE)\n",
        "            # between the original image and the reconstruction, based on the dimensions of the image.\n",
        "            reconstruction_loss = tf.reduce_mean(\n",
        "                tf.reduce_mean(\n",
        "                    keras.losses.mean_squared_error(images, reconstruction), axis=(1, 2)\n",
        "                )\n",
        "            )\n",
        "            # If variational=True, the KL loss is calculated as the Kullback-Leibler divergence\n",
        "            # between the approximate distribution (defined by z_mean and z_log_var) and a standard normal distribution\n",
        "            if self.variational:\n",
        "              kl_loss = -0.5 * tf.reduce_mean(\n",
        "                  tf.reduce_sum(1 + z_log_var - tf.square(z_mean) - tf.exp(z_log_var), axis=1)\n",
        "                  )\n",
        "              # The total loss is the sum of the reconstruction loss and the KL loss, weighted by a factor 0.01\n",
        "              total_loss = reconstruction_loss + 0.01 * kl_loss\n",
        "              self.kl_loss_tracker.update_state(kl_loss)  # Update of KL loss\n",
        "            else:\n",
        "                total_loss = reconstruction_loss\n",
        "\n",
        "\n",
        "        # Gradients computation and weights update\n",
        "        # The gradients of the total loss versus the model weights are calculated and used to update the weights via the optimizer.\n",
        "        grads = tape.gradient(total_loss, self.trainable_weights)\n",
        "        self.optimizer.apply_gradients(zip(grads, self.trainable_weights))\n",
        "\n",
        "        # Metrics update\n",
        "        self.total_loss_tracker.update_state(total_loss)\n",
        "        self.reconstruction_loss_tracker.update_state(reconstruction_loss)\n",
        "\n",
        "\n",
        "        # Save latent vectors during training (without using numpy)\n",
        "        self.latent_vectors_history.append(z_mean)  # Directly adding tensors\n",
        "\n",
        "        return {\n",
        "            \"loss\": self.total_loss_tracker.result(),\n",
        "            \"reconstruction_loss\": self.reconstruction_loss_tracker.result(),\n",
        "            \"kl_loss\": self.kl_loss_tracker.result() if self.variational else 0.0,\n",
        "            #\"gender_loss\": gender_loss,\n",
        "        }"
      ]
    },
    {
      "cell_type": "code",
      "source": [
        "from tensorflow.keras.callbacks import Callback\n",
        "class LatentSpaceVisualizationCallback(Callback):\n",
        "    def __init__(self, frequency=10):  # Display frequency all X epochs\n",
        "        super(LatentSpaceVisualizationCallback, self).__init__()\n",
        "        self.frequency = frequency\n",
        "\n",
        "    def on_epoch_end(self, epoch, logs=None):\n",
        "        if (epoch + 1) % self.frequency == 0:  # Display visualizations at each epoch frequency\n",
        "            print(f\"Visualizing latent space at epoch {epoch + 1}...\")\n",
        "            self.plot_latent_space()\n",
        "\n",
        "    def plot_latent_space(self):\n",
        "        # Retrieve the latent vectors of the CVAE model\n",
        "        latent_vectors = np.concatenate([latent_vector.numpy() for latent_vector in self.model.latent_vectors_history], axis=0)\n",
        "\n",
        "        # Apply t-SNE to reduce the latent vectors to 2D\n",
        "        tsne = TSNE(n_components=2)\n",
        "        latent_2d = tsne.fit_transform(latent_vectors)\n",
        "\n",
        "        # Visualization of projected latent vectors in 2D\n",
        "        plt.figure(figsize=(8, 6))\n",
        "        plt.scatter(latent_2d[:, 0], latent_2d[:, 1], alpha=0.5)\n",
        "        plt.title(f\"Latent Space with t-SNE (Epoch {len(self.model.latent_vectors_history)})\")\n",
        "        plt.xlabel(\"Latent Dimension 1\")\n",
        "        plt.ylabel(\"Latent Dimension 2\")\n",
        "        plt.show()\n"
      ],
      "metadata": {
        "id": "4GZoafD-hWSg"
      },
      "id": "4GZoafD-hWSg",
      "execution_count": null,
      "outputs": []
    },
    {
      "cell_type": "code",
      "execution_count": null,
      "id": "69d97c14",
      "metadata": {
        "id": "69d97c14"
      },
      "outputs": [],
      "source": [
        "encoder = build_encoder(input_shape=(128, 128, 3))\n",
        "print(type(encoder))\n",
        "decoder = build_decoder(output_shape=(128, 128, 3))\n",
        "encoder.summary()"
      ]
    },
    {
      "cell_type": "code",
      "execution_count": null,
      "id": "bd3964bb",
      "metadata": {
        "id": "bd3964bb"
      },
      "outputs": [],
      "source": [
        "decoder.summary()"
      ]
    },
    {
      "cell_type": "code",
      "execution_count": null,
      "id": "8bae6c93",
      "metadata": {
        "id": "8bae6c93"
      },
      "outputs": [],
      "source": [
        "x_train, x_test, y_train, y_test = train_test_split(data, genre, test_size=0.33, random_state=42)\n",
        "x_t = x_train\n",
        "print(len(x_test[0]))"
      ]
    },
    {
      "cell_type": "code",
      "source": [
        "\"\"\"\n",
        "# Enregistrement des loss\n",
        "from keras.callbacks import TensorBoard\n",
        "import datetime  # Pour générer un nom unique de dossier\n",
        "\n",
        "# Définir un dossier pour les logs de TensorBoard\n",
        "log_dir = \"logs/fit/\" + datetime.datetime.now().strftime(\"%Y%m%d-%H%M%S\")\n",
        "\n",
        "with tf.device('/device:GPU:0'):  # or '/device:CPU:0' if you want to use CPU\n",
        "  summary_writer = tf.summary.create_file_writer(log_dir)\n",
        "# Vérifier où sont stockés les logs\n",
        "print(f\"Logs enregistrés dans : {log_dir}\")\n",
        "\"\"\""
      ],
      "metadata": {
        "id": "rUBzYwpefDgb",
        "colab": {
          "base_uri": "https://localhost:8080/",
          "height": 70
        },
        "outputId": "8a7361e6-2827-46e8-eca0-c826288c1d73"
      },
      "id": "rUBzYwpefDgb",
      "execution_count": null,
      "outputs": [
        {
          "output_type": "execute_result",
          "data": {
            "text/plain": [
              "'\\n# Enregistrement des loss\\nfrom keras.callbacks import TensorBoard\\nimport datetime  # Pour générer un nom unique de dossier\\n\\n# Définir un dossier pour les logs de TensorBoard\\nlog_dir = \"logs/fit/\" + datetime.datetime.now().strftime(\"%Y%m%d-%H%M%S\")\\n\\nwith tf.device(\\'/device:GPU:0\\'):  # or \\'/device:CPU:0\\' if you want to use CPU\\n  summary_writer = tf.summary.create_file_writer(log_dir)\\n# Vérifier où sont stockés les logs\\nprint(f\"Logs enregistrés dans : {log_dir}\")\\n'"
            ],
            "application/vnd.google.colaboratory.intrinsic+json": {
              "type": "string"
            }
          },
          "metadata": {},
          "execution_count": 15
        }
      ]
    },
    {
      "cell_type": "code",
      "source": [
        "#tensorboard_callback = TensorBoard(log_dir=log_dir, histogram_freq=1)"
      ],
      "metadata": {
        "id": "BjNpkvqeu6vQ"
      },
      "id": "BjNpkvqeu6vQ",
      "execution_count": null,
      "outputs": []
    },
    {
      "cell_type": "code",
      "execution_count": null,
      "id": "5a9fab2d",
      "metadata": {
        "id": "5a9fab2d"
      },
      "outputs": [],
      "source": [
        "# Create CVAE model\n",
        "cvae = CVAE(encoder, decoder, variational=True)\n",
        "#cvae = CVAE(encoder, decoder, variational=False)\n",
        "cvae.latent_vectors_history = []  # Initialiser l'historique des vecteurs latents\n",
        "\n",
        "# Create callback instance\n",
        "latent_space_callback = LatentSpaceVisualizationCallback()\n",
        "\n",
        "# Model compiling and training\n",
        "cvae.compile(optimizer=keras.optimizers.Adam(clipnorm=1.0))\n",
        "cvae.fit(x_t, epochs=100, batch_size=32)\n",
        "#cvae.fit(x_t, epochs=100, batch_size=32, callbacks=[latent_space_callback]) Ne marche pas encore..."
      ]
    },
    {
      "cell_type": "code",
      "source": [
        "\"\"\"\n",
        "# Affichage des loss avec TensorBoard\n",
        "# --> Vérifier la convergence\n",
        "%load_ext tensorboard\n",
        "%tensorboard --logdir logs/fit\n",
        "\"\"\""
      ],
      "metadata": {
        "id": "aZBhYccrfjnz",
        "colab": {
          "base_uri": "https://localhost:8080/",
          "height": 35
        },
        "outputId": "b3b91cdb-f1bf-4121-c535-9869b7e04a6b"
      },
      "id": "aZBhYccrfjnz",
      "execution_count": null,
      "outputs": [
        {
          "output_type": "execute_result",
          "data": {
            "text/plain": [
              "'\\n# Affichage des loss avec TensorBoard\\n# --> Vérifier la convergence\\n%load_ext tensorboard\\n%tensorboard --logdir logs/fit\\n'"
            ],
            "application/vnd.google.colaboratory.intrinsic+json": {
              "type": "string"
            }
          },
          "metadata": {},
          "execution_count": 150
        }
      ]
    },
    {
      "cell_type": "code",
      "execution_count": null,
      "id": "2af6f71a",
      "metadata": {
        "id": "2af6f71a"
      },
      "outputs": [],
      "source": [
        "z_mean, _, _ = cvae.encoder.predict(x_test, batch_size=32)"
      ]
    },
    {
      "cell_type": "code",
      "execution_count": null,
      "id": "070f1daa",
      "metadata": {
        "id": "070f1daa"
      },
      "outputs": [],
      "source": [
        "import numpy as np\n",
        "\n",
        "nan_rows = np.any(np.isnan(z_mean), axis=1)\n",
        "print(f\"Nb of samples containing NaN ：{np.sum(nan_rows)} / {len(z_mean)}\")\n"
      ]
    },
    {
      "cell_type": "code",
      "execution_count": null,
      "id": "ce2ca742",
      "metadata": {
        "id": "ce2ca742"
      },
      "outputs": [],
      "source": [
        "print(z_mean[:1])"
      ]
    },
    {
      "cell_type": "code",
      "execution_count": null,
      "id": "d3fd7bf0",
      "metadata": {
        "id": "d3fd7bf0"
      },
      "outputs": [],
      "source": [
        "from sklearn.manifold import TSNE\n",
        "import matplotlib.pyplot as plt\n",
        "# z_fixed = np.nan_to_num(z_mean, nan=0.0)  # replace all NaN by 0.0\n",
        "\n",
        "\n",
        "# t-SNE (for decreasing the dimension, can also use PCA)\n",
        "z_2d = TSNE(n_components=2, perplexity=30, random_state=42).fit_transform(z_mean)\n"
      ]
    },
    {
      "cell_type": "code",
      "execution_count": null,
      "id": "e7231003",
      "metadata": {
        "colab": {
          "base_uri": "https://localhost:8080/",
          "height": 70
        },
        "id": "e7231003",
        "outputId": "be1b4e2b-5c7d-40fc-c68c-6a85304736f1"
      },
      "outputs": [
        {
          "output_type": "execute_result",
          "data": {
            "text/plain": [
              "'\\ny_colormap = (y_test.flatten() + 1) // 2\\n\\nplt.figure(figsize=(10, 8))\\nscatter = plt.scatter(z_2d[:, 0], z_2d[:, 1], c=y_colormap, cmap=\"coolwarm\", alpha=0.7)\\nplt.colorbar(scatter, ticks=[0, 1], label=\"Gender\")\\nplt.xlabel(\"z[0]\")\\nplt.ylabel(\"z[1]\")\\nplt.title(\"Latent Space Clustering by Gender\")\\nplt.grid(True)\\nplt.show()\\n'"
            ],
            "application/vnd.google.colaboratory.intrinsic+json": {
              "type": "string"
            }
          },
          "metadata": {},
          "execution_count": 26
        }
      ],
      "source": [
        "\"\"\"\n",
        "y_colormap = (y_test.flatten() + 1) // 2\n",
        "\n",
        "plt.figure(figsize=(10, 8))\n",
        "scatter = plt.scatter(z_2d[:, 0], z_2d[:, 1], c=y_colormap, cmap=\"coolwarm\", alpha=0.7)\n",
        "plt.colorbar(scatter, ticks=[0, 1], label=\"Gender\")\n",
        "plt.xlabel(\"z[0]\")\n",
        "plt.ylabel(\"z[1]\")\n",
        "plt.title(\"Latent Space Clustering by Gender\")\n",
        "plt.grid(True)\n",
        "plt.show()\n",
        "\"\"\""
      ]
    },
    {
      "cell_type": "markdown",
      "id": "5e4c969b",
      "metadata": {
        "id": "5e4c969b"
      },
      "source": [
        "# The gender clusters are not well seperated, but I tried to generate male/female images and it seems to be not bad..."
      ]
    },
    {
      "cell_type": "code",
      "execution_count": null,
      "id": "d26576d5",
      "metadata": {
        "colab": {
          "base_uri": "https://localhost:8080/",
          "height": 87
        },
        "id": "d26576d5",
        "outputId": "daab4cbb-1414-49fa-82c4-500d02838ff8"
      },
      "outputs": [
        {
          "output_type": "execute_result",
          "data": {
            "text/plain": [
              "'\\nimport numpy as np\\nimport matplotlib.pyplot as plt\\n\\n# generate a random latent z\\nlatent_dim = 32\\nz_sample = np.random.normal(size=(1, latent_dim))\\n\\n# condition label：-1 = female，1 = male\\nlabel_male = np.array([[1]])\\nlabel_female = np.array([[-1]])\\n\\n# generate male/female image\\nimg_male = cvae.decoder.predict([z_sample, label_male])\\nimg_female = cvae.decoder.predict([z_sample, label_female])\\n\\nplt.figure(figsize=(4, 2))\\nplt.subplot(1, 2, 1)\\nplt.title(\"Male\")\\nplt.imshow(img_male[0])\\nplt.axis(\\'off\\')\\n\\nplt.subplot(1, 2, 2)\\nplt.title(\"Female\")\\nplt.imshow(img_female[0])\\nplt.axis(\\'off\\')\\nplt.show()\\n'"
            ],
            "application/vnd.google.colaboratory.intrinsic+json": {
              "type": "string"
            }
          },
          "metadata": {},
          "execution_count": 25
        }
      ],
      "source": [
        "\"\"\"\n",
        "import numpy as np\n",
        "import matplotlib.pyplot as plt\n",
        "\n",
        "# generate a random latent z\n",
        "latent_dim = 32\n",
        "z_sample = np.random.normal(size=(1, latent_dim))\n",
        "\n",
        "# condition label：-1 = female，1 = male\n",
        "label_male = np.array([[1]])\n",
        "label_female = np.array([[-1]])\n",
        "\n",
        "# generate male/female image\n",
        "img_male = cvae.decoder.predict([z_sample, label_male])\n",
        "img_female = cvae.decoder.predict([z_sample, label_female])\n",
        "\n",
        "plt.figure(figsize=(4, 2))\n",
        "plt.subplot(1, 2, 1)\n",
        "plt.title(\"Male\")\n",
        "plt.imshow(img_male[0])\n",
        "plt.axis('off')\n",
        "\n",
        "plt.subplot(1, 2, 2)\n",
        "plt.title(\"Female\")\n",
        "plt.imshow(img_female[0])\n",
        "plt.axis('off')\n",
        "plt.show()\n",
        "\"\"\"\n",
        "\n"
      ]
    },
    {
      "cell_type": "markdown",
      "source": [
        "# Guide d'uitilisation : exemple de commandes"
      ],
      "metadata": {
        "id": "rHEIjYXHU6qm"
      },
      "id": "rHEIjYXHU6qm"
    },
    {
      "cell_type": "markdown",
      "source": [
        "## Initialiser le modèle"
      ],
      "metadata": {
        "id": "6eRBCzdBHE9q"
      },
      "id": "6eRBCzdBHE9q"
    },
    {
      "cell_type": "code",
      "source": [
        "# Creat CVA model\n",
        "cvae = CVAE(encoder, decoder, variational=True) # variational=False si on ne veut pas la partie variationelle\n",
        "\n",
        "cvae.latent_vectors_history = []  # Initialiser l'historique des vecteurs latents\n",
        "\n",
        "# Creat callback instance\n",
        "latent_space_callback = LatentSpaceVisualizationCallback()\n",
        "\n",
        "# CModel compiling and training\n",
        "cvae.compile(optimizer=keras.optimizers.Adam(clipnorm=1.0))\n",
        "cvae.fit(x_t, epochs=100, batch_size=32)"
      ],
      "metadata": {
        "colab": {
          "base_uri": "https://localhost:8080/"
        },
        "id": "4hjalE7TGxef",
        "outputId": "590af7b8-20d9-4ef8-da0a-f8076e9a9086"
      },
      "id": "4hjalE7TGxef",
      "execution_count": null,
      "outputs": [
        {
          "output_type": "stream",
          "name": "stdout",
          "text": [
            "Epoch 1/100\n",
            "\u001b[1m21/21\u001b[0m \u001b[32m━━━━━━━━━━━━━━━━━━━━\u001b[0m\u001b[37m\u001b[0m \u001b[1m13s\u001b[0m 230ms/step - kl_loss: 0.0448 - loss: 0.0394 - reconstruction_loss: 0.0390\n",
            "Epoch 2/100\n",
            "\u001b[1m21/21\u001b[0m \u001b[32m━━━━━━━━━━━━━━━━━━━━\u001b[0m\u001b[37m\u001b[0m \u001b[1m0s\u001b[0m 14ms/step - kl_loss: 0.0576 - loss: 0.0142 - reconstruction_loss: 0.0136\n",
            "Epoch 3/100\n",
            "\u001b[1m21/21\u001b[0m \u001b[32m━━━━━━━━━━━━━━━━━━━━\u001b[0m\u001b[37m\u001b[0m \u001b[1m0s\u001b[0m 13ms/step - kl_loss: 0.0558 - loss: 0.0110 - reconstruction_loss: 0.0104\n",
            "Epoch 4/100\n",
            "\u001b[1m21/21\u001b[0m \u001b[32m━━━━━━━━━━━━━━━━━━━━\u001b[0m\u001b[37m\u001b[0m \u001b[1m0s\u001b[0m 13ms/step - kl_loss: 0.0477 - loss: 0.0092 - reconstruction_loss: 0.0087\n",
            "Epoch 5/100\n",
            "\u001b[1m21/21\u001b[0m \u001b[32m━━━━━━━━━━━━━━━━━━━━\u001b[0m\u001b[37m\u001b[0m \u001b[1m0s\u001b[0m 13ms/step - kl_loss: 0.0415 - loss: 0.0086 - reconstruction_loss: 0.0082\n",
            "Epoch 6/100\n",
            "\u001b[1m21/21\u001b[0m \u001b[32m━━━━━━━━━━━━━━━━━━━━\u001b[0m\u001b[37m\u001b[0m \u001b[1m0s\u001b[0m 13ms/step - kl_loss: 0.0370 - loss: 0.0082 - reconstruction_loss: 0.0078\n",
            "Epoch 7/100\n",
            "\u001b[1m21/21\u001b[0m \u001b[32m━━━━━━━━━━━━━━━━━━━━\u001b[0m\u001b[37m\u001b[0m \u001b[1m0s\u001b[0m 13ms/step - kl_loss: 0.0346 - loss: 0.0081 - reconstruction_loss: 0.0077\n",
            "Epoch 8/100\n",
            "\u001b[1m21/21\u001b[0m \u001b[32m━━━━━━━━━━━━━━━━━━━━\u001b[0m\u001b[37m\u001b[0m \u001b[1m0s\u001b[0m 13ms/step - kl_loss: 0.0328 - loss: 0.0078 - reconstruction_loss: 0.0075\n",
            "Epoch 9/100\n",
            "\u001b[1m21/21\u001b[0m \u001b[32m━━━━━━━━━━━━━━━━━━━━\u001b[0m\u001b[37m\u001b[0m \u001b[1m0s\u001b[0m 13ms/step - kl_loss: 0.0330 - loss: 0.0077 - reconstruction_loss: 0.0074\n",
            "Epoch 10/100\n",
            "\u001b[1m21/21\u001b[0m \u001b[32m━━━━━━━━━━━━━━━━━━━━\u001b[0m\u001b[37m\u001b[0m \u001b[1m0s\u001b[0m 13ms/step - kl_loss: 0.0310 - loss: 0.0076 - reconstruction_loss: 0.0073\n",
            "Epoch 11/100\n",
            "\u001b[1m21/21\u001b[0m \u001b[32m━━━━━━━━━━━━━━━━━━━━\u001b[0m\u001b[37m\u001b[0m \u001b[1m0s\u001b[0m 13ms/step - kl_loss: 0.0313 - loss: 0.0077 - reconstruction_loss: 0.0074\n",
            "Epoch 12/100\n",
            "\u001b[1m21/21\u001b[0m \u001b[32m━━━━━━━━━━━━━━━━━━━━\u001b[0m\u001b[37m\u001b[0m \u001b[1m0s\u001b[0m 13ms/step - kl_loss: 0.0296 - loss: 0.0074 - reconstruction_loss: 0.0071\n",
            "Epoch 13/100\n",
            "\u001b[1m21/21\u001b[0m \u001b[32m━━━━━━━━━━━━━━━━━━━━\u001b[0m\u001b[37m\u001b[0m \u001b[1m0s\u001b[0m 13ms/step - kl_loss: 0.0291 - loss: 0.0074 - reconstruction_loss: 0.0071\n",
            "Epoch 14/100\n",
            "\u001b[1m21/21\u001b[0m \u001b[32m━━━━━━━━━━━━━━━━━━━━\u001b[0m\u001b[37m\u001b[0m \u001b[1m0s\u001b[0m 13ms/step - kl_loss: 0.0294 - loss: 0.0074 - reconstruction_loss: 0.0071\n",
            "Epoch 15/100\n",
            "\u001b[1m21/21\u001b[0m \u001b[32m━━━━━━━━━━━━━━━━━━━━\u001b[0m\u001b[37m\u001b[0m \u001b[1m0s\u001b[0m 13ms/step - kl_loss: 0.0282 - loss: 0.0074 - reconstruction_loss: 0.0072\n",
            "Epoch 16/100\n",
            "\u001b[1m21/21\u001b[0m \u001b[32m━━━━━━━━━━━━━━━━━━━━\u001b[0m\u001b[37m\u001b[0m \u001b[1m0s\u001b[0m 13ms/step - kl_loss: 0.0282 - loss: 0.0073 - reconstruction_loss: 0.0071\n",
            "Epoch 17/100\n",
            "\u001b[1m21/21\u001b[0m \u001b[32m━━━━━━━━━━━━━━━━━━━━\u001b[0m\u001b[37m\u001b[0m \u001b[1m0s\u001b[0m 13ms/step - kl_loss: 0.0283 - loss: 0.0074 - reconstruction_loss: 0.0071\n",
            "Epoch 18/100\n",
            "\u001b[1m21/21\u001b[0m \u001b[32m━━━━━━━━━━━━━━━━━━━━\u001b[0m\u001b[37m\u001b[0m \u001b[1m0s\u001b[0m 13ms/step - kl_loss: 0.0273 - loss: 0.0074 - reconstruction_loss: 0.0071\n",
            "Epoch 19/100\n",
            "\u001b[1m21/21\u001b[0m \u001b[32m━━━━━━━━━━━━━━━━━━━━\u001b[0m\u001b[37m\u001b[0m \u001b[1m0s\u001b[0m 13ms/step - kl_loss: 0.0277 - loss: 0.0075 - reconstruction_loss: 0.0072\n",
            "Epoch 20/100\n",
            "\u001b[1m21/21\u001b[0m \u001b[32m━━━━━━━━━━━━━━━━━━━━\u001b[0m\u001b[37m\u001b[0m \u001b[1m0s\u001b[0m 13ms/step - kl_loss: 0.0265 - loss: 0.0075 - reconstruction_loss: 0.0072\n",
            "Epoch 21/100\n",
            "\u001b[1m21/21\u001b[0m \u001b[32m━━━━━━━━━━━━━━━━━━━━\u001b[0m\u001b[37m\u001b[0m \u001b[1m0s\u001b[0m 13ms/step - kl_loss: 0.0268 - loss: 0.0076 - reconstruction_loss: 0.0073\n",
            "Epoch 22/100\n",
            "\u001b[1m21/21\u001b[0m \u001b[32m━━━━━━━━━━━━━━━━━━━━\u001b[0m\u001b[37m\u001b[0m \u001b[1m0s\u001b[0m 13ms/step - kl_loss: 0.0270 - loss: 0.0075 - reconstruction_loss: 0.0072\n",
            "Epoch 23/100\n",
            "\u001b[1m21/21\u001b[0m \u001b[32m━━━━━━━━━━━━━━━━━━━━\u001b[0m\u001b[37m\u001b[0m \u001b[1m0s\u001b[0m 13ms/step - kl_loss: 0.0273 - loss: 0.0074 - reconstruction_loss: 0.0071\n",
            "Epoch 24/100\n",
            "\u001b[1m21/21\u001b[0m \u001b[32m━━━━━━━━━━━━━━━━━━━━\u001b[0m\u001b[37m\u001b[0m \u001b[1m0s\u001b[0m 14ms/step - kl_loss: 0.0290 - loss: 0.0074 - reconstruction_loss: 0.0071\n",
            "Epoch 25/100\n",
            "\u001b[1m21/21\u001b[0m \u001b[32m━━━━━━━━━━━━━━━━━━━━\u001b[0m\u001b[37m\u001b[0m \u001b[1m0s\u001b[0m 13ms/step - kl_loss: 0.0272 - loss: 0.0074 - reconstruction_loss: 0.0071\n",
            "Epoch 26/100\n",
            "\u001b[1m21/21\u001b[0m \u001b[32m━━━━━━━━━━━━━━━━━━━━\u001b[0m\u001b[37m\u001b[0m \u001b[1m0s\u001b[0m 13ms/step - kl_loss: 0.0285 - loss: 0.0074 - reconstruction_loss: 0.0071\n",
            "Epoch 27/100\n",
            "\u001b[1m21/21\u001b[0m \u001b[32m━━━━━━━━━━━━━━━━━━━━\u001b[0m\u001b[37m\u001b[0m \u001b[1m0s\u001b[0m 14ms/step - kl_loss: 0.0282 - loss: 0.0076 - reconstruction_loss: 0.0073\n",
            "Epoch 28/100\n",
            "\u001b[1m21/21\u001b[0m \u001b[32m━━━━━━━━━━━━━━━━━━━━\u001b[0m\u001b[37m\u001b[0m \u001b[1m0s\u001b[0m 13ms/step - kl_loss: 0.0283 - loss: 0.0075 - reconstruction_loss: 0.0072\n",
            "Epoch 29/100\n",
            "\u001b[1m21/21\u001b[0m \u001b[32m━━━━━━━━━━━━━━━━━━━━\u001b[0m\u001b[37m\u001b[0m \u001b[1m0s\u001b[0m 14ms/step - kl_loss: 0.0282 - loss: 0.0078 - reconstruction_loss: 0.0075\n",
            "Epoch 30/100\n",
            "\u001b[1m21/21\u001b[0m \u001b[32m━━━━━━━━━━━━━━━━━━━━\u001b[0m\u001b[37m\u001b[0m \u001b[1m0s\u001b[0m 13ms/step - kl_loss: 0.0293 - loss: 0.0081 - reconstruction_loss: 0.0078\n",
            "Epoch 31/100\n",
            "\u001b[1m21/21\u001b[0m \u001b[32m━━━━━━━━━━━━━━━━━━━━\u001b[0m\u001b[37m\u001b[0m \u001b[1m0s\u001b[0m 13ms/step - kl_loss: 0.0305 - loss: 0.0082 - reconstruction_loss: 0.0078\n",
            "Epoch 32/100\n",
            "\u001b[1m21/21\u001b[0m \u001b[32m━━━━━━━━━━━━━━━━━━━━\u001b[0m\u001b[37m\u001b[0m \u001b[1m0s\u001b[0m 13ms/step - kl_loss: 0.0315 - loss: 0.0083 - reconstruction_loss: 0.0080\n",
            "Epoch 33/100\n",
            "\u001b[1m21/21\u001b[0m \u001b[32m━━━━━━━━━━━━━━━━━━━━\u001b[0m\u001b[37m\u001b[0m \u001b[1m0s\u001b[0m 13ms/step - kl_loss: 0.0305 - loss: 0.0078 - reconstruction_loss: 0.0075\n",
            "Epoch 34/100\n",
            "\u001b[1m21/21\u001b[0m \u001b[32m━━━━━━━━━━━━━━━━━━━━\u001b[0m\u001b[37m\u001b[0m \u001b[1m0s\u001b[0m 13ms/step - kl_loss: 0.0302 - loss: 0.0073 - reconstruction_loss: 0.0070\n",
            "Epoch 35/100\n",
            "\u001b[1m21/21\u001b[0m \u001b[32m━━━━━━━━━━━━━━━━━━━━\u001b[0m\u001b[37m\u001b[0m \u001b[1m0s\u001b[0m 13ms/step - kl_loss: 0.0291 - loss: 0.0070 - reconstruction_loss: 0.0067\n",
            "Epoch 36/100\n",
            "\u001b[1m21/21\u001b[0m \u001b[32m━━━━━━━━━━━━━━━━━━━━\u001b[0m\u001b[37m\u001b[0m \u001b[1m0s\u001b[0m 13ms/step - kl_loss: 0.0284 - loss: 0.0070 - reconstruction_loss: 0.0067\n",
            "Epoch 37/100\n",
            "\u001b[1m21/21\u001b[0m \u001b[32m━━━━━━━━━━━━━━━━━━━━\u001b[0m\u001b[37m\u001b[0m \u001b[1m0s\u001b[0m 13ms/step - kl_loss: 0.0287 - loss: 0.0069 - reconstruction_loss: 0.0066\n",
            "Epoch 38/100\n",
            "\u001b[1m21/21\u001b[0m \u001b[32m━━━━━━━━━━━━━━━━━━━━\u001b[0m\u001b[37m\u001b[0m \u001b[1m0s\u001b[0m 13ms/step - kl_loss: 0.0279 - loss: 0.0067 - reconstruction_loss: 0.0064\n",
            "Epoch 39/100\n",
            "\u001b[1m21/21\u001b[0m \u001b[32m━━━━━━━━━━━━━━━━━━━━\u001b[0m\u001b[37m\u001b[0m \u001b[1m0s\u001b[0m 13ms/step - kl_loss: 0.0281 - loss: 0.0067 - reconstruction_loss: 0.0064\n",
            "Epoch 40/100\n",
            "\u001b[1m21/21\u001b[0m \u001b[32m━━━━━━━━━━━━━━━━━━━━\u001b[0m\u001b[37m\u001b[0m \u001b[1m0s\u001b[0m 13ms/step - kl_loss: 0.0272 - loss: 0.0067 - reconstruction_loss: 0.0064\n",
            "Epoch 41/100\n",
            "\u001b[1m21/21\u001b[0m \u001b[32m━━━━━━━━━━━━━━━━━━━━\u001b[0m\u001b[37m\u001b[0m \u001b[1m0s\u001b[0m 13ms/step - kl_loss: 0.0275 - loss: 0.0067 - reconstruction_loss: 0.0064\n",
            "Epoch 42/100\n",
            "\u001b[1m21/21\u001b[0m \u001b[32m━━━━━━━━━━━━━━━━━━━━\u001b[0m\u001b[37m\u001b[0m \u001b[1m0s\u001b[0m 13ms/step - kl_loss: 0.0273 - loss: 0.0070 - reconstruction_loss: 0.0067\n",
            "Epoch 43/100\n",
            "\u001b[1m21/21\u001b[0m \u001b[32m━━━━━━━━━━━━━━━━━━━━\u001b[0m\u001b[37m\u001b[0m \u001b[1m0s\u001b[0m 13ms/step - kl_loss: 0.0272 - loss: 0.0068 - reconstruction_loss: 0.0065\n",
            "Epoch 44/100\n",
            "\u001b[1m21/21\u001b[0m \u001b[32m━━━━━━━━━━━━━━━━━━━━\u001b[0m\u001b[37m\u001b[0m \u001b[1m0s\u001b[0m 13ms/step - kl_loss: 0.0275 - loss: 0.0070 - reconstruction_loss: 0.0067\n",
            "Epoch 45/100\n",
            "\u001b[1m21/21\u001b[0m \u001b[32m━━━━━━━━━━━━━━━━━━━━\u001b[0m\u001b[37m\u001b[0m \u001b[1m0s\u001b[0m 13ms/step - kl_loss: 0.0279 - loss: 0.0072 - reconstruction_loss: 0.0069\n",
            "Epoch 46/100\n",
            "\u001b[1m21/21\u001b[0m \u001b[32m━━━━━━━━━━━━━━━━━━━━\u001b[0m\u001b[37m\u001b[0m \u001b[1m0s\u001b[0m 13ms/step - kl_loss: 0.0285 - loss: 0.0071 - reconstruction_loss: 0.0068\n",
            "Epoch 47/100\n",
            "\u001b[1m21/21\u001b[0m \u001b[32m━━━━━━━━━━━━━━━━━━━━\u001b[0m\u001b[37m\u001b[0m \u001b[1m0s\u001b[0m 13ms/step - kl_loss: 0.0288 - loss: 0.0072 - reconstruction_loss: 0.0069\n",
            "Epoch 48/100\n",
            "\u001b[1m21/21\u001b[0m \u001b[32m━━━━━━━━━━━━━━━━━━━━\u001b[0m\u001b[37m\u001b[0m \u001b[1m0s\u001b[0m 13ms/step - kl_loss: 0.0272 - loss: 0.0069 - reconstruction_loss: 0.0066\n",
            "Epoch 49/100\n",
            "\u001b[1m21/21\u001b[0m \u001b[32m━━━━━━━━━━━━━━━━━━━━\u001b[0m\u001b[37m\u001b[0m \u001b[1m0s\u001b[0m 13ms/step - kl_loss: 0.0283 - loss: 0.0068 - reconstruction_loss: 0.0065\n",
            "Epoch 50/100\n",
            "\u001b[1m21/21\u001b[0m \u001b[32m━━━━━━━━━━━━━━━━━━━━\u001b[0m\u001b[37m\u001b[0m \u001b[1m0s\u001b[0m 13ms/step - kl_loss: 0.0282 - loss: 0.0067 - reconstruction_loss: 0.0064\n",
            "Epoch 51/100\n",
            "\u001b[1m21/21\u001b[0m \u001b[32m━━━━━━━━━━━━━━━━━━━━\u001b[0m\u001b[37m\u001b[0m \u001b[1m0s\u001b[0m 13ms/step - kl_loss: 0.0272 - loss: 0.0068 - reconstruction_loss: 0.0065\n",
            "Epoch 52/100\n",
            "\u001b[1m21/21\u001b[0m \u001b[32m━━━━━━━━━━━━━━━━━━━━\u001b[0m\u001b[37m\u001b[0m \u001b[1m0s\u001b[0m 13ms/step - kl_loss: 0.0268 - loss: 0.0067 - reconstruction_loss: 0.0064\n",
            "Epoch 53/100\n",
            "\u001b[1m21/21\u001b[0m \u001b[32m━━━━━━━━━━━━━━━━━━━━\u001b[0m\u001b[37m\u001b[0m \u001b[1m0s\u001b[0m 13ms/step - kl_loss: 0.0264 - loss: 0.0067 - reconstruction_loss: 0.0064\n",
            "Epoch 54/100\n",
            "\u001b[1m21/21\u001b[0m \u001b[32m━━━━━━━━━━━━━━━━━━━━\u001b[0m\u001b[37m\u001b[0m \u001b[1m0s\u001b[0m 13ms/step - kl_loss: 0.0269 - loss: 0.0069 - reconstruction_loss: 0.0066\n",
            "Epoch 55/100\n",
            "\u001b[1m21/21\u001b[0m \u001b[32m━━━━━━━━━━━━━━━━━━━━\u001b[0m\u001b[37m\u001b[0m \u001b[1m0s\u001b[0m 13ms/step - kl_loss: 0.0273 - loss: 0.0069 - reconstruction_loss: 0.0066\n",
            "Epoch 56/100\n",
            "\u001b[1m21/21\u001b[0m \u001b[32m━━━━━━━━━━━━━━━━━━━━\u001b[0m\u001b[37m\u001b[0m \u001b[1m0s\u001b[0m 13ms/step - kl_loss: 0.0274 - loss: 0.0069 - reconstruction_loss: 0.0067\n",
            "Epoch 57/100\n",
            "\u001b[1m21/21\u001b[0m \u001b[32m━━━━━━━━━━━━━━━━━━━━\u001b[0m\u001b[37m\u001b[0m \u001b[1m0s\u001b[0m 13ms/step - kl_loss: 0.0280 - loss: 0.0072 - reconstruction_loss: 0.0069\n",
            "Epoch 58/100\n",
            "\u001b[1m21/21\u001b[0m \u001b[32m━━━━━━━━━━━━━━━━━━━━\u001b[0m\u001b[37m\u001b[0m \u001b[1m0s\u001b[0m 13ms/step - kl_loss: 0.0292 - loss: 0.0075 - reconstruction_loss: 0.0072\n",
            "Epoch 59/100\n",
            "\u001b[1m21/21\u001b[0m \u001b[32m━━━━━━━━━━━━━━━━━━━━\u001b[0m\u001b[37m\u001b[0m \u001b[1m0s\u001b[0m 13ms/step - kl_loss: 0.0299 - loss: 0.0076 - reconstruction_loss: 0.0073\n",
            "Epoch 60/100\n",
            "\u001b[1m21/21\u001b[0m \u001b[32m━━━━━━━━━━━━━━━━━━━━\u001b[0m\u001b[37m\u001b[0m \u001b[1m0s\u001b[0m 13ms/step - kl_loss: 0.0291 - loss: 0.0068 - reconstruction_loss: 0.0065\n",
            "Epoch 61/100\n",
            "\u001b[1m21/21\u001b[0m \u001b[32m━━━━━━━━━━━━━━━━━━━━\u001b[0m\u001b[37m\u001b[0m \u001b[1m0s\u001b[0m 13ms/step - kl_loss: 0.0293 - loss: 0.0066 - reconstruction_loss: 0.0063\n",
            "Epoch 62/100\n",
            "\u001b[1m21/21\u001b[0m \u001b[32m━━━━━━━━━━━━━━━━━━━━\u001b[0m\u001b[37m\u001b[0m \u001b[1m0s\u001b[0m 13ms/step - kl_loss: 0.0270 - loss: 0.0064 - reconstruction_loss: 0.0061\n",
            "Epoch 63/100\n",
            "\u001b[1m21/21\u001b[0m \u001b[32m━━━━━━━━━━━━━━━━━━━━\u001b[0m\u001b[37m\u001b[0m \u001b[1m0s\u001b[0m 13ms/step - kl_loss: 0.0275 - loss: 0.0063 - reconstruction_loss: 0.0060\n",
            "Epoch 64/100\n",
            "\u001b[1m21/21\u001b[0m \u001b[32m━━━━━━━━━━━━━━━━━━━━\u001b[0m\u001b[37m\u001b[0m \u001b[1m0s\u001b[0m 13ms/step - kl_loss: 0.0267 - loss: 0.0061 - reconstruction_loss: 0.0058\n",
            "Epoch 65/100\n",
            "\u001b[1m21/21\u001b[0m \u001b[32m━━━━━━━━━━━━━━━━━━━━\u001b[0m\u001b[37m\u001b[0m \u001b[1m0s\u001b[0m 13ms/step - kl_loss: 0.0269 - loss: 0.0063 - reconstruction_loss: 0.0060\n",
            "Epoch 66/100\n",
            "\u001b[1m21/21\u001b[0m \u001b[32m━━━━━━━━━━━━━━━━━━━━\u001b[0m\u001b[37m\u001b[0m \u001b[1m0s\u001b[0m 13ms/step - kl_loss: 0.0266 - loss: 0.0059 - reconstruction_loss: 0.0057\n",
            "Epoch 67/100\n",
            "\u001b[1m21/21\u001b[0m \u001b[32m━━━━━━━━━━━━━━━━━━━━\u001b[0m\u001b[37m\u001b[0m \u001b[1m0s\u001b[0m 13ms/step - kl_loss: 0.0260 - loss: 0.0062 - reconstruction_loss: 0.0059\n",
            "Epoch 68/100\n",
            "\u001b[1m21/21\u001b[0m \u001b[32m━━━━━━━━━━━━━━━━━━━━\u001b[0m\u001b[37m\u001b[0m \u001b[1m0s\u001b[0m 14ms/step - kl_loss: 0.0256 - loss: 0.0064 - reconstruction_loss: 0.0061\n",
            "Epoch 69/100\n",
            "\u001b[1m21/21\u001b[0m \u001b[32m━━━━━━━━━━━━━━━━━━━━\u001b[0m\u001b[37m\u001b[0m \u001b[1m0s\u001b[0m 13ms/step - kl_loss: 0.0270 - loss: 0.0066 - reconstruction_loss: 0.0063\n",
            "Epoch 70/100\n",
            "\u001b[1m21/21\u001b[0m \u001b[32m━━━━━━━━━━━━━━━━━━━━\u001b[0m\u001b[37m\u001b[0m \u001b[1m0s\u001b[0m 13ms/step - kl_loss: 0.0277 - loss: 0.0063 - reconstruction_loss: 0.0061\n",
            "Epoch 71/100\n",
            "\u001b[1m21/21\u001b[0m \u001b[32m━━━━━━━━━━━━━━━━━━━━\u001b[0m\u001b[37m\u001b[0m \u001b[1m0s\u001b[0m 14ms/step - kl_loss: 0.0267 - loss: 0.0063 - reconstruction_loss: 0.0060\n",
            "Epoch 72/100\n",
            "\u001b[1m21/21\u001b[0m \u001b[32m━━━━━━━━━━━━━━━━━━━━\u001b[0m\u001b[37m\u001b[0m \u001b[1m0s\u001b[0m 13ms/step - kl_loss: 0.0264 - loss: 0.0059 - reconstruction_loss: 0.0056\n",
            "Epoch 73/100\n",
            "\u001b[1m21/21\u001b[0m \u001b[32m━━━━━━━━━━━━━━━━━━━━\u001b[0m\u001b[37m\u001b[0m \u001b[1m0s\u001b[0m 13ms/step - kl_loss: 0.0256 - loss: 0.0058 - reconstruction_loss: 0.0056\n",
            "Epoch 74/100\n",
            "\u001b[1m21/21\u001b[0m \u001b[32m━━━━━━━━━━━━━━━━━━━━\u001b[0m\u001b[37m\u001b[0m \u001b[1m0s\u001b[0m 13ms/step - kl_loss: 0.0251 - loss: 0.0059 - reconstruction_loss: 0.0056\n",
            "Epoch 75/100\n",
            "\u001b[1m21/21\u001b[0m \u001b[32m━━━━━━━━━━━━━━━━━━━━\u001b[0m\u001b[37m\u001b[0m \u001b[1m0s\u001b[0m 13ms/step - kl_loss: 0.0252 - loss: 0.0058 - reconstruction_loss: 0.0055\n",
            "Epoch 76/100\n",
            "\u001b[1m21/21\u001b[0m \u001b[32m━━━━━━━━━━━━━━━━━━━━\u001b[0m\u001b[37m\u001b[0m \u001b[1m0s\u001b[0m 14ms/step - kl_loss: 0.0249 - loss: 0.0058 - reconstruction_loss: 0.0056\n",
            "Epoch 77/100\n",
            "\u001b[1m21/21\u001b[0m \u001b[32m━━━━━━━━━━━━━━━━━━━━\u001b[0m\u001b[37m\u001b[0m \u001b[1m0s\u001b[0m 13ms/step - kl_loss: 0.0247 - loss: 0.0060 - reconstruction_loss: 0.0057\n",
            "Epoch 78/100\n",
            "\u001b[1m21/21\u001b[0m \u001b[32m━━━━━━━━━━━━━━━━━━━━\u001b[0m\u001b[37m\u001b[0m \u001b[1m0s\u001b[0m 13ms/step - kl_loss: 0.0248 - loss: 0.0061 - reconstruction_loss: 0.0059\n",
            "Epoch 79/100\n",
            "\u001b[1m21/21\u001b[0m \u001b[32m━━━━━━━━━━━━━━━━━━━━\u001b[0m\u001b[37m\u001b[0m \u001b[1m0s\u001b[0m 13ms/step - kl_loss: 0.0256 - loss: 0.0064 - reconstruction_loss: 0.0062\n",
            "Epoch 80/100\n",
            "\u001b[1m21/21\u001b[0m \u001b[32m━━━━━━━━━━━━━━━━━━━━\u001b[0m\u001b[37m\u001b[0m \u001b[1m0s\u001b[0m 13ms/step - kl_loss: 0.0260 - loss: 0.0065 - reconstruction_loss: 0.0063\n",
            "Epoch 81/100\n",
            "\u001b[1m21/21\u001b[0m \u001b[32m━━━━━━━━━━━━━━━━━━━━\u001b[0m\u001b[37m\u001b[0m \u001b[1m0s\u001b[0m 13ms/step - kl_loss: 0.0279 - loss: 0.0071 - reconstruction_loss: 0.0068\n",
            "Epoch 82/100\n",
            "\u001b[1m21/21\u001b[0m \u001b[32m━━━━━━━━━━━━━━━━━━━━\u001b[0m\u001b[37m\u001b[0m \u001b[1m0s\u001b[0m 13ms/step - kl_loss: 0.0271 - loss: 0.0070 - reconstruction_loss: 0.0067\n",
            "Epoch 83/100\n",
            "\u001b[1m21/21\u001b[0m \u001b[32m━━━━━━━━━━━━━━━━━━━━\u001b[0m\u001b[37m\u001b[0m \u001b[1m0s\u001b[0m 13ms/step - kl_loss: 0.0293 - loss: 0.0068 - reconstruction_loss: 0.0065\n",
            "Epoch 84/100\n",
            "\u001b[1m21/21\u001b[0m \u001b[32m━━━━━━━━━━━━━━━━━━━━\u001b[0m\u001b[37m\u001b[0m \u001b[1m0s\u001b[0m 13ms/step - kl_loss: 0.0283 - loss: 0.0066 - reconstruction_loss: 0.0063\n",
            "Epoch 85/100\n",
            "\u001b[1m21/21\u001b[0m \u001b[32m━━━━━━━━━━━━━━━━━━━━\u001b[0m\u001b[37m\u001b[0m \u001b[1m0s\u001b[0m 13ms/step - kl_loss: 0.0283 - loss: 0.0064 - reconstruction_loss: 0.0061\n",
            "Epoch 86/100\n",
            "\u001b[1m21/21\u001b[0m \u001b[32m━━━━━━━━━━━━━━━━━━━━\u001b[0m\u001b[37m\u001b[0m \u001b[1m0s\u001b[0m 13ms/step - kl_loss: 0.0278 - loss: 0.0062 - reconstruction_loss: 0.0059\n",
            "Epoch 87/100\n",
            "\u001b[1m21/21\u001b[0m \u001b[32m━━━━━━━━━━━━━━━━━━━━\u001b[0m\u001b[37m\u001b[0m \u001b[1m0s\u001b[0m 13ms/step - kl_loss: 0.0276 - loss: 0.0060 - reconstruction_loss: 0.0057\n",
            "Epoch 88/100\n",
            "\u001b[1m21/21\u001b[0m \u001b[32m━━━━━━━━━━━━━━━━━━━━\u001b[0m\u001b[37m\u001b[0m \u001b[1m0s\u001b[0m 13ms/step - kl_loss: 0.0263 - loss: 0.0057 - reconstruction_loss: 0.0054\n",
            "Epoch 89/100\n",
            "\u001b[1m21/21\u001b[0m \u001b[32m━━━━━━━━━━━━━━━━━━━━\u001b[0m\u001b[37m\u001b[0m \u001b[1m0s\u001b[0m 13ms/step - kl_loss: 0.0258 - loss: 0.0055 - reconstruction_loss: 0.0053\n",
            "Epoch 90/100\n",
            "\u001b[1m21/21\u001b[0m \u001b[32m━━━━━━━━━━━━━━━━━━━━\u001b[0m\u001b[37m\u001b[0m \u001b[1m0s\u001b[0m 13ms/step - kl_loss: 0.0254 - loss: 0.0055 - reconstruction_loss: 0.0052\n",
            "Epoch 91/100\n",
            "\u001b[1m21/21\u001b[0m \u001b[32m━━━━━━━━━━━━━━━━━━━━\u001b[0m\u001b[37m\u001b[0m \u001b[1m0s\u001b[0m 13ms/step - kl_loss: 0.0252 - loss: 0.0053 - reconstruction_loss: 0.0051\n",
            "Epoch 92/100\n",
            "\u001b[1m21/21\u001b[0m \u001b[32m━━━━━━━━━━━━━━━━━━━━\u001b[0m\u001b[37m\u001b[0m \u001b[1m0s\u001b[0m 13ms/step - kl_loss: 0.0249 - loss: 0.0053 - reconstruction_loss: 0.0051\n",
            "Epoch 93/100\n",
            "\u001b[1m21/21\u001b[0m \u001b[32m━━━━━━━━━━━━━━━━━━━━\u001b[0m\u001b[37m\u001b[0m \u001b[1m0s\u001b[0m 13ms/step - kl_loss: 0.0236 - loss: 0.0054 - reconstruction_loss: 0.0051\n",
            "Epoch 94/100\n",
            "\u001b[1m21/21\u001b[0m \u001b[32m━━━━━━━━━━━━━━━━━━━━\u001b[0m\u001b[37m\u001b[0m \u001b[1m0s\u001b[0m 13ms/step - kl_loss: 0.0236 - loss: 0.0054 - reconstruction_loss: 0.0052\n",
            "Epoch 95/100\n",
            "\u001b[1m21/21\u001b[0m \u001b[32m━━━━━━━━━━━━━━━━━━━━\u001b[0m\u001b[37m\u001b[0m \u001b[1m0s\u001b[0m 13ms/step - kl_loss: 0.0232 - loss: 0.0053 - reconstruction_loss: 0.0051\n",
            "Epoch 96/100\n",
            "\u001b[1m21/21\u001b[0m \u001b[32m━━━━━━━━━━━━━━━━━━━━\u001b[0m\u001b[37m\u001b[0m \u001b[1m0s\u001b[0m 13ms/step - kl_loss: 0.0240 - loss: 0.0054 - reconstruction_loss: 0.0052\n",
            "Epoch 97/100\n",
            "\u001b[1m21/21\u001b[0m \u001b[32m━━━━━━━━━━━━━━━━━━━━\u001b[0m\u001b[37m\u001b[0m \u001b[1m0s\u001b[0m 13ms/step - kl_loss: 0.0233 - loss: 0.0054 - reconstruction_loss: 0.0052\n",
            "Epoch 98/100\n",
            "\u001b[1m21/21\u001b[0m \u001b[32m━━━━━━━━━━━━━━━━━━━━\u001b[0m\u001b[37m\u001b[0m \u001b[1m0s\u001b[0m 13ms/step - kl_loss: 0.0232 - loss: 0.0054 - reconstruction_loss: 0.0052\n",
            "Epoch 99/100\n",
            "\u001b[1m21/21\u001b[0m \u001b[32m━━━━━━━━━━━━━━━━━━━━\u001b[0m\u001b[37m\u001b[0m \u001b[1m0s\u001b[0m 13ms/step - kl_loss: 0.0230 - loss: 0.0054 - reconstruction_loss: 0.0052\n",
            "Epoch 100/100\n",
            "\u001b[1m21/21\u001b[0m \u001b[32m━━━━━━━━━━━━━━━━━━━━\u001b[0m\u001b[37m\u001b[0m \u001b[1m0s\u001b[0m 13ms/step - kl_loss: 0.0231 - loss: 0.0055 - reconstruction_loss: 0.0052\n"
          ]
        },
        {
          "output_type": "execute_result",
          "data": {
            "text/plain": [
              "<keras.src.callbacks.history.History at 0x7c58d7070c90>"
            ]
          },
          "metadata": {},
          "execution_count": 75
        }
      ]
    },
    {
      "cell_type": "markdown",
      "source": [
        "## Génération d'un vecteur latent V\n",
        "## Etape 1 : Sélection d'une image originale\n",
        "\n",
        "*   Exemple pour la 1ère image du tableau data : image_originale=data[0:1]\n",
        "\n",
        "*   Attention : vérifier que l'image est bien de taille (1, 128, 128, 3)"
      ],
      "metadata": {
        "id": "92W59avUiGKX"
      },
      "id": "92W59avUiGKX"
    },
    {
      "cell_type": "code",
      "source": [
        "image_originale=data[0:1]\n",
        "image_originale.shape\n",
        "# Image must be of shape (1, 128, 128, 3)"
      ],
      "metadata": {
        "colab": {
          "base_uri": "https://localhost:8080/"
        },
        "id": "4ErzoPEbW5h6",
        "outputId": "06e141f9-0b4e-4429-8acc-3f6dc20418a9"
      },
      "id": "4ErzoPEbW5h6",
      "execution_count": 26,
      "outputs": [
        {
          "output_type": "execute_result",
          "data": {
            "text/plain": [
              "(1, 128, 128, 3)"
            ]
          },
          "metadata": {},
          "execution_count": 26
        }
      ]
    },
    {
      "cell_type": "markdown",
      "source": [
        "## Etape 2 : Calcul d'un vecteur latent V\n",
        "\n",
        "\n",
        "*   V=cvae.encoder.predict(image_originale, batch_size=32)[0]"
      ],
      "metadata": {
        "id": "AS2akkiiiJkg"
      },
      "id": "AS2akkiiiJkg"
    },
    {
      "cell_type": "code",
      "source": [
        "V, _, _ = cvae.encoder.predict(image_originale, batch_size=32)\n",
        "print(type(V))\n",
        "print(V[0])"
      ],
      "metadata": {
        "colab": {
          "base_uri": "https://localhost:8080/"
        },
        "id": "eypW-vNAXqIq",
        "outputId": "db6c2074-a357-4d94-90d2-317e77b378fd"
      },
      "id": "eypW-vNAXqIq",
      "execution_count": 39,
      "outputs": [
        {
          "output_type": "stream",
          "name": "stdout",
          "text": [
            "\u001b[1m1/1\u001b[0m \u001b[32m━━━━━━━━━━━━━━━━━━━━\u001b[0m\u001b[37m\u001b[0m \u001b[1m0s\u001b[0m 52ms/step\n",
            "<class 'numpy.ndarray'>\n",
            "[-0.07510331  0.04646544  0.01814201 -0.01891414 -0.05349591  0.01313474\n",
            "  0.08615145 -0.04960686 -0.0458586   0.01984057  0.03916124  0.03957833\n",
            "  0.00065811  0.11809817  0.00359281 -0.05322983  0.05175439  0.00796879\n",
            "  0.0100507   0.01836541 -0.0073023  -0.00641062  0.00794914  0.07876935\n",
            "  0.01018884  0.08223625 -0.06521286 -0.02908887 -0.04657332 -0.11676531\n",
            "  0.05393887  0.00438048]\n"
          ]
        }
      ]
    },
    {
      "cell_type": "markdown",
      "source": [
        "## Construction d'une image à partir du vecteur latent V\n",
        "\n",
        "## Etape 1 : Reconstitution d'une nouvelle image\n",
        "\n",
        "\n",
        "*   nouvelle_image = cvae.decoder.predict([V])\n",
        "\n",
        "\n"
      ],
      "metadata": {
        "id": "6JHJEELriQYA"
      },
      "id": "6JHJEELriQYA"
    },
    {
      "cell_type": "code",
      "source": [
        "nouvelle_image = cvae.decoder.predict([V])\n",
        "print(nouvelle_image.shape)"
      ],
      "metadata": {
        "colab": {
          "base_uri": "https://localhost:8080/"
        },
        "id": "pEFAr_3ChjlY",
        "outputId": "52e8bdc4-c6b2-4b62-8af7-5ca3d37ab537"
      },
      "id": "pEFAr_3ChjlY",
      "execution_count": 28,
      "outputs": [
        {
          "output_type": "stream",
          "name": "stdout",
          "text": [
            "\u001b[1m1/1\u001b[0m \u001b[32m━━━━━━━━━━━━━━━━━━━━\u001b[0m\u001b[37m\u001b[0m \u001b[1m1s\u001b[0m 504ms/step\n",
            "(1, 128, 128, 3)\n"
          ]
        }
      ]
    },
    {
      "cell_type": "markdown",
      "source": [
        "## Etape 2 : Affichage"
      ],
      "metadata": {
        "id": "H7R69nL6lLNl"
      },
      "id": "H7R69nL6lLNl"
    },
    {
      "cell_type": "code",
      "source": [
        "plt.figure(figsize=(4, 2))\n",
        "plt.subplot(1, 2, 1)\n",
        "plt.title(\"Portrait original\")\n",
        "plt.imshow(image_originale[0])\n",
        "plt.axis('off')\n",
        "\n",
        "\n",
        "plt.subplot(1, 2, 2)\n",
        "plt.title(\"Portrait reconstruit\")\n",
        "plt.imshow(nouvelle_image[0])\n",
        "plt.axis('off')\n",
        "plt.show()"
      ],
      "metadata": {
        "colab": {
          "base_uri": "https://localhost:8080/",
          "height": 200
        },
        "id": "IjwJ9thNhu_1",
        "outputId": "aefefeb2-dc71-48b0-cc67-22f7cd44ad02"
      },
      "id": "IjwJ9thNhu_1",
      "execution_count": 29,
      "outputs": [
        {
          "output_type": "display_data",
          "data": {
            "text/plain": [
              "<Figure size 400x200 with 2 Axes>"
            ],
            "image/png": "[encoded data removed]"
          },
          "metadata": {}
        }
      ]
    },
    {
      "cell_type": "markdown",
      "source": [
        "# Générer plusieurs vecteurs latents à partir d'images"
      ],
      "metadata": {
        "id": "c7iSxtAkBapJ"
      },
      "id": "c7iSxtAkBapJ"
    },
    {
      "cell_type": "markdown",
      "source": [
        "## Etape 1 : Sélection des images\n",
        "*   Exemple pour les 10ème et 11ème images du tableau data : images_originales=data[10:12]"
      ],
      "metadata": {
        "id": "oX1UzoXFEFCI"
      },
      "id": "oX1UzoXFEFCI"
    },
    {
      "cell_type": "code",
      "source": [
        "images_originales=data[10:14]\n",
        "images_originales.shape"
      ],
      "metadata": {
        "colab": {
          "base_uri": "https://localhost:8080/"
        },
        "id": "LiS6RbMqV0hj",
        "outputId": "4f8bed78-88ab-4c0d-ef17-9d82ef171230"
      },
      "id": "LiS6RbMqV0hj",
      "execution_count": 42,
      "outputs": [
        {
          "output_type": "execute_result",
          "data": {
            "text/plain": [
              "(4, 128, 128, 3)"
            ]
          },
          "metadata": {},
          "execution_count": 42
        }
      ]
    },
    {
      "cell_type": "markdown",
      "source": [
        "## Etape 2 : Calcul d'une matrice V contenant les vecteurs latents\n",
        "\n",
        "*  V=cvae.encoder.predict(image_originale, batch_size=32)[0]\n"
      ],
      "metadata": {
        "id": "vdATPIc7Faqf"
      },
      "id": "vdATPIc7Faqf"
    },
    {
      "cell_type": "code",
      "source": [
        "V, _, _ = cvae.encoder.predict(images_originales, batch_size=32)\n",
        "print(V[0])"
      ],
      "metadata": {
        "colab": {
          "base_uri": "https://localhost:8080/"
        },
        "id": "DsEvMHxAWAmE",
        "outputId": "d4c5e383-3d63-4142-afa7-cd75b5782f45"
      },
      "id": "DsEvMHxAWAmE",
      "execution_count": 44,
      "outputs": [
        {
          "output_type": "stream",
          "name": "stdout",
          "text": [
            "\u001b[1m1/1\u001b[0m \u001b[32m━━━━━━━━━━━━━━━━━━━━\u001b[0m\u001b[37m\u001b[0m \u001b[1m0s\u001b[0m 36ms/step\n",
            "[ 0.0006391   0.01844062 -0.01775628  0.05146885  0.0316149  -0.04165341\n",
            " -0.06127427 -0.01313625 -0.02049509 -0.01231177 -0.03670804 -0.14858207\n",
            "  0.01983303 -0.02043871  0.04200295 -0.00887425 -0.0099792  -0.04653525\n",
            "  0.00512034 -0.08292814  0.05286478  0.06624622 -0.00098277 -0.07206697\n",
            "  0.00833195  0.07773305  0.01859467 -0.0234019  -0.00263667  0.05177327\n",
            "  0.05712711 -0.00490731]\n"
          ]
        }
      ]
    },
    {
      "cell_type": "markdown",
      "source": [
        "# Générer plusieurs images latents à partir de plusieurs vecteurs latents\n",
        "\n",
        "## Etape 1 : Reconstitution des nouvelles images\n",
        "\n",
        "\n",
        "*   nouvelles_images = cvae.decoder.predict([V])\n"
      ],
      "metadata": {
        "id": "yDvpvhmRF1or"
      },
      "id": "yDvpvhmRF1or"
    },
    {
      "cell_type": "code",
      "source": [
        "nouvelles_images = cvae.decoder.predict([V])\n",
        "print(nouvelles_images.shape)"
      ],
      "metadata": {
        "colab": {
          "base_uri": "https://localhost:8080/",
          "height": 162
        },
        "id": "wCWF5XhDWG_s",
        "outputId": "261e6354-2634-410a-9097-4bd50095b12e"
      },
      "id": "wCWF5XhDWG_s",
      "execution_count": 1,
      "outputs": [
        {
          "output_type": "error",
          "ename": "NameError",
          "evalue": "name 'cvae' is not defined",
          "traceback": [
            "\u001b[0;31m---------------------------------------------------------------------------\u001b[0m",
            "\u001b[0;31mNameError\u001b[0m                                 Traceback (most recent call last)",
            "\u001b[0;32m<ipython-input-1-8e4172990e06>\u001b[0m in \u001b[0;36m<cell line: 0>\u001b[0;34m()\u001b[0m\n\u001b[0;32m----> 1\u001b[0;31m \u001b[0mnouvelles_images\u001b[0m \u001b[0;34m=\u001b[0m \u001b[0mcvae\u001b[0m\u001b[0;34m.\u001b[0m\u001b[0mdecoder\u001b[0m\u001b[0;34m.\u001b[0m\u001b[0mpredict\u001b[0m\u001b[0;34m(\u001b[0m\u001b[0;34m[\u001b[0m\u001b[0mV\u001b[0m\u001b[0;34m]\u001b[0m\u001b[0;34m)\u001b[0m\u001b[0;34m\u001b[0m\u001b[0;34m\u001b[0m\u001b[0m\n\u001b[0m\u001b[1;32m      2\u001b[0m \u001b[0mprint\u001b[0m\u001b[0;34m(\u001b[0m\u001b[0mnouvelles_images\u001b[0m\u001b[0;34m.\u001b[0m\u001b[0mshape\u001b[0m\u001b[0;34m)\u001b[0m\u001b[0;34m\u001b[0m\u001b[0;34m\u001b[0m\u001b[0m\n",
            "\u001b[0;31mNameError\u001b[0m: name 'cvae' is not defined"
          ]
        }
      ]
    },
    {
      "cell_type": "markdown",
      "source": [
        "## Etape 2 : Affichage"
      ],
      "metadata": {
        "id": "JxX0SmGiGFPr"
      },
      "id": "JxX0SmGiGFPr"
    },
    {
      "cell_type": "code",
      "source": [
        "plt.figure(figsize =(4, 2))\n",
        "plt.subplot(2, 2, 1)\n",
        "plt.title(\"Portrait original 1\")\n",
        "plt.imshow(images_originales[0])\n",
        "plt.axis('off')\n",
        "\n",
        "plt.subplot(2, 2, 2)\n",
        "plt.title(\"Nouveau portrait 1\")\n",
        "plt.imshow(images_originales[0])\n",
        "plt.axis('off')\n",
        "\n",
        "plt.subplot(2, 2, 3)\n",
        "plt.title(\"Portrait original 2\")\n",
        "plt.imshow(nouvelles_images[1])\n",
        "plt.axis('off')\n",
        "\n",
        "\n",
        "\n",
        "plt.subplot(2, 2, 4)\n",
        "plt.title(\"Nouveau portrait 2\")\n",
        "plt.imshow(nouvelles_images[1])\n",
        "plt.axis('off')\n",
        "plt.show()\n"
      ],
      "metadata": {
        "id": "_-B8sMO9WMeC"
      },
      "id": "_-B8sMO9WMeC",
      "execution_count": null,
      "outputs": []
    }
  ],
  "metadata": {
    "kernelspec": {
      "display_name": "Python 3",
      "name": "python3"
    },
    "language_info": {
      "codemirror_mode": {
        "name": "ipython",
        "version": 3
      },
      "file_extension": ".py",
      "mimetype": "text/x-python",
      "name": "python",
      "nbconvert_exporter": "python",
      "pygments_lexer": "ipython3",
      "version": "3.9.12"
    },
    "colab": {
      "provenance": [],
      "gpuType": "A100",
      "machine_shape": "hm",
      "collapsed_sections": [
        "6eRBCzdBHE9q",
        "92W59avUiGKX",
        "AS2akkiiiJkg",
        "6JHJEELriQYA",
        "H7R69nL6lLNl",
        "c7iSxtAkBapJ"
      ]
    },
    "accelerator": "GPU"
  },
  "nbformat": 4,
  "nbformat_minor": 5
}